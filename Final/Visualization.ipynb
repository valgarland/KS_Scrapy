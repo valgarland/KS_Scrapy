{
 "cells": [
  {
   "cell_type": "code",
   "execution_count": 1,
   "metadata": {},
   "outputs": [
    {
     "data": {
      "text/html": [
       "        <script type=\"text/javascript\">\n",
       "        window.PlotlyConfig = {MathJaxConfig: 'local'};\n",
       "        if (window.MathJax) {MathJax.Hub.Config({SVG: {font: \"STIX-Web\"}});}\n",
       "        if (typeof require !== 'undefined') {\n",
       "        require.undef(\"plotly\");\n",
       "        requirejs.config({\n",
       "            paths: {\n",
       "                'plotly': ['https://cdn.plot.ly/plotly-latest.min']\n",
       "            }\n",
       "        });\n",
       "        require(['plotly'], function(Plotly) {\n",
       "            window._Plotly = Plotly;\n",
       "        });\n",
       "        }\n",
       "        </script>\n",
       "        "
      ]
     },
     "metadata": {},
     "output_type": "display_data"
    }
   ],
   "source": [
    "import numpy as np\n",
    "import pandas as pd\n",
    "import plotly\n",
    "import plotly.graph_objects as go\n",
    "plotly.offline.init_notebook_mode(connected=True)"
   ]
  },
  {
   "cell_type": "code",
   "execution_count": 2,
   "metadata": {},
   "outputs": [],
   "source": [
    "df = pd.read_csv('../Data Cleaning/KS_Cleaned.csv')"
   ]
  },
  {
   "cell_type": "markdown",
   "metadata": {},
   "source": [
    "### Recipes by Author Group"
   ]
  },
  {
   "cell_type": "code",
   "execution_count": 3,
   "metadata": {
    "scrolled": true
   },
   "outputs": [
    {
     "data": {
      "text/plain": [
       "Community Member    442\n",
       "KS Team              95\n",
       "Contributor          67\n",
       "Partner               2\n",
       "Name: author_group, dtype: int64"
      ]
     },
     "execution_count": 3,
     "metadata": {},
     "output_type": "execute_result"
    }
   ],
   "source": [
    "df['author_group'].value_counts()"
   ]
  },
  {
   "cell_type": "code",
   "execution_count": 4,
   "metadata": {},
   "outputs": [],
   "source": [
    "author_df = pd.DataFrame(df['author_group'].value_counts().sort_values(ascending=False).reset_index())\n",
    "author_df = author_df.rename(columns={\"index\": \"author_type\", \"author_group\": \"recipes\"})"
   ]
  },
  {
   "cell_type": "code",
   "execution_count": 5,
   "metadata": {
    "scrolled": false
   },
   "outputs": [
    {
     "data": {
      "application/vnd.plotly.v1+json": {
       "config": {
        "plotlyServerURL": "https://plot.ly"
       },
       "data": [
        {
         "marker": {
          "color": [
           "rgb(27, 103, 224)",
           "rgb(237, 169, 21)",
           "rgb(68, 128, 19)",
           "rgb(129, 50, 168)"
          ]
         },
         "text": [
          442,
          95,
          67,
          2
         ],
         "textposition": "auto",
         "type": "bar",
         "width": [
          0.6,
          0.6,
          0.6,
          0.6
         ],
         "x": [
          "Community Member",
          "KS Team",
          "Contributor",
          "Partner"
         ],
         "y": [
          442,
          95,
          67,
          2
         ]
        }
       ],
       "layout": {
        "bargap": 0.05,
        "font": {
         "color": "rgb(31,33,36)",
         "family": "Arial",
         "size": 18
        },
        "paper_bgcolor": "rgba(0,0,0,0)",
        "plot_bgcolor": "rgba(0,0,0,0)",
        "template": {
         "data": {
          "bar": [
           {
            "error_x": {
             "color": "#2a3f5f"
            },
            "error_y": {
             "color": "#2a3f5f"
            },
            "marker": {
             "line": {
              "color": "#E5ECF6",
              "width": 0.5
             }
            },
            "type": "bar"
           }
          ],
          "barpolar": [
           {
            "marker": {
             "line": {
              "color": "#E5ECF6",
              "width": 0.5
             }
            },
            "type": "barpolar"
           }
          ],
          "carpet": [
           {
            "aaxis": {
             "endlinecolor": "#2a3f5f",
             "gridcolor": "white",
             "linecolor": "white",
             "minorgridcolor": "white",
             "startlinecolor": "#2a3f5f"
            },
            "baxis": {
             "endlinecolor": "#2a3f5f",
             "gridcolor": "white",
             "linecolor": "white",
             "minorgridcolor": "white",
             "startlinecolor": "#2a3f5f"
            },
            "type": "carpet"
           }
          ],
          "choropleth": [
           {
            "colorbar": {
             "outlinewidth": 0,
             "ticks": ""
            },
            "type": "choropleth"
           }
          ],
          "contour": [
           {
            "colorbar": {
             "outlinewidth": 0,
             "ticks": ""
            },
            "colorscale": [
             [
              0,
              "#0d0887"
             ],
             [
              0.1111111111111111,
              "#46039f"
             ],
             [
              0.2222222222222222,
              "#7201a8"
             ],
             [
              0.3333333333333333,
              "#9c179e"
             ],
             [
              0.4444444444444444,
              "#bd3786"
             ],
             [
              0.5555555555555556,
              "#d8576b"
             ],
             [
              0.6666666666666666,
              "#ed7953"
             ],
             [
              0.7777777777777778,
              "#fb9f3a"
             ],
             [
              0.8888888888888888,
              "#fdca26"
             ],
             [
              1,
              "#f0f921"
             ]
            ],
            "type": "contour"
           }
          ],
          "contourcarpet": [
           {
            "colorbar": {
             "outlinewidth": 0,
             "ticks": ""
            },
            "type": "contourcarpet"
           }
          ],
          "heatmap": [
           {
            "colorbar": {
             "outlinewidth": 0,
             "ticks": ""
            },
            "colorscale": [
             [
              0,
              "#0d0887"
             ],
             [
              0.1111111111111111,
              "#46039f"
             ],
             [
              0.2222222222222222,
              "#7201a8"
             ],
             [
              0.3333333333333333,
              "#9c179e"
             ],
             [
              0.4444444444444444,
              "#bd3786"
             ],
             [
              0.5555555555555556,
              "#d8576b"
             ],
             [
              0.6666666666666666,
              "#ed7953"
             ],
             [
              0.7777777777777778,
              "#fb9f3a"
             ],
             [
              0.8888888888888888,
              "#fdca26"
             ],
             [
              1,
              "#f0f921"
             ]
            ],
            "type": "heatmap"
           }
          ],
          "heatmapgl": [
           {
            "colorbar": {
             "outlinewidth": 0,
             "ticks": ""
            },
            "colorscale": [
             [
              0,
              "#0d0887"
             ],
             [
              0.1111111111111111,
              "#46039f"
             ],
             [
              0.2222222222222222,
              "#7201a8"
             ],
             [
              0.3333333333333333,
              "#9c179e"
             ],
             [
              0.4444444444444444,
              "#bd3786"
             ],
             [
              0.5555555555555556,
              "#d8576b"
             ],
             [
              0.6666666666666666,
              "#ed7953"
             ],
             [
              0.7777777777777778,
              "#fb9f3a"
             ],
             [
              0.8888888888888888,
              "#fdca26"
             ],
             [
              1,
              "#f0f921"
             ]
            ],
            "type": "heatmapgl"
           }
          ],
          "histogram": [
           {
            "marker": {
             "colorbar": {
              "outlinewidth": 0,
              "ticks": ""
             }
            },
            "type": "histogram"
           }
          ],
          "histogram2d": [
           {
            "colorbar": {
             "outlinewidth": 0,
             "ticks": ""
            },
            "colorscale": [
             [
              0,
              "#0d0887"
             ],
             [
              0.1111111111111111,
              "#46039f"
             ],
             [
              0.2222222222222222,
              "#7201a8"
             ],
             [
              0.3333333333333333,
              "#9c179e"
             ],
             [
              0.4444444444444444,
              "#bd3786"
             ],
             [
              0.5555555555555556,
              "#d8576b"
             ],
             [
              0.6666666666666666,
              "#ed7953"
             ],
             [
              0.7777777777777778,
              "#fb9f3a"
             ],
             [
              0.8888888888888888,
              "#fdca26"
             ],
             [
              1,
              "#f0f921"
             ]
            ],
            "type": "histogram2d"
           }
          ],
          "histogram2dcontour": [
           {
            "colorbar": {
             "outlinewidth": 0,
             "ticks": ""
            },
            "colorscale": [
             [
              0,
              "#0d0887"
             ],
             [
              0.1111111111111111,
              "#46039f"
             ],
             [
              0.2222222222222222,
              "#7201a8"
             ],
             [
              0.3333333333333333,
              "#9c179e"
             ],
             [
              0.4444444444444444,
              "#bd3786"
             ],
             [
              0.5555555555555556,
              "#d8576b"
             ],
             [
              0.6666666666666666,
              "#ed7953"
             ],
             [
              0.7777777777777778,
              "#fb9f3a"
             ],
             [
              0.8888888888888888,
              "#fdca26"
             ],
             [
              1,
              "#f0f921"
             ]
            ],
            "type": "histogram2dcontour"
           }
          ],
          "mesh3d": [
           {
            "colorbar": {
             "outlinewidth": 0,
             "ticks": ""
            },
            "type": "mesh3d"
           }
          ],
          "parcoords": [
           {
            "line": {
             "colorbar": {
              "outlinewidth": 0,
              "ticks": ""
             }
            },
            "type": "parcoords"
           }
          ],
          "pie": [
           {
            "automargin": true,
            "type": "pie"
           }
          ],
          "scatter": [
           {
            "marker": {
             "colorbar": {
              "outlinewidth": 0,
              "ticks": ""
             }
            },
            "type": "scatter"
           }
          ],
          "scatter3d": [
           {
            "line": {
             "colorbar": {
              "outlinewidth": 0,
              "ticks": ""
             }
            },
            "marker": {
             "colorbar": {
              "outlinewidth": 0,
              "ticks": ""
             }
            },
            "type": "scatter3d"
           }
          ],
          "scattercarpet": [
           {
            "marker": {
             "colorbar": {
              "outlinewidth": 0,
              "ticks": ""
             }
            },
            "type": "scattercarpet"
           }
          ],
          "scattergeo": [
           {
            "marker": {
             "colorbar": {
              "outlinewidth": 0,
              "ticks": ""
             }
            },
            "type": "scattergeo"
           }
          ],
          "scattergl": [
           {
            "marker": {
             "colorbar": {
              "outlinewidth": 0,
              "ticks": ""
             }
            },
            "type": "scattergl"
           }
          ],
          "scattermapbox": [
           {
            "marker": {
             "colorbar": {
              "outlinewidth": 0,
              "ticks": ""
             }
            },
            "type": "scattermapbox"
           }
          ],
          "scatterpolar": [
           {
            "marker": {
             "colorbar": {
              "outlinewidth": 0,
              "ticks": ""
             }
            },
            "type": "scatterpolar"
           }
          ],
          "scatterpolargl": [
           {
            "marker": {
             "colorbar": {
              "outlinewidth": 0,
              "ticks": ""
             }
            },
            "type": "scatterpolargl"
           }
          ],
          "scatterternary": [
           {
            "marker": {
             "colorbar": {
              "outlinewidth": 0,
              "ticks": ""
             }
            },
            "type": "scatterternary"
           }
          ],
          "surface": [
           {
            "colorbar": {
             "outlinewidth": 0,
             "ticks": ""
            },
            "colorscale": [
             [
              0,
              "#0d0887"
             ],
             [
              0.1111111111111111,
              "#46039f"
             ],
             [
              0.2222222222222222,
              "#7201a8"
             ],
             [
              0.3333333333333333,
              "#9c179e"
             ],
             [
              0.4444444444444444,
              "#bd3786"
             ],
             [
              0.5555555555555556,
              "#d8576b"
             ],
             [
              0.6666666666666666,
              "#ed7953"
             ],
             [
              0.7777777777777778,
              "#fb9f3a"
             ],
             [
              0.8888888888888888,
              "#fdca26"
             ],
             [
              1,
              "#f0f921"
             ]
            ],
            "type": "surface"
           }
          ],
          "table": [
           {
            "cells": {
             "fill": {
              "color": "#EBF0F8"
             },
             "line": {
              "color": "white"
             }
            },
            "header": {
             "fill": {
              "color": "#C8D4E3"
             },
             "line": {
              "color": "white"
             }
            },
            "type": "table"
           }
          ]
         },
         "layout": {
          "annotationdefaults": {
           "arrowcolor": "#2a3f5f",
           "arrowhead": 0,
           "arrowwidth": 1
          },
          "coloraxis": {
           "colorbar": {
            "outlinewidth": 0,
            "ticks": ""
           }
          },
          "colorscale": {
           "diverging": [
            [
             0,
             "#8e0152"
            ],
            [
             0.1,
             "#c51b7d"
            ],
            [
             0.2,
             "#de77ae"
            ],
            [
             0.3,
             "#f1b6da"
            ],
            [
             0.4,
             "#fde0ef"
            ],
            [
             0.5,
             "#f7f7f7"
            ],
            [
             0.6,
             "#e6f5d0"
            ],
            [
             0.7,
             "#b8e186"
            ],
            [
             0.8,
             "#7fbc41"
            ],
            [
             0.9,
             "#4d9221"
            ],
            [
             1,
             "#276419"
            ]
           ],
           "sequential": [
            [
             0,
             "#0d0887"
            ],
            [
             0.1111111111111111,
             "#46039f"
            ],
            [
             0.2222222222222222,
             "#7201a8"
            ],
            [
             0.3333333333333333,
             "#9c179e"
            ],
            [
             0.4444444444444444,
             "#bd3786"
            ],
            [
             0.5555555555555556,
             "#d8576b"
            ],
            [
             0.6666666666666666,
             "#ed7953"
            ],
            [
             0.7777777777777778,
             "#fb9f3a"
            ],
            [
             0.8888888888888888,
             "#fdca26"
            ],
            [
             1,
             "#f0f921"
            ]
           ],
           "sequentialminus": [
            [
             0,
             "#0d0887"
            ],
            [
             0.1111111111111111,
             "#46039f"
            ],
            [
             0.2222222222222222,
             "#7201a8"
            ],
            [
             0.3333333333333333,
             "#9c179e"
            ],
            [
             0.4444444444444444,
             "#bd3786"
            ],
            [
             0.5555555555555556,
             "#d8576b"
            ],
            [
             0.6666666666666666,
             "#ed7953"
            ],
            [
             0.7777777777777778,
             "#fb9f3a"
            ],
            [
             0.8888888888888888,
             "#fdca26"
            ],
            [
             1,
             "#f0f921"
            ]
           ]
          },
          "colorway": [
           "#636efa",
           "#EF553B",
           "#00cc96",
           "#ab63fa",
           "#FFA15A",
           "#19d3f3",
           "#FF6692",
           "#B6E880",
           "#FF97FF",
           "#FECB52"
          ],
          "font": {
           "color": "#2a3f5f"
          },
          "geo": {
           "bgcolor": "white",
           "lakecolor": "white",
           "landcolor": "#E5ECF6",
           "showlakes": true,
           "showland": true,
           "subunitcolor": "white"
          },
          "hoverlabel": {
           "align": "left"
          },
          "hovermode": "closest",
          "mapbox": {
           "style": "light"
          },
          "paper_bgcolor": "white",
          "plot_bgcolor": "#E5ECF6",
          "polar": {
           "angularaxis": {
            "gridcolor": "white",
            "linecolor": "white",
            "ticks": ""
           },
           "bgcolor": "#E5ECF6",
           "radialaxis": {
            "gridcolor": "white",
            "linecolor": "white",
            "ticks": ""
           }
          },
          "scene": {
           "xaxis": {
            "backgroundcolor": "#E5ECF6",
            "gridcolor": "white",
            "gridwidth": 2,
            "linecolor": "white",
            "showbackground": true,
            "ticks": "",
            "zerolinecolor": "white"
           },
           "yaxis": {
            "backgroundcolor": "#E5ECF6",
            "gridcolor": "white",
            "gridwidth": 2,
            "linecolor": "white",
            "showbackground": true,
            "ticks": "",
            "zerolinecolor": "white"
           },
           "zaxis": {
            "backgroundcolor": "#E5ECF6",
            "gridcolor": "white",
            "gridwidth": 2,
            "linecolor": "white",
            "showbackground": true,
            "ticks": "",
            "zerolinecolor": "white"
           }
          },
          "shapedefaults": {
           "line": {
            "color": "#2a3f5f"
           }
          },
          "ternary": {
           "aaxis": {
            "gridcolor": "white",
            "linecolor": "white",
            "ticks": ""
           },
           "baxis": {
            "gridcolor": "white",
            "linecolor": "white",
            "ticks": ""
           },
           "bgcolor": "#E5ECF6",
           "caxis": {
            "gridcolor": "white",
            "linecolor": "white",
            "ticks": ""
           }
          },
          "title": {
           "x": 0.05
          },
          "xaxis": {
           "automargin": true,
           "gridcolor": "white",
           "linecolor": "white",
           "ticks": "",
           "title": {
            "standoff": 15
           },
           "zerolinecolor": "white",
           "zerolinewidth": 2
          },
          "yaxis": {
           "automargin": true,
           "gridcolor": "white",
           "linecolor": "white",
           "ticks": "",
           "title": {
            "standoff": 15
           },
           "zerolinecolor": "white",
           "zerolinewidth": 2
          }
         }
        },
        "title": {
         "text": "Types of Authors in Kitchen Stories",
         "yanchor": "top"
        },
        "xaxis": {
         "title": {
          "text": "Author Type"
         }
        },
        "yaxis": {
         "title": {
          "text": "Recipes Written"
         }
        }
       }
      },
      "text/html": [
       "<div>                            <div id=\"a0cbd1b4-6684-4078-a15d-80272e991404\" class=\"plotly-graph-div\" style=\"height:525px; width:100%;\"></div>            <script type=\"text/javascript\">                require([\"plotly\"], function(Plotly) {                    window.PLOTLYENV=window.PLOTLYENV || {};                                    if (document.getElementById(\"a0cbd1b4-6684-4078-a15d-80272e991404\")) {                    Plotly.newPlot(                        \"a0cbd1b4-6684-4078-a15d-80272e991404\",                        [{\"marker\": {\"color\": [\"rgb(27, 103, 224)\", \"rgb(237, 169, 21)\", \"rgb(68, 128, 19)\", \"rgb(129, 50, 168)\"]}, \"text\": [442.0, 95.0, 67.0, 2.0], \"textposition\": \"auto\", \"type\": \"bar\", \"width\": [0.6, 0.6, 0.6, 0.6], \"x\": [\"Community Member\", \"KS Team\", \"Contributor\", \"Partner\"], \"y\": [442, 95, 67, 2]}],                        {\"bargap\": 0.05, \"font\": {\"color\": \"rgb(31,33,36)\", \"family\": \"Arial\", \"size\": 18}, \"paper_bgcolor\": \"rgba(0,0,0,0)\", \"plot_bgcolor\": \"rgba(0,0,0,0)\", \"template\": {\"data\": {\"bar\": [{\"error_x\": {\"color\": \"#2a3f5f\"}, \"error_y\": {\"color\": \"#2a3f5f\"}, \"marker\": {\"line\": {\"color\": \"#E5ECF6\", \"width\": 0.5}}, \"type\": \"bar\"}], \"barpolar\": [{\"marker\": {\"line\": {\"color\": \"#E5ECF6\", \"width\": 0.5}}, \"type\": \"barpolar\"}], \"carpet\": [{\"aaxis\": {\"endlinecolor\": \"#2a3f5f\", \"gridcolor\": \"white\", \"linecolor\": \"white\", \"minorgridcolor\": \"white\", \"startlinecolor\": \"#2a3f5f\"}, \"baxis\": {\"endlinecolor\": \"#2a3f5f\", \"gridcolor\": \"white\", \"linecolor\": \"white\", \"minorgridcolor\": \"white\", \"startlinecolor\": \"#2a3f5f\"}, \"type\": \"carpet\"}], \"choropleth\": [{\"colorbar\": {\"outlinewidth\": 0, \"ticks\": \"\"}, \"type\": \"choropleth\"}], \"contour\": [{\"colorbar\": {\"outlinewidth\": 0, \"ticks\": \"\"}, \"colorscale\": [[0.0, \"#0d0887\"], [0.1111111111111111, \"#46039f\"], [0.2222222222222222, \"#7201a8\"], [0.3333333333333333, \"#9c179e\"], [0.4444444444444444, \"#bd3786\"], [0.5555555555555556, \"#d8576b\"], [0.6666666666666666, \"#ed7953\"], [0.7777777777777778, \"#fb9f3a\"], [0.8888888888888888, \"#fdca26\"], [1.0, \"#f0f921\"]], \"type\": \"contour\"}], \"contourcarpet\": [{\"colorbar\": {\"outlinewidth\": 0, \"ticks\": \"\"}, \"type\": \"contourcarpet\"}], \"heatmap\": [{\"colorbar\": {\"outlinewidth\": 0, \"ticks\": \"\"}, \"colorscale\": [[0.0, \"#0d0887\"], [0.1111111111111111, \"#46039f\"], [0.2222222222222222, \"#7201a8\"], [0.3333333333333333, \"#9c179e\"], [0.4444444444444444, \"#bd3786\"], [0.5555555555555556, \"#d8576b\"], [0.6666666666666666, \"#ed7953\"], [0.7777777777777778, \"#fb9f3a\"], [0.8888888888888888, \"#fdca26\"], [1.0, \"#f0f921\"]], \"type\": \"heatmap\"}], \"heatmapgl\": [{\"colorbar\": {\"outlinewidth\": 0, \"ticks\": \"\"}, \"colorscale\": [[0.0, \"#0d0887\"], [0.1111111111111111, \"#46039f\"], [0.2222222222222222, \"#7201a8\"], [0.3333333333333333, \"#9c179e\"], [0.4444444444444444, \"#bd3786\"], [0.5555555555555556, \"#d8576b\"], [0.6666666666666666, \"#ed7953\"], [0.7777777777777778, \"#fb9f3a\"], [0.8888888888888888, \"#fdca26\"], [1.0, \"#f0f921\"]], \"type\": \"heatmapgl\"}], \"histogram\": [{\"marker\": {\"colorbar\": {\"outlinewidth\": 0, \"ticks\": \"\"}}, \"type\": \"histogram\"}], \"histogram2d\": [{\"colorbar\": {\"outlinewidth\": 0, \"ticks\": \"\"}, \"colorscale\": [[0.0, \"#0d0887\"], [0.1111111111111111, \"#46039f\"], [0.2222222222222222, \"#7201a8\"], [0.3333333333333333, \"#9c179e\"], [0.4444444444444444, \"#bd3786\"], [0.5555555555555556, \"#d8576b\"], [0.6666666666666666, \"#ed7953\"], [0.7777777777777778, \"#fb9f3a\"], [0.8888888888888888, \"#fdca26\"], [1.0, \"#f0f921\"]], \"type\": \"histogram2d\"}], \"histogram2dcontour\": [{\"colorbar\": {\"outlinewidth\": 0, \"ticks\": \"\"}, \"colorscale\": [[0.0, \"#0d0887\"], [0.1111111111111111, \"#46039f\"], [0.2222222222222222, \"#7201a8\"], [0.3333333333333333, \"#9c179e\"], [0.4444444444444444, \"#bd3786\"], [0.5555555555555556, \"#d8576b\"], [0.6666666666666666, \"#ed7953\"], [0.7777777777777778, \"#fb9f3a\"], [0.8888888888888888, \"#fdca26\"], [1.0, \"#f0f921\"]], \"type\": \"histogram2dcontour\"}], \"mesh3d\": [{\"colorbar\": {\"outlinewidth\": 0, \"ticks\": \"\"}, \"type\": \"mesh3d\"}], \"parcoords\": [{\"line\": {\"colorbar\": {\"outlinewidth\": 0, \"ticks\": \"\"}}, \"type\": \"parcoords\"}], \"pie\": [{\"automargin\": true, \"type\": \"pie\"}], \"scatter\": [{\"marker\": {\"colorbar\": {\"outlinewidth\": 0, \"ticks\": \"\"}}, \"type\": \"scatter\"}], \"scatter3d\": [{\"line\": {\"colorbar\": {\"outlinewidth\": 0, \"ticks\": \"\"}}, \"marker\": {\"colorbar\": {\"outlinewidth\": 0, \"ticks\": \"\"}}, \"type\": \"scatter3d\"}], \"scattercarpet\": [{\"marker\": {\"colorbar\": {\"outlinewidth\": 0, \"ticks\": \"\"}}, \"type\": \"scattercarpet\"}], \"scattergeo\": [{\"marker\": {\"colorbar\": {\"outlinewidth\": 0, \"ticks\": \"\"}}, \"type\": \"scattergeo\"}], \"scattergl\": [{\"marker\": {\"colorbar\": {\"outlinewidth\": 0, \"ticks\": \"\"}}, \"type\": \"scattergl\"}], \"scattermapbox\": [{\"marker\": {\"colorbar\": {\"outlinewidth\": 0, \"ticks\": \"\"}}, \"type\": \"scattermapbox\"}], \"scatterpolar\": [{\"marker\": {\"colorbar\": {\"outlinewidth\": 0, \"ticks\": \"\"}}, \"type\": \"scatterpolar\"}], \"scatterpolargl\": [{\"marker\": {\"colorbar\": {\"outlinewidth\": 0, \"ticks\": \"\"}}, \"type\": \"scatterpolargl\"}], \"scatterternary\": [{\"marker\": {\"colorbar\": {\"outlinewidth\": 0, \"ticks\": \"\"}}, \"type\": \"scatterternary\"}], \"surface\": [{\"colorbar\": {\"outlinewidth\": 0, \"ticks\": \"\"}, \"colorscale\": [[0.0, \"#0d0887\"], [0.1111111111111111, \"#46039f\"], [0.2222222222222222, \"#7201a8\"], [0.3333333333333333, \"#9c179e\"], [0.4444444444444444, \"#bd3786\"], [0.5555555555555556, \"#d8576b\"], [0.6666666666666666, \"#ed7953\"], [0.7777777777777778, \"#fb9f3a\"], [0.8888888888888888, \"#fdca26\"], [1.0, \"#f0f921\"]], \"type\": \"surface\"}], \"table\": [{\"cells\": {\"fill\": {\"color\": \"#EBF0F8\"}, \"line\": {\"color\": \"white\"}}, \"header\": {\"fill\": {\"color\": \"#C8D4E3\"}, \"line\": {\"color\": \"white\"}}, \"type\": \"table\"}]}, \"layout\": {\"annotationdefaults\": {\"arrowcolor\": \"#2a3f5f\", \"arrowhead\": 0, \"arrowwidth\": 1}, \"coloraxis\": {\"colorbar\": {\"outlinewidth\": 0, \"ticks\": \"\"}}, \"colorscale\": {\"diverging\": [[0, \"#8e0152\"], [0.1, \"#c51b7d\"], [0.2, \"#de77ae\"], [0.3, \"#f1b6da\"], [0.4, \"#fde0ef\"], [0.5, \"#f7f7f7\"], [0.6, \"#e6f5d0\"], [0.7, \"#b8e186\"], [0.8, \"#7fbc41\"], [0.9, \"#4d9221\"], [1, \"#276419\"]], \"sequential\": [[0.0, \"#0d0887\"], [0.1111111111111111, \"#46039f\"], [0.2222222222222222, \"#7201a8\"], [0.3333333333333333, \"#9c179e\"], [0.4444444444444444, \"#bd3786\"], [0.5555555555555556, \"#d8576b\"], [0.6666666666666666, \"#ed7953\"], [0.7777777777777778, \"#fb9f3a\"], [0.8888888888888888, \"#fdca26\"], [1.0, \"#f0f921\"]], \"sequentialminus\": [[0.0, \"#0d0887\"], [0.1111111111111111, \"#46039f\"], [0.2222222222222222, \"#7201a8\"], [0.3333333333333333, \"#9c179e\"], [0.4444444444444444, \"#bd3786\"], [0.5555555555555556, \"#d8576b\"], [0.6666666666666666, \"#ed7953\"], [0.7777777777777778, \"#fb9f3a\"], [0.8888888888888888, \"#fdca26\"], [1.0, \"#f0f921\"]]}, \"colorway\": [\"#636efa\", \"#EF553B\", \"#00cc96\", \"#ab63fa\", \"#FFA15A\", \"#19d3f3\", \"#FF6692\", \"#B6E880\", \"#FF97FF\", \"#FECB52\"], \"font\": {\"color\": \"#2a3f5f\"}, \"geo\": {\"bgcolor\": \"white\", \"lakecolor\": \"white\", \"landcolor\": \"#E5ECF6\", \"showlakes\": true, \"showland\": true, \"subunitcolor\": \"white\"}, \"hoverlabel\": {\"align\": \"left\"}, \"hovermode\": \"closest\", \"mapbox\": {\"style\": \"light\"}, \"paper_bgcolor\": \"white\", \"plot_bgcolor\": \"#E5ECF6\", \"polar\": {\"angularaxis\": {\"gridcolor\": \"white\", \"linecolor\": \"white\", \"ticks\": \"\"}, \"bgcolor\": \"#E5ECF6\", \"radialaxis\": {\"gridcolor\": \"white\", \"linecolor\": \"white\", \"ticks\": \"\"}}, \"scene\": {\"xaxis\": {\"backgroundcolor\": \"#E5ECF6\", \"gridcolor\": \"white\", \"gridwidth\": 2, \"linecolor\": \"white\", \"showbackground\": true, \"ticks\": \"\", \"zerolinecolor\": \"white\"}, \"yaxis\": {\"backgroundcolor\": \"#E5ECF6\", \"gridcolor\": \"white\", \"gridwidth\": 2, \"linecolor\": \"white\", \"showbackground\": true, \"ticks\": \"\", \"zerolinecolor\": \"white\"}, \"zaxis\": {\"backgroundcolor\": \"#E5ECF6\", \"gridcolor\": \"white\", \"gridwidth\": 2, \"linecolor\": \"white\", \"showbackground\": true, \"ticks\": \"\", \"zerolinecolor\": \"white\"}}, \"shapedefaults\": {\"line\": {\"color\": \"#2a3f5f\"}}, \"ternary\": {\"aaxis\": {\"gridcolor\": \"white\", \"linecolor\": \"white\", \"ticks\": \"\"}, \"baxis\": {\"gridcolor\": \"white\", \"linecolor\": \"white\", \"ticks\": \"\"}, \"bgcolor\": \"#E5ECF6\", \"caxis\": {\"gridcolor\": \"white\", \"linecolor\": \"white\", \"ticks\": \"\"}}, \"title\": {\"x\": 0.05}, \"xaxis\": {\"automargin\": true, \"gridcolor\": \"white\", \"linecolor\": \"white\", \"ticks\": \"\", \"title\": {\"standoff\": 15}, \"zerolinecolor\": \"white\", \"zerolinewidth\": 2}, \"yaxis\": {\"automargin\": true, \"gridcolor\": \"white\", \"linecolor\": \"white\", \"ticks\": \"\", \"title\": {\"standoff\": 15}, \"zerolinecolor\": \"white\", \"zerolinewidth\": 2}}}, \"title\": {\"text\": \"Types of Authors in Kitchen Stories\", \"yanchor\": \"top\"}, \"xaxis\": {\"title\": {\"text\": \"Author Type\"}}, \"yaxis\": {\"title\": {\"text\": \"Recipes Written\"}}},                        {\"responsive\": true}                    ).then(function(){\n",
       "                            \n",
       "var gd = document.getElementById('a0cbd1b4-6684-4078-a15d-80272e991404');\n",
       "var x = new MutationObserver(function (mutations, observer) {{\n",
       "        var display = window.getComputedStyle(gd).display;\n",
       "        if (!display || display === 'none') {{\n",
       "            console.log([gd, 'removed!']);\n",
       "            Plotly.purge(gd);\n",
       "            observer.disconnect();\n",
       "        }}\n",
       "}});\n",
       "\n",
       "// Listen for the removal of the full notebook cells\n",
       "var notebookContainer = gd.closest('#notebook-container');\n",
       "if (notebookContainer) {{\n",
       "    x.observe(notebookContainer, {childList: true});\n",
       "}}\n",
       "\n",
       "// Listen for the clearing of the current output cell\n",
       "var outputEl = gd.closest('.output');\n",
       "if (outputEl) {{\n",
       "    x.observe(outputEl, {childList: true});\n",
       "}}\n",
       "\n",
       "                        })                };                });            </script>        </div>"
      ]
     },
     "metadata": {},
     "output_type": "display_data"
    }
   ],
   "source": [
    "import plotly.graph_objects as go\n",
    "\n",
    "colors = ['rgb(27, 103, 224)', 'rgb(237, 169, 21)', 'rgb(68, 128, 19)', 'rgb(129, 50, 168)']\n",
    "\n",
    "fig = go.Figure(data = [go.Bar(\n",
    "    y=author_df['recipes'],\n",
    "    x=author_df['author_type'],\n",
    "    width = [0.6]*len(author_df['recipes']),\n",
    "    text = author_df['recipes'],\n",
    "    textposition = 'auto',\n",
    "    marker_color = colors)])\n",
    "\n",
    "fig.update_layout(\n",
    "    xaxis_title = 'Author Type',\n",
    "    yaxis_title = 'Recipes Written',\n",
    "    title={\n",
    "        'text': \"Types of Authors in Kitchen Stories\",\n",
    "        #'y':0.9,\n",
    "        #'x':0.5,\n",
    "        #'xanchor': 'center',\n",
    "        'yanchor': 'top'},\n",
    "    font = {'family': 'Arial',\n",
    "           'size': 18,\n",
    "           'color': 'rgb(31,33,36)'},\n",
    "    plot_bgcolor = 'rgba(0,0,0,0)',\n",
    "    paper_bgcolor = 'rgba(0,0,0,0)',\n",
    "    bargap = 0.05\n",
    ")\n",
    "\n",
    "fig.show()"
   ]
  },
  {
   "cell_type": "markdown",
   "metadata": {},
   "source": [
    "### Recipes with Calorie Information by Author Group"
   ]
  },
  {
   "cell_type": "code",
   "execution_count": 6,
   "metadata": {},
   "outputs": [
    {
     "data": {
      "text/html": [
       "<div>\n",
       "<style scoped>\n",
       "    .dataframe tbody tr th:only-of-type {\n",
       "        vertical-align: middle;\n",
       "    }\n",
       "\n",
       "    .dataframe tbody tr th {\n",
       "        vertical-align: top;\n",
       "    }\n",
       "\n",
       "    .dataframe thead th {\n",
       "        text-align: right;\n",
       "    }\n",
       "</style>\n",
       "<table border=\"1\" class=\"dataframe\">\n",
       "  <thead>\n",
       "    <tr style=\"text-align: right;\">\n",
       "      <th></th>\n",
       "      <th>author_type</th>\n",
       "      <th>recipes</th>\n",
       "    </tr>\n",
       "  </thead>\n",
       "  <tbody>\n",
       "    <tr>\n",
       "      <th>0</th>\n",
       "      <td>Community Member</td>\n",
       "      <td>442</td>\n",
       "    </tr>\n",
       "    <tr>\n",
       "      <th>1</th>\n",
       "      <td>KS Team</td>\n",
       "      <td>95</td>\n",
       "    </tr>\n",
       "    <tr>\n",
       "      <th>2</th>\n",
       "      <td>Contributor</td>\n",
       "      <td>67</td>\n",
       "    </tr>\n",
       "    <tr>\n",
       "      <th>3</th>\n",
       "      <td>Partner</td>\n",
       "      <td>2</td>\n",
       "    </tr>\n",
       "  </tbody>\n",
       "</table>\n",
       "</div>"
      ],
      "text/plain": [
       "        author_type  recipes\n",
       "0  Community Member      442\n",
       "1           KS Team       95\n",
       "2       Contributor       67\n",
       "3           Partner        2"
      ]
     },
     "execution_count": 6,
     "metadata": {},
     "output_type": "execute_result"
    }
   ],
   "source": [
    "author_df"
   ]
  },
  {
   "cell_type": "code",
   "execution_count": 7,
   "metadata": {},
   "outputs": [
    {
     "data": {
      "text/html": [
       "<div>\n",
       "<style scoped>\n",
       "    .dataframe tbody tr th:only-of-type {\n",
       "        vertical-align: middle;\n",
       "    }\n",
       "\n",
       "    .dataframe tbody tr th {\n",
       "        vertical-align: top;\n",
       "    }\n",
       "\n",
       "    .dataframe thead th {\n",
       "        text-align: right;\n",
       "    }\n",
       "</style>\n",
       "<table border=\"1\" class=\"dataframe\">\n",
       "  <thead>\n",
       "    <tr style=\"text-align: right;\">\n",
       "      <th></th>\n",
       "      <th>author_type</th>\n",
       "      <th>with_calories</th>\n",
       "      <th>recipes</th>\n",
       "      <th>without_calories</th>\n",
       "      <th>without_cal_p</th>\n",
       "      <th>with_cal_p</th>\n",
       "    </tr>\n",
       "  </thead>\n",
       "  <tbody>\n",
       "    <tr>\n",
       "      <th>0</th>\n",
       "      <td>Community Member</td>\n",
       "      <td>35</td>\n",
       "      <td>442</td>\n",
       "      <td>407</td>\n",
       "      <td>92</td>\n",
       "      <td>8</td>\n",
       "    </tr>\n",
       "    <tr>\n",
       "      <th>1</th>\n",
       "      <td>Contributor</td>\n",
       "      <td>67</td>\n",
       "      <td>67</td>\n",
       "      <td>0</td>\n",
       "      <td>0</td>\n",
       "      <td>100</td>\n",
       "    </tr>\n",
       "    <tr>\n",
       "      <th>2</th>\n",
       "      <td>KS Team</td>\n",
       "      <td>83</td>\n",
       "      <td>95</td>\n",
       "      <td>12</td>\n",
       "      <td>13</td>\n",
       "      <td>87</td>\n",
       "    </tr>\n",
       "    <tr>\n",
       "      <th>3</th>\n",
       "      <td>Partner</td>\n",
       "      <td>2</td>\n",
       "      <td>2</td>\n",
       "      <td>0</td>\n",
       "      <td>0</td>\n",
       "      <td>100</td>\n",
       "    </tr>\n",
       "  </tbody>\n",
       "</table>\n",
       "</div>"
      ],
      "text/plain": [
       "        author_type  with_calories  recipes  without_calories  without_cal_p  \\\n",
       "0  Community Member             35      442               407             92   \n",
       "1       Contributor             67       67                 0              0   \n",
       "2           KS Team             83       95                12             13   \n",
       "3           Partner              2        2                 0              0   \n",
       "\n",
       "   with_cal_p  \n",
       "0           8  \n",
       "1         100  \n",
       "2          87  \n",
       "3         100  "
      ]
     },
     "execution_count": 7,
     "metadata": {},
     "output_type": "execute_result"
    }
   ],
   "source": [
    "df2 = pd.DataFrame(df.groupby('author_group')['calories'].count()).reset_index()\n",
    "df2.rename(columns={'author_group':'author_type'}, inplace = True)\n",
    "df2 = pd.merge(df2, author_df, on = 'author_type')\n",
    "df2['without_calories'] = df2['recipes']-df2['calories']\n",
    "df2.rename(columns={'calories':'with_calories'}, inplace = True)\n",
    "df2['without_cal_p'] = df2['without_calories'] / df2['recipes']*100\n",
    "df2['without_cal_p'] = df2.without_cal_p.apply(lambda x: round(x))\n",
    "df2['with_cal_p'] = df2['with_calories'] / df2['recipes']*100\n",
    "df2['with_cal_p'] = df2.with_cal_p.apply(lambda x: round(x))\n",
    "df2"
   ]
  },
  {
   "cell_type": "code",
   "execution_count": 8,
   "metadata": {},
   "outputs": [
    {
     "data": {
      "application/vnd.plotly.v1+json": {
       "config": {
        "plotlyServerURL": "https://plot.ly"
       },
       "data": [
        {
         "marker": {
          "color": [
           "rgb(27, 103, 224)",
           "rgb(237, 169, 21)",
           "rgb(68, 128, 19)",
           "rgb(129, 50, 168)"
          ]
         },
         "name": "With calories",
         "text": [
          8,
          100,
          87,
          100
         ],
         "textposition": "auto",
         "type": "bar",
         "x": [
          "Community Member",
          "Contributor",
          "KS Team",
          "Partner"
         ],
         "y": [
          8,
          100,
          87,
          100
         ]
        },
        {
         "marker": {
          "color": [
           "rgb(158, 190, 240)",
           "rgb(252, 210, 119)",
           "rgb(153, 189, 125)",
           "rgb(202, 171, 217)"
          ]
         },
         "name": "Without calories",
         "text": [
          92,
          0,
          13,
          0
         ],
         "textposition": "auto",
         "type": "bar",
         "x": [
          "Community Member",
          "Contributor",
          "KS Team",
          "Partner"
         ],
         "y": [
          92,
          0,
          13,
          0
         ]
        }
       ],
       "layout": {
        "bargap": 0.05,
        "barmode": "stack",
        "font": {
         "color": "rgb(31,33,36)",
         "family": "Arial",
         "size": 18
        },
        "paper_bgcolor": "rgba(0,0,0,0)",
        "plot_bgcolor": "rgba(0,0,0,0)",
        "showlegend": false,
        "template": {
         "data": {
          "bar": [
           {
            "error_x": {
             "color": "#2a3f5f"
            },
            "error_y": {
             "color": "#2a3f5f"
            },
            "marker": {
             "line": {
              "color": "#E5ECF6",
              "width": 0.5
             }
            },
            "type": "bar"
           }
          ],
          "barpolar": [
           {
            "marker": {
             "line": {
              "color": "#E5ECF6",
              "width": 0.5
             }
            },
            "type": "barpolar"
           }
          ],
          "carpet": [
           {
            "aaxis": {
             "endlinecolor": "#2a3f5f",
             "gridcolor": "white",
             "linecolor": "white",
             "minorgridcolor": "white",
             "startlinecolor": "#2a3f5f"
            },
            "baxis": {
             "endlinecolor": "#2a3f5f",
             "gridcolor": "white",
             "linecolor": "white",
             "minorgridcolor": "white",
             "startlinecolor": "#2a3f5f"
            },
            "type": "carpet"
           }
          ],
          "choropleth": [
           {
            "colorbar": {
             "outlinewidth": 0,
             "ticks": ""
            },
            "type": "choropleth"
           }
          ],
          "contour": [
           {
            "colorbar": {
             "outlinewidth": 0,
             "ticks": ""
            },
            "colorscale": [
             [
              0,
              "#0d0887"
             ],
             [
              0.1111111111111111,
              "#46039f"
             ],
             [
              0.2222222222222222,
              "#7201a8"
             ],
             [
              0.3333333333333333,
              "#9c179e"
             ],
             [
              0.4444444444444444,
              "#bd3786"
             ],
             [
              0.5555555555555556,
              "#d8576b"
             ],
             [
              0.6666666666666666,
              "#ed7953"
             ],
             [
              0.7777777777777778,
              "#fb9f3a"
             ],
             [
              0.8888888888888888,
              "#fdca26"
             ],
             [
              1,
              "#f0f921"
             ]
            ],
            "type": "contour"
           }
          ],
          "contourcarpet": [
           {
            "colorbar": {
             "outlinewidth": 0,
             "ticks": ""
            },
            "type": "contourcarpet"
           }
          ],
          "heatmap": [
           {
            "colorbar": {
             "outlinewidth": 0,
             "ticks": ""
            },
            "colorscale": [
             [
              0,
              "#0d0887"
             ],
             [
              0.1111111111111111,
              "#46039f"
             ],
             [
              0.2222222222222222,
              "#7201a8"
             ],
             [
              0.3333333333333333,
              "#9c179e"
             ],
             [
              0.4444444444444444,
              "#bd3786"
             ],
             [
              0.5555555555555556,
              "#d8576b"
             ],
             [
              0.6666666666666666,
              "#ed7953"
             ],
             [
              0.7777777777777778,
              "#fb9f3a"
             ],
             [
              0.8888888888888888,
              "#fdca26"
             ],
             [
              1,
              "#f0f921"
             ]
            ],
            "type": "heatmap"
           }
          ],
          "heatmapgl": [
           {
            "colorbar": {
             "outlinewidth": 0,
             "ticks": ""
            },
            "colorscale": [
             [
              0,
              "#0d0887"
             ],
             [
              0.1111111111111111,
              "#46039f"
             ],
             [
              0.2222222222222222,
              "#7201a8"
             ],
             [
              0.3333333333333333,
              "#9c179e"
             ],
             [
              0.4444444444444444,
              "#bd3786"
             ],
             [
              0.5555555555555556,
              "#d8576b"
             ],
             [
              0.6666666666666666,
              "#ed7953"
             ],
             [
              0.7777777777777778,
              "#fb9f3a"
             ],
             [
              0.8888888888888888,
              "#fdca26"
             ],
             [
              1,
              "#f0f921"
             ]
            ],
            "type": "heatmapgl"
           }
          ],
          "histogram": [
           {
            "marker": {
             "colorbar": {
              "outlinewidth": 0,
              "ticks": ""
             }
            },
            "type": "histogram"
           }
          ],
          "histogram2d": [
           {
            "colorbar": {
             "outlinewidth": 0,
             "ticks": ""
            },
            "colorscale": [
             [
              0,
              "#0d0887"
             ],
             [
              0.1111111111111111,
              "#46039f"
             ],
             [
              0.2222222222222222,
              "#7201a8"
             ],
             [
              0.3333333333333333,
              "#9c179e"
             ],
             [
              0.4444444444444444,
              "#bd3786"
             ],
             [
              0.5555555555555556,
              "#d8576b"
             ],
             [
              0.6666666666666666,
              "#ed7953"
             ],
             [
              0.7777777777777778,
              "#fb9f3a"
             ],
             [
              0.8888888888888888,
              "#fdca26"
             ],
             [
              1,
              "#f0f921"
             ]
            ],
            "type": "histogram2d"
           }
          ],
          "histogram2dcontour": [
           {
            "colorbar": {
             "outlinewidth": 0,
             "ticks": ""
            },
            "colorscale": [
             [
              0,
              "#0d0887"
             ],
             [
              0.1111111111111111,
              "#46039f"
             ],
             [
              0.2222222222222222,
              "#7201a8"
             ],
             [
              0.3333333333333333,
              "#9c179e"
             ],
             [
              0.4444444444444444,
              "#bd3786"
             ],
             [
              0.5555555555555556,
              "#d8576b"
             ],
             [
              0.6666666666666666,
              "#ed7953"
             ],
             [
              0.7777777777777778,
              "#fb9f3a"
             ],
             [
              0.8888888888888888,
              "#fdca26"
             ],
             [
              1,
              "#f0f921"
             ]
            ],
            "type": "histogram2dcontour"
           }
          ],
          "mesh3d": [
           {
            "colorbar": {
             "outlinewidth": 0,
             "ticks": ""
            },
            "type": "mesh3d"
           }
          ],
          "parcoords": [
           {
            "line": {
             "colorbar": {
              "outlinewidth": 0,
              "ticks": ""
             }
            },
            "type": "parcoords"
           }
          ],
          "pie": [
           {
            "automargin": true,
            "type": "pie"
           }
          ],
          "scatter": [
           {
            "marker": {
             "colorbar": {
              "outlinewidth": 0,
              "ticks": ""
             }
            },
            "type": "scatter"
           }
          ],
          "scatter3d": [
           {
            "line": {
             "colorbar": {
              "outlinewidth": 0,
              "ticks": ""
             }
            },
            "marker": {
             "colorbar": {
              "outlinewidth": 0,
              "ticks": ""
             }
            },
            "type": "scatter3d"
           }
          ],
          "scattercarpet": [
           {
            "marker": {
             "colorbar": {
              "outlinewidth": 0,
              "ticks": ""
             }
            },
            "type": "scattercarpet"
           }
          ],
          "scattergeo": [
           {
            "marker": {
             "colorbar": {
              "outlinewidth": 0,
              "ticks": ""
             }
            },
            "type": "scattergeo"
           }
          ],
          "scattergl": [
           {
            "marker": {
             "colorbar": {
              "outlinewidth": 0,
              "ticks": ""
             }
            },
            "type": "scattergl"
           }
          ],
          "scattermapbox": [
           {
            "marker": {
             "colorbar": {
              "outlinewidth": 0,
              "ticks": ""
             }
            },
            "type": "scattermapbox"
           }
          ],
          "scatterpolar": [
           {
            "marker": {
             "colorbar": {
              "outlinewidth": 0,
              "ticks": ""
             }
            },
            "type": "scatterpolar"
           }
          ],
          "scatterpolargl": [
           {
            "marker": {
             "colorbar": {
              "outlinewidth": 0,
              "ticks": ""
             }
            },
            "type": "scatterpolargl"
           }
          ],
          "scatterternary": [
           {
            "marker": {
             "colorbar": {
              "outlinewidth": 0,
              "ticks": ""
             }
            },
            "type": "scatterternary"
           }
          ],
          "surface": [
           {
            "colorbar": {
             "outlinewidth": 0,
             "ticks": ""
            },
            "colorscale": [
             [
              0,
              "#0d0887"
             ],
             [
              0.1111111111111111,
              "#46039f"
             ],
             [
              0.2222222222222222,
              "#7201a8"
             ],
             [
              0.3333333333333333,
              "#9c179e"
             ],
             [
              0.4444444444444444,
              "#bd3786"
             ],
             [
              0.5555555555555556,
              "#d8576b"
             ],
             [
              0.6666666666666666,
              "#ed7953"
             ],
             [
              0.7777777777777778,
              "#fb9f3a"
             ],
             [
              0.8888888888888888,
              "#fdca26"
             ],
             [
              1,
              "#f0f921"
             ]
            ],
            "type": "surface"
           }
          ],
          "table": [
           {
            "cells": {
             "fill": {
              "color": "#EBF0F8"
             },
             "line": {
              "color": "white"
             }
            },
            "header": {
             "fill": {
              "color": "#C8D4E3"
             },
             "line": {
              "color": "white"
             }
            },
            "type": "table"
           }
          ]
         },
         "layout": {
          "annotationdefaults": {
           "arrowcolor": "#2a3f5f",
           "arrowhead": 0,
           "arrowwidth": 1
          },
          "coloraxis": {
           "colorbar": {
            "outlinewidth": 0,
            "ticks": ""
           }
          },
          "colorscale": {
           "diverging": [
            [
             0,
             "#8e0152"
            ],
            [
             0.1,
             "#c51b7d"
            ],
            [
             0.2,
             "#de77ae"
            ],
            [
             0.3,
             "#f1b6da"
            ],
            [
             0.4,
             "#fde0ef"
            ],
            [
             0.5,
             "#f7f7f7"
            ],
            [
             0.6,
             "#e6f5d0"
            ],
            [
             0.7,
             "#b8e186"
            ],
            [
             0.8,
             "#7fbc41"
            ],
            [
             0.9,
             "#4d9221"
            ],
            [
             1,
             "#276419"
            ]
           ],
           "sequential": [
            [
             0,
             "#0d0887"
            ],
            [
             0.1111111111111111,
             "#46039f"
            ],
            [
             0.2222222222222222,
             "#7201a8"
            ],
            [
             0.3333333333333333,
             "#9c179e"
            ],
            [
             0.4444444444444444,
             "#bd3786"
            ],
            [
             0.5555555555555556,
             "#d8576b"
            ],
            [
             0.6666666666666666,
             "#ed7953"
            ],
            [
             0.7777777777777778,
             "#fb9f3a"
            ],
            [
             0.8888888888888888,
             "#fdca26"
            ],
            [
             1,
             "#f0f921"
            ]
           ],
           "sequentialminus": [
            [
             0,
             "#0d0887"
            ],
            [
             0.1111111111111111,
             "#46039f"
            ],
            [
             0.2222222222222222,
             "#7201a8"
            ],
            [
             0.3333333333333333,
             "#9c179e"
            ],
            [
             0.4444444444444444,
             "#bd3786"
            ],
            [
             0.5555555555555556,
             "#d8576b"
            ],
            [
             0.6666666666666666,
             "#ed7953"
            ],
            [
             0.7777777777777778,
             "#fb9f3a"
            ],
            [
             0.8888888888888888,
             "#fdca26"
            ],
            [
             1,
             "#f0f921"
            ]
           ]
          },
          "colorway": [
           "#636efa",
           "#EF553B",
           "#00cc96",
           "#ab63fa",
           "#FFA15A",
           "#19d3f3",
           "#FF6692",
           "#B6E880",
           "#FF97FF",
           "#FECB52"
          ],
          "font": {
           "color": "#2a3f5f"
          },
          "geo": {
           "bgcolor": "white",
           "lakecolor": "white",
           "landcolor": "#E5ECF6",
           "showlakes": true,
           "showland": true,
           "subunitcolor": "white"
          },
          "hoverlabel": {
           "align": "left"
          },
          "hovermode": "closest",
          "mapbox": {
           "style": "light"
          },
          "paper_bgcolor": "white",
          "plot_bgcolor": "#E5ECF6",
          "polar": {
           "angularaxis": {
            "gridcolor": "white",
            "linecolor": "white",
            "ticks": ""
           },
           "bgcolor": "#E5ECF6",
           "radialaxis": {
            "gridcolor": "white",
            "linecolor": "white",
            "ticks": ""
           }
          },
          "scene": {
           "xaxis": {
            "backgroundcolor": "#E5ECF6",
            "gridcolor": "white",
            "gridwidth": 2,
            "linecolor": "white",
            "showbackground": true,
            "ticks": "",
            "zerolinecolor": "white"
           },
           "yaxis": {
            "backgroundcolor": "#E5ECF6",
            "gridcolor": "white",
            "gridwidth": 2,
            "linecolor": "white",
            "showbackground": true,
            "ticks": "",
            "zerolinecolor": "white"
           },
           "zaxis": {
            "backgroundcolor": "#E5ECF6",
            "gridcolor": "white",
            "gridwidth": 2,
            "linecolor": "white",
            "showbackground": true,
            "ticks": "",
            "zerolinecolor": "white"
           }
          },
          "shapedefaults": {
           "line": {
            "color": "#2a3f5f"
           }
          },
          "ternary": {
           "aaxis": {
            "gridcolor": "white",
            "linecolor": "white",
            "ticks": ""
           },
           "baxis": {
            "gridcolor": "white",
            "linecolor": "white",
            "ticks": ""
           },
           "bgcolor": "#E5ECF6",
           "caxis": {
            "gridcolor": "white",
            "linecolor": "white",
            "ticks": ""
           }
          },
          "title": {
           "x": 0.05
          },
          "xaxis": {
           "automargin": true,
           "gridcolor": "white",
           "linecolor": "white",
           "ticks": "",
           "title": {
            "standoff": 15
           },
           "zerolinecolor": "white",
           "zerolinewidth": 2
          },
          "yaxis": {
           "automargin": true,
           "gridcolor": "white",
           "linecolor": "white",
           "ticks": "",
           "title": {
            "standoff": 15
           },
           "zerolinecolor": "white",
           "zerolinewidth": 2
          }
         }
        },
        "title": {
         "text": "Recipes with Calorie Information by Author",
         "yanchor": "top"
        },
        "xaxis": {
         "title": {
          "text": "Author Type"
         }
        },
        "yaxis": {
         "title": {
          "text": "Recipes Written (%)"
         }
        }
       }
      },
      "text/html": [
       "<div>                            <div id=\"98c23385-6af5-4741-9056-66636697742a\" class=\"plotly-graph-div\" style=\"height:525px; width:100%;\"></div>            <script type=\"text/javascript\">                require([\"plotly\"], function(Plotly) {                    window.PLOTLYENV=window.PLOTLYENV || {};                                    if (document.getElementById(\"98c23385-6af5-4741-9056-66636697742a\")) {                    Plotly.newPlot(                        \"98c23385-6af5-4741-9056-66636697742a\",                        [{\"marker\": {\"color\": [\"rgb(27, 103, 224)\", \"rgb(237, 169, 21)\", \"rgb(68, 128, 19)\", \"rgb(129, 50, 168)\"]}, \"name\": \"With calories\", \"text\": [8.0, 100.0, 87.0, 100.0], \"textposition\": \"auto\", \"type\": \"bar\", \"x\": [\"Community Member\", \"Contributor\", \"KS Team\", \"Partner\"], \"y\": [8, 100, 87, 100]}, {\"marker\": {\"color\": [\"rgb(158, 190, 240)\", \"rgb(252, 210, 119)\", \"rgb(153, 189, 125)\", \"rgb(202, 171, 217)\"]}, \"name\": \"Without calories\", \"text\": [92.0, 0.0, 13.0, 0.0], \"textposition\": \"auto\", \"type\": \"bar\", \"x\": [\"Community Member\", \"Contributor\", \"KS Team\", \"Partner\"], \"y\": [92, 0, 13, 0]}],                        {\"bargap\": 0.05, \"barmode\": \"stack\", \"font\": {\"color\": \"rgb(31,33,36)\", \"family\": \"Arial\", \"size\": 18}, \"paper_bgcolor\": \"rgba(0,0,0,0)\", \"plot_bgcolor\": \"rgba(0,0,0,0)\", \"showlegend\": false, \"template\": {\"data\": {\"bar\": [{\"error_x\": {\"color\": \"#2a3f5f\"}, \"error_y\": {\"color\": \"#2a3f5f\"}, \"marker\": {\"line\": {\"color\": \"#E5ECF6\", \"width\": 0.5}}, \"type\": \"bar\"}], \"barpolar\": [{\"marker\": {\"line\": {\"color\": \"#E5ECF6\", \"width\": 0.5}}, \"type\": \"barpolar\"}], \"carpet\": [{\"aaxis\": {\"endlinecolor\": \"#2a3f5f\", \"gridcolor\": \"white\", \"linecolor\": \"white\", \"minorgridcolor\": \"white\", \"startlinecolor\": \"#2a3f5f\"}, \"baxis\": {\"endlinecolor\": \"#2a3f5f\", \"gridcolor\": \"white\", \"linecolor\": \"white\", \"minorgridcolor\": \"white\", \"startlinecolor\": \"#2a3f5f\"}, \"type\": \"carpet\"}], \"choropleth\": [{\"colorbar\": {\"outlinewidth\": 0, \"ticks\": \"\"}, \"type\": \"choropleth\"}], \"contour\": [{\"colorbar\": {\"outlinewidth\": 0, \"ticks\": \"\"}, \"colorscale\": [[0.0, \"#0d0887\"], [0.1111111111111111, \"#46039f\"], [0.2222222222222222, \"#7201a8\"], [0.3333333333333333, \"#9c179e\"], [0.4444444444444444, \"#bd3786\"], [0.5555555555555556, \"#d8576b\"], [0.6666666666666666, \"#ed7953\"], [0.7777777777777778, \"#fb9f3a\"], [0.8888888888888888, \"#fdca26\"], [1.0, \"#f0f921\"]], \"type\": \"contour\"}], \"contourcarpet\": [{\"colorbar\": {\"outlinewidth\": 0, \"ticks\": \"\"}, \"type\": \"contourcarpet\"}], \"heatmap\": [{\"colorbar\": {\"outlinewidth\": 0, \"ticks\": \"\"}, \"colorscale\": [[0.0, \"#0d0887\"], [0.1111111111111111, \"#46039f\"], [0.2222222222222222, \"#7201a8\"], [0.3333333333333333, \"#9c179e\"], [0.4444444444444444, \"#bd3786\"], [0.5555555555555556, \"#d8576b\"], [0.6666666666666666, \"#ed7953\"], [0.7777777777777778, \"#fb9f3a\"], [0.8888888888888888, \"#fdca26\"], [1.0, \"#f0f921\"]], \"type\": \"heatmap\"}], \"heatmapgl\": [{\"colorbar\": {\"outlinewidth\": 0, \"ticks\": \"\"}, \"colorscale\": [[0.0, \"#0d0887\"], [0.1111111111111111, \"#46039f\"], [0.2222222222222222, \"#7201a8\"], [0.3333333333333333, \"#9c179e\"], [0.4444444444444444, \"#bd3786\"], [0.5555555555555556, \"#d8576b\"], [0.6666666666666666, \"#ed7953\"], [0.7777777777777778, \"#fb9f3a\"], [0.8888888888888888, \"#fdca26\"], [1.0, \"#f0f921\"]], \"type\": \"heatmapgl\"}], \"histogram\": [{\"marker\": {\"colorbar\": {\"outlinewidth\": 0, \"ticks\": \"\"}}, \"type\": \"histogram\"}], \"histogram2d\": [{\"colorbar\": {\"outlinewidth\": 0, \"ticks\": \"\"}, \"colorscale\": [[0.0, \"#0d0887\"], [0.1111111111111111, \"#46039f\"], [0.2222222222222222, \"#7201a8\"], [0.3333333333333333, \"#9c179e\"], [0.4444444444444444, \"#bd3786\"], [0.5555555555555556, \"#d8576b\"], [0.6666666666666666, \"#ed7953\"], [0.7777777777777778, \"#fb9f3a\"], [0.8888888888888888, \"#fdca26\"], [1.0, \"#f0f921\"]], \"type\": \"histogram2d\"}], \"histogram2dcontour\": [{\"colorbar\": {\"outlinewidth\": 0, \"ticks\": \"\"}, \"colorscale\": [[0.0, \"#0d0887\"], [0.1111111111111111, \"#46039f\"], [0.2222222222222222, \"#7201a8\"], [0.3333333333333333, \"#9c179e\"], [0.4444444444444444, \"#bd3786\"], [0.5555555555555556, \"#d8576b\"], [0.6666666666666666, \"#ed7953\"], [0.7777777777777778, \"#fb9f3a\"], [0.8888888888888888, \"#fdca26\"], [1.0, \"#f0f921\"]], \"type\": \"histogram2dcontour\"}], \"mesh3d\": [{\"colorbar\": {\"outlinewidth\": 0, \"ticks\": \"\"}, \"type\": \"mesh3d\"}], \"parcoords\": [{\"line\": {\"colorbar\": {\"outlinewidth\": 0, \"ticks\": \"\"}}, \"type\": \"parcoords\"}], \"pie\": [{\"automargin\": true, \"type\": \"pie\"}], \"scatter\": [{\"marker\": {\"colorbar\": {\"outlinewidth\": 0, \"ticks\": \"\"}}, \"type\": \"scatter\"}], \"scatter3d\": [{\"line\": {\"colorbar\": {\"outlinewidth\": 0, \"ticks\": \"\"}}, \"marker\": {\"colorbar\": {\"outlinewidth\": 0, \"ticks\": \"\"}}, \"type\": \"scatter3d\"}], \"scattercarpet\": [{\"marker\": {\"colorbar\": {\"outlinewidth\": 0, \"ticks\": \"\"}}, \"type\": \"scattercarpet\"}], \"scattergeo\": [{\"marker\": {\"colorbar\": {\"outlinewidth\": 0, \"ticks\": \"\"}}, \"type\": \"scattergeo\"}], \"scattergl\": [{\"marker\": {\"colorbar\": {\"outlinewidth\": 0, \"ticks\": \"\"}}, \"type\": \"scattergl\"}], \"scattermapbox\": [{\"marker\": {\"colorbar\": {\"outlinewidth\": 0, \"ticks\": \"\"}}, \"type\": \"scattermapbox\"}], \"scatterpolar\": [{\"marker\": {\"colorbar\": {\"outlinewidth\": 0, \"ticks\": \"\"}}, \"type\": \"scatterpolar\"}], \"scatterpolargl\": [{\"marker\": {\"colorbar\": {\"outlinewidth\": 0, \"ticks\": \"\"}}, \"type\": \"scatterpolargl\"}], \"scatterternary\": [{\"marker\": {\"colorbar\": {\"outlinewidth\": 0, \"ticks\": \"\"}}, \"type\": \"scatterternary\"}], \"surface\": [{\"colorbar\": {\"outlinewidth\": 0, \"ticks\": \"\"}, \"colorscale\": [[0.0, \"#0d0887\"], [0.1111111111111111, \"#46039f\"], [0.2222222222222222, \"#7201a8\"], [0.3333333333333333, \"#9c179e\"], [0.4444444444444444, \"#bd3786\"], [0.5555555555555556, \"#d8576b\"], [0.6666666666666666, \"#ed7953\"], [0.7777777777777778, \"#fb9f3a\"], [0.8888888888888888, \"#fdca26\"], [1.0, \"#f0f921\"]], \"type\": \"surface\"}], \"table\": [{\"cells\": {\"fill\": {\"color\": \"#EBF0F8\"}, \"line\": {\"color\": \"white\"}}, \"header\": {\"fill\": {\"color\": \"#C8D4E3\"}, \"line\": {\"color\": \"white\"}}, \"type\": \"table\"}]}, \"layout\": {\"annotationdefaults\": {\"arrowcolor\": \"#2a3f5f\", \"arrowhead\": 0, \"arrowwidth\": 1}, \"coloraxis\": {\"colorbar\": {\"outlinewidth\": 0, \"ticks\": \"\"}}, \"colorscale\": {\"diverging\": [[0, \"#8e0152\"], [0.1, \"#c51b7d\"], [0.2, \"#de77ae\"], [0.3, \"#f1b6da\"], [0.4, \"#fde0ef\"], [0.5, \"#f7f7f7\"], [0.6, \"#e6f5d0\"], [0.7, \"#b8e186\"], [0.8, \"#7fbc41\"], [0.9, \"#4d9221\"], [1, \"#276419\"]], \"sequential\": [[0.0, \"#0d0887\"], [0.1111111111111111, \"#46039f\"], [0.2222222222222222, \"#7201a8\"], [0.3333333333333333, \"#9c179e\"], [0.4444444444444444, \"#bd3786\"], [0.5555555555555556, \"#d8576b\"], [0.6666666666666666, \"#ed7953\"], [0.7777777777777778, \"#fb9f3a\"], [0.8888888888888888, \"#fdca26\"], [1.0, \"#f0f921\"]], \"sequentialminus\": [[0.0, \"#0d0887\"], [0.1111111111111111, \"#46039f\"], [0.2222222222222222, \"#7201a8\"], [0.3333333333333333, \"#9c179e\"], [0.4444444444444444, \"#bd3786\"], [0.5555555555555556, \"#d8576b\"], [0.6666666666666666, \"#ed7953\"], [0.7777777777777778, \"#fb9f3a\"], [0.8888888888888888, \"#fdca26\"], [1.0, \"#f0f921\"]]}, \"colorway\": [\"#636efa\", \"#EF553B\", \"#00cc96\", \"#ab63fa\", \"#FFA15A\", \"#19d3f3\", \"#FF6692\", \"#B6E880\", \"#FF97FF\", \"#FECB52\"], \"font\": {\"color\": \"#2a3f5f\"}, \"geo\": {\"bgcolor\": \"white\", \"lakecolor\": \"white\", \"landcolor\": \"#E5ECF6\", \"showlakes\": true, \"showland\": true, \"subunitcolor\": \"white\"}, \"hoverlabel\": {\"align\": \"left\"}, \"hovermode\": \"closest\", \"mapbox\": {\"style\": \"light\"}, \"paper_bgcolor\": \"white\", \"plot_bgcolor\": \"#E5ECF6\", \"polar\": {\"angularaxis\": {\"gridcolor\": \"white\", \"linecolor\": \"white\", \"ticks\": \"\"}, \"bgcolor\": \"#E5ECF6\", \"radialaxis\": {\"gridcolor\": \"white\", \"linecolor\": \"white\", \"ticks\": \"\"}}, \"scene\": {\"xaxis\": {\"backgroundcolor\": \"#E5ECF6\", \"gridcolor\": \"white\", \"gridwidth\": 2, \"linecolor\": \"white\", \"showbackground\": true, \"ticks\": \"\", \"zerolinecolor\": \"white\"}, \"yaxis\": {\"backgroundcolor\": \"#E5ECF6\", \"gridcolor\": \"white\", \"gridwidth\": 2, \"linecolor\": \"white\", \"showbackground\": true, \"ticks\": \"\", \"zerolinecolor\": \"white\"}, \"zaxis\": {\"backgroundcolor\": \"#E5ECF6\", \"gridcolor\": \"white\", \"gridwidth\": 2, \"linecolor\": \"white\", \"showbackground\": true, \"ticks\": \"\", \"zerolinecolor\": \"white\"}}, \"shapedefaults\": {\"line\": {\"color\": \"#2a3f5f\"}}, \"ternary\": {\"aaxis\": {\"gridcolor\": \"white\", \"linecolor\": \"white\", \"ticks\": \"\"}, \"baxis\": {\"gridcolor\": \"white\", \"linecolor\": \"white\", \"ticks\": \"\"}, \"bgcolor\": \"#E5ECF6\", \"caxis\": {\"gridcolor\": \"white\", \"linecolor\": \"white\", \"ticks\": \"\"}}, \"title\": {\"x\": 0.05}, \"xaxis\": {\"automargin\": true, \"gridcolor\": \"white\", \"linecolor\": \"white\", \"ticks\": \"\", \"title\": {\"standoff\": 15}, \"zerolinecolor\": \"white\", \"zerolinewidth\": 2}, \"yaxis\": {\"automargin\": true, \"gridcolor\": \"white\", \"linecolor\": \"white\", \"ticks\": \"\", \"title\": {\"standoff\": 15}, \"zerolinecolor\": \"white\", \"zerolinewidth\": 2}}}, \"title\": {\"text\": \"Recipes with Calorie Information by Author\", \"yanchor\": \"top\"}, \"xaxis\": {\"title\": {\"text\": \"Author Type\"}}, \"yaxis\": {\"title\": {\"text\": \"Recipes Written (%)\"}}},                        {\"responsive\": true}                    ).then(function(){\n",
       "                            \n",
       "var gd = document.getElementById('98c23385-6af5-4741-9056-66636697742a');\n",
       "var x = new MutationObserver(function (mutations, observer) {{\n",
       "        var display = window.getComputedStyle(gd).display;\n",
       "        if (!display || display === 'none') {{\n",
       "            console.log([gd, 'removed!']);\n",
       "            Plotly.purge(gd);\n",
       "            observer.disconnect();\n",
       "        }}\n",
       "}});\n",
       "\n",
       "// Listen for the removal of the full notebook cells\n",
       "var notebookContainer = gd.closest('#notebook-container');\n",
       "if (notebookContainer) {{\n",
       "    x.observe(notebookContainer, {childList: true});\n",
       "}}\n",
       "\n",
       "// Listen for the clearing of the current output cell\n",
       "var outputEl = gd.closest('.output');\n",
       "if (outputEl) {{\n",
       "    x.observe(outputEl, {childList: true});\n",
       "}}\n",
       "\n",
       "                        })                };                });            </script>        </div>"
      ]
     },
     "metadata": {},
     "output_type": "display_data"
    }
   ],
   "source": [
    "colors_with = ['rgb(27, 103, 224)', 'rgb(237, 169, 21)', 'rgb(68, 128, 19)', 'rgb(129, 50, 168)']\n",
    "colors_wout = ['rgb(158, 190, 240)', 'rgb(252, 210, 119)', 'rgb(153, 189, 125)', 'rgb(202, 171, 217)']\n",
    "\n",
    "fig = go.Figure(data = [\n",
    "    go.Bar(name = 'With calories', x = df2['author_type'], y=df2['with_cal_p'], \n",
    "           marker_color = colors_with, text = df2['with_cal_p'], textposition = 'auto'),\n",
    "    go.Bar(name = 'Without calories', x = df2['author_type'], y=df2['without_cal_p'], \n",
    "           marker_color = colors_wout, text = df2['without_cal_p'], textposition = 'auto')\n",
    "    ])\n",
    "\n",
    "fig.update_layout(\n",
    "    barmode = 'stack',\n",
    "    xaxis_title = 'Author Type',\n",
    "    yaxis_title = 'Recipes Written (%)',\n",
    "    title={\n",
    "        'text': \"Recipes with Calorie Information by Author\",\n",
    "        #'y':0.9,\n",
    "        #'x':0.5,\n",
    "        #'xanchor': 'center',\n",
    "        'yanchor': 'top'},\n",
    "    font = {'family': 'Arial',\n",
    "           'size': 18,\n",
    "           'color': 'rgb(31,33,36)'},\n",
    "    plot_bgcolor = 'rgba(0,0,0,0)',\n",
    "    paper_bgcolor = 'rgba(0,0,0,0)',\n",
    "    bargap = 0.05,\n",
    "    showlegend = False\n",
    ")\n",
    "\n",
    "fig.show()"
   ]
  },
  {
   "cell_type": "markdown",
   "metadata": {},
   "source": [
    "### Rating vs Difficulty Level"
   ]
  },
  {
   "cell_type": "code",
   "execution_count": 9,
   "metadata": {},
   "outputs": [
    {
     "data": {
      "text/plain": [
       "Easy      469\n",
       "Medium    130\n",
       "Hard        7\n",
       "Name: difficulty, dtype: int64"
      ]
     },
     "execution_count": 9,
     "metadata": {},
     "output_type": "execute_result"
    }
   ],
   "source": [
    "#Number of recipes by difficulty\n",
    "df.difficulty.value_counts()"
   ]
  },
  {
   "cell_type": "code",
   "execution_count": 10,
   "metadata": {},
   "outputs": [
    {
     "data": {
      "text/html": [
       "<div>\n",
       "<style scoped>\n",
       "    .dataframe tbody tr th:only-of-type {\n",
       "        vertical-align: middle;\n",
       "    }\n",
       "\n",
       "    .dataframe tbody tr th {\n",
       "        vertical-align: top;\n",
       "    }\n",
       "\n",
       "    .dataframe thead th {\n",
       "        text-align: right;\n",
       "    }\n",
       "</style>\n",
       "<table border=\"1\" class=\"dataframe\">\n",
       "  <thead>\n",
       "    <tr style=\"text-align: right;\">\n",
       "      <th></th>\n",
       "      <th>difficulty</th>\n",
       "      <th>ave_rating</th>\n",
       "    </tr>\n",
       "  </thead>\n",
       "  <tbody>\n",
       "    <tr>\n",
       "      <th>0</th>\n",
       "      <td>Easy</td>\n",
       "      <td>2.634328</td>\n",
       "    </tr>\n",
       "    <tr>\n",
       "      <th>2</th>\n",
       "      <td>Medium</td>\n",
       "      <td>2.376923</td>\n",
       "    </tr>\n",
       "    <tr>\n",
       "      <th>1</th>\n",
       "      <td>Hard</td>\n",
       "      <td>3.357143</td>\n",
       "    </tr>\n",
       "  </tbody>\n",
       "</table>\n",
       "</div>"
      ],
      "text/plain": [
       "  difficulty  ave_rating\n",
       "0       Easy    2.634328\n",
       "2     Medium    2.376923\n",
       "1       Hard    3.357143"
      ]
     },
     "execution_count": 10,
     "metadata": {},
     "output_type": "execute_result"
    }
   ],
   "source": [
    "#Average rating for difficulty levels\n",
    "levels = df.groupby('difficulty')['rating'].agg('mean').to_frame(name = 'ave_rating').reset_index()\n",
    "levels = levels.reindex([0,2,1])\n",
    "levels"
   ]
  },
  {
   "cell_type": "code",
   "execution_count": 12,
   "metadata": {},
   "outputs": [
    {
     "data": {
      "application/vnd.plotly.v1+json": {
       "config": {
        "plotlyServerURL": "https://plot.ly"
       },
       "data": [
        {
         "marker": {
          "color": [
           "rgb(68, 128, 19)",
           "rgb(237, 169, 21)",
           "rgb(129, 50, 168)"
          ]
         },
         "text": [
          2.6,
          2.4,
          3.4
         ],
         "textposition": "auto",
         "type": "bar",
         "width": [
          0.6,
          0.6,
          0.6,
          0.6
         ],
         "x": [
          "Easy",
          "Medium",
          "Hard"
         ],
         "y": [
          2.6343283582089554,
          2.376923076923077,
          3.357142857142857
         ]
        }
       ],
       "layout": {
        "bargap": 0.05,
        "font": {
         "color": "rgb(31,33,36)",
         "family": "Arial",
         "size": 13
        },
        "paper_bgcolor": "rgba(0,0,0,0)",
        "plot_bgcolor": "rgba(0,0,0,0)",
        "template": {
         "data": {
          "bar": [
           {
            "error_x": {
             "color": "#2a3f5f"
            },
            "error_y": {
             "color": "#2a3f5f"
            },
            "marker": {
             "line": {
              "color": "#E5ECF6",
              "width": 0.5
             }
            },
            "type": "bar"
           }
          ],
          "barpolar": [
           {
            "marker": {
             "line": {
              "color": "#E5ECF6",
              "width": 0.5
             }
            },
            "type": "barpolar"
           }
          ],
          "carpet": [
           {
            "aaxis": {
             "endlinecolor": "#2a3f5f",
             "gridcolor": "white",
             "linecolor": "white",
             "minorgridcolor": "white",
             "startlinecolor": "#2a3f5f"
            },
            "baxis": {
             "endlinecolor": "#2a3f5f",
             "gridcolor": "white",
             "linecolor": "white",
             "minorgridcolor": "white",
             "startlinecolor": "#2a3f5f"
            },
            "type": "carpet"
           }
          ],
          "choropleth": [
           {
            "colorbar": {
             "outlinewidth": 0,
             "ticks": ""
            },
            "type": "choropleth"
           }
          ],
          "contour": [
           {
            "colorbar": {
             "outlinewidth": 0,
             "ticks": ""
            },
            "colorscale": [
             [
              0,
              "#0d0887"
             ],
             [
              0.1111111111111111,
              "#46039f"
             ],
             [
              0.2222222222222222,
              "#7201a8"
             ],
             [
              0.3333333333333333,
              "#9c179e"
             ],
             [
              0.4444444444444444,
              "#bd3786"
             ],
             [
              0.5555555555555556,
              "#d8576b"
             ],
             [
              0.6666666666666666,
              "#ed7953"
             ],
             [
              0.7777777777777778,
              "#fb9f3a"
             ],
             [
              0.8888888888888888,
              "#fdca26"
             ],
             [
              1,
              "#f0f921"
             ]
            ],
            "type": "contour"
           }
          ],
          "contourcarpet": [
           {
            "colorbar": {
             "outlinewidth": 0,
             "ticks": ""
            },
            "type": "contourcarpet"
           }
          ],
          "heatmap": [
           {
            "colorbar": {
             "outlinewidth": 0,
             "ticks": ""
            },
            "colorscale": [
             [
              0,
              "#0d0887"
             ],
             [
              0.1111111111111111,
              "#46039f"
             ],
             [
              0.2222222222222222,
              "#7201a8"
             ],
             [
              0.3333333333333333,
              "#9c179e"
             ],
             [
              0.4444444444444444,
              "#bd3786"
             ],
             [
              0.5555555555555556,
              "#d8576b"
             ],
             [
              0.6666666666666666,
              "#ed7953"
             ],
             [
              0.7777777777777778,
              "#fb9f3a"
             ],
             [
              0.8888888888888888,
              "#fdca26"
             ],
             [
              1,
              "#f0f921"
             ]
            ],
            "type": "heatmap"
           }
          ],
          "heatmapgl": [
           {
            "colorbar": {
             "outlinewidth": 0,
             "ticks": ""
            },
            "colorscale": [
             [
              0,
              "#0d0887"
             ],
             [
              0.1111111111111111,
              "#46039f"
             ],
             [
              0.2222222222222222,
              "#7201a8"
             ],
             [
              0.3333333333333333,
              "#9c179e"
             ],
             [
              0.4444444444444444,
              "#bd3786"
             ],
             [
              0.5555555555555556,
              "#d8576b"
             ],
             [
              0.6666666666666666,
              "#ed7953"
             ],
             [
              0.7777777777777778,
              "#fb9f3a"
             ],
             [
              0.8888888888888888,
              "#fdca26"
             ],
             [
              1,
              "#f0f921"
             ]
            ],
            "type": "heatmapgl"
           }
          ],
          "histogram": [
           {
            "marker": {
             "colorbar": {
              "outlinewidth": 0,
              "ticks": ""
             }
            },
            "type": "histogram"
           }
          ],
          "histogram2d": [
           {
            "colorbar": {
             "outlinewidth": 0,
             "ticks": ""
            },
            "colorscale": [
             [
              0,
              "#0d0887"
             ],
             [
              0.1111111111111111,
              "#46039f"
             ],
             [
              0.2222222222222222,
              "#7201a8"
             ],
             [
              0.3333333333333333,
              "#9c179e"
             ],
             [
              0.4444444444444444,
              "#bd3786"
             ],
             [
              0.5555555555555556,
              "#d8576b"
             ],
             [
              0.6666666666666666,
              "#ed7953"
             ],
             [
              0.7777777777777778,
              "#fb9f3a"
             ],
             [
              0.8888888888888888,
              "#fdca26"
             ],
             [
              1,
              "#f0f921"
             ]
            ],
            "type": "histogram2d"
           }
          ],
          "histogram2dcontour": [
           {
            "colorbar": {
             "outlinewidth": 0,
             "ticks": ""
            },
            "colorscale": [
             [
              0,
              "#0d0887"
             ],
             [
              0.1111111111111111,
              "#46039f"
             ],
             [
              0.2222222222222222,
              "#7201a8"
             ],
             [
              0.3333333333333333,
              "#9c179e"
             ],
             [
              0.4444444444444444,
              "#bd3786"
             ],
             [
              0.5555555555555556,
              "#d8576b"
             ],
             [
              0.6666666666666666,
              "#ed7953"
             ],
             [
              0.7777777777777778,
              "#fb9f3a"
             ],
             [
              0.8888888888888888,
              "#fdca26"
             ],
             [
              1,
              "#f0f921"
             ]
            ],
            "type": "histogram2dcontour"
           }
          ],
          "mesh3d": [
           {
            "colorbar": {
             "outlinewidth": 0,
             "ticks": ""
            },
            "type": "mesh3d"
           }
          ],
          "parcoords": [
           {
            "line": {
             "colorbar": {
              "outlinewidth": 0,
              "ticks": ""
             }
            },
            "type": "parcoords"
           }
          ],
          "pie": [
           {
            "automargin": true,
            "type": "pie"
           }
          ],
          "scatter": [
           {
            "marker": {
             "colorbar": {
              "outlinewidth": 0,
              "ticks": ""
             }
            },
            "type": "scatter"
           }
          ],
          "scatter3d": [
           {
            "line": {
             "colorbar": {
              "outlinewidth": 0,
              "ticks": ""
             }
            },
            "marker": {
             "colorbar": {
              "outlinewidth": 0,
              "ticks": ""
             }
            },
            "type": "scatter3d"
           }
          ],
          "scattercarpet": [
           {
            "marker": {
             "colorbar": {
              "outlinewidth": 0,
              "ticks": ""
             }
            },
            "type": "scattercarpet"
           }
          ],
          "scattergeo": [
           {
            "marker": {
             "colorbar": {
              "outlinewidth": 0,
              "ticks": ""
             }
            },
            "type": "scattergeo"
           }
          ],
          "scattergl": [
           {
            "marker": {
             "colorbar": {
              "outlinewidth": 0,
              "ticks": ""
             }
            },
            "type": "scattergl"
           }
          ],
          "scattermapbox": [
           {
            "marker": {
             "colorbar": {
              "outlinewidth": 0,
              "ticks": ""
             }
            },
            "type": "scattermapbox"
           }
          ],
          "scatterpolar": [
           {
            "marker": {
             "colorbar": {
              "outlinewidth": 0,
              "ticks": ""
             }
            },
            "type": "scatterpolar"
           }
          ],
          "scatterpolargl": [
           {
            "marker": {
             "colorbar": {
              "outlinewidth": 0,
              "ticks": ""
             }
            },
            "type": "scatterpolargl"
           }
          ],
          "scatterternary": [
           {
            "marker": {
             "colorbar": {
              "outlinewidth": 0,
              "ticks": ""
             }
            },
            "type": "scatterternary"
           }
          ],
          "surface": [
           {
            "colorbar": {
             "outlinewidth": 0,
             "ticks": ""
            },
            "colorscale": [
             [
              0,
              "#0d0887"
             ],
             [
              0.1111111111111111,
              "#46039f"
             ],
             [
              0.2222222222222222,
              "#7201a8"
             ],
             [
              0.3333333333333333,
              "#9c179e"
             ],
             [
              0.4444444444444444,
              "#bd3786"
             ],
             [
              0.5555555555555556,
              "#d8576b"
             ],
             [
              0.6666666666666666,
              "#ed7953"
             ],
             [
              0.7777777777777778,
              "#fb9f3a"
             ],
             [
              0.8888888888888888,
              "#fdca26"
             ],
             [
              1,
              "#f0f921"
             ]
            ],
            "type": "surface"
           }
          ],
          "table": [
           {
            "cells": {
             "fill": {
              "color": "#EBF0F8"
             },
             "line": {
              "color": "white"
             }
            },
            "header": {
             "fill": {
              "color": "#C8D4E3"
             },
             "line": {
              "color": "white"
             }
            },
            "type": "table"
           }
          ]
         },
         "layout": {
          "annotationdefaults": {
           "arrowcolor": "#2a3f5f",
           "arrowhead": 0,
           "arrowwidth": 1
          },
          "coloraxis": {
           "colorbar": {
            "outlinewidth": 0,
            "ticks": ""
           }
          },
          "colorscale": {
           "diverging": [
            [
             0,
             "#8e0152"
            ],
            [
             0.1,
             "#c51b7d"
            ],
            [
             0.2,
             "#de77ae"
            ],
            [
             0.3,
             "#f1b6da"
            ],
            [
             0.4,
             "#fde0ef"
            ],
            [
             0.5,
             "#f7f7f7"
            ],
            [
             0.6,
             "#e6f5d0"
            ],
            [
             0.7,
             "#b8e186"
            ],
            [
             0.8,
             "#7fbc41"
            ],
            [
             0.9,
             "#4d9221"
            ],
            [
             1,
             "#276419"
            ]
           ],
           "sequential": [
            [
             0,
             "#0d0887"
            ],
            [
             0.1111111111111111,
             "#46039f"
            ],
            [
             0.2222222222222222,
             "#7201a8"
            ],
            [
             0.3333333333333333,
             "#9c179e"
            ],
            [
             0.4444444444444444,
             "#bd3786"
            ],
            [
             0.5555555555555556,
             "#d8576b"
            ],
            [
             0.6666666666666666,
             "#ed7953"
            ],
            [
             0.7777777777777778,
             "#fb9f3a"
            ],
            [
             0.8888888888888888,
             "#fdca26"
            ],
            [
             1,
             "#f0f921"
            ]
           ],
           "sequentialminus": [
            [
             0,
             "#0d0887"
            ],
            [
             0.1111111111111111,
             "#46039f"
            ],
            [
             0.2222222222222222,
             "#7201a8"
            ],
            [
             0.3333333333333333,
             "#9c179e"
            ],
            [
             0.4444444444444444,
             "#bd3786"
            ],
            [
             0.5555555555555556,
             "#d8576b"
            ],
            [
             0.6666666666666666,
             "#ed7953"
            ],
            [
             0.7777777777777778,
             "#fb9f3a"
            ],
            [
             0.8888888888888888,
             "#fdca26"
            ],
            [
             1,
             "#f0f921"
            ]
           ]
          },
          "colorway": [
           "#636efa",
           "#EF553B",
           "#00cc96",
           "#ab63fa",
           "#FFA15A",
           "#19d3f3",
           "#FF6692",
           "#B6E880",
           "#FF97FF",
           "#FECB52"
          ],
          "font": {
           "color": "#2a3f5f"
          },
          "geo": {
           "bgcolor": "white",
           "lakecolor": "white",
           "landcolor": "#E5ECF6",
           "showlakes": true,
           "showland": true,
           "subunitcolor": "white"
          },
          "hoverlabel": {
           "align": "left"
          },
          "hovermode": "closest",
          "mapbox": {
           "style": "light"
          },
          "paper_bgcolor": "white",
          "plot_bgcolor": "#E5ECF6",
          "polar": {
           "angularaxis": {
            "gridcolor": "white",
            "linecolor": "white",
            "ticks": ""
           },
           "bgcolor": "#E5ECF6",
           "radialaxis": {
            "gridcolor": "white",
            "linecolor": "white",
            "ticks": ""
           }
          },
          "scene": {
           "xaxis": {
            "backgroundcolor": "#E5ECF6",
            "gridcolor": "white",
            "gridwidth": 2,
            "linecolor": "white",
            "showbackground": true,
            "ticks": "",
            "zerolinecolor": "white"
           },
           "yaxis": {
            "backgroundcolor": "#E5ECF6",
            "gridcolor": "white",
            "gridwidth": 2,
            "linecolor": "white",
            "showbackground": true,
            "ticks": "",
            "zerolinecolor": "white"
           },
           "zaxis": {
            "backgroundcolor": "#E5ECF6",
            "gridcolor": "white",
            "gridwidth": 2,
            "linecolor": "white",
            "showbackground": true,
            "ticks": "",
            "zerolinecolor": "white"
           }
          },
          "shapedefaults": {
           "line": {
            "color": "#2a3f5f"
           }
          },
          "ternary": {
           "aaxis": {
            "gridcolor": "white",
            "linecolor": "white",
            "ticks": ""
           },
           "baxis": {
            "gridcolor": "white",
            "linecolor": "white",
            "ticks": ""
           },
           "bgcolor": "#E5ECF6",
           "caxis": {
            "gridcolor": "white",
            "linecolor": "white",
            "ticks": ""
           }
          },
          "title": {
           "x": 0.05
          },
          "xaxis": {
           "automargin": true,
           "gridcolor": "white",
           "linecolor": "white",
           "ticks": "",
           "title": {
            "standoff": 15
           },
           "zerolinecolor": "white",
           "zerolinewidth": 2
          },
          "yaxis": {
           "automargin": true,
           "gridcolor": "white",
           "linecolor": "white",
           "ticks": "",
           "title": {
            "standoff": 15
           },
           "zerolinecolor": "white",
           "zerolinewidth": 2
          }
         }
        },
        "title": {
         "text": "Average Rating per Difficulty Level - Pretty Low?..",
         "x": 0.5,
         "xanchor": "center",
         "y": 0.9,
         "yanchor": "top"
        },
        "xaxis": {
         "title": {
          "text": "Author Type"
         }
        },
        "yaxis": {
         "range": [
          0,
          5
         ],
         "title": {
          "text": "Recipes Written"
         }
        }
       }
      },
      "text/html": [
       "<div>                            <div id=\"3febb915-2ce5-4b9b-aa2c-59e4a33f9431\" class=\"plotly-graph-div\" style=\"height:525px; width:100%;\"></div>            <script type=\"text/javascript\">                require([\"plotly\"], function(Plotly) {                    window.PLOTLYENV=window.PLOTLYENV || {};                                    if (document.getElementById(\"3febb915-2ce5-4b9b-aa2c-59e4a33f9431\")) {                    Plotly.newPlot(                        \"3febb915-2ce5-4b9b-aa2c-59e4a33f9431\",                        [{\"marker\": {\"color\": [\"rgb(68, 128, 19)\", \"rgb(237, 169, 21)\", \"rgb(129, 50, 168)\"]}, \"text\": [2.6, 2.4, 3.4], \"textposition\": \"auto\", \"type\": \"bar\", \"width\": [0.6, 0.6, 0.6, 0.6], \"x\": [\"Easy\", \"Medium\", \"Hard\"], \"y\": [2.6343283582089554, 2.376923076923077, 3.357142857142857]}],                        {\"bargap\": 0.05, \"font\": {\"color\": \"rgb(31,33,36)\", \"family\": \"Arial\", \"size\": 13}, \"paper_bgcolor\": \"rgba(0,0,0,0)\", \"plot_bgcolor\": \"rgba(0,0,0,0)\", \"template\": {\"data\": {\"bar\": [{\"error_x\": {\"color\": \"#2a3f5f\"}, \"error_y\": {\"color\": \"#2a3f5f\"}, \"marker\": {\"line\": {\"color\": \"#E5ECF6\", \"width\": 0.5}}, \"type\": \"bar\"}], \"barpolar\": [{\"marker\": {\"line\": {\"color\": \"#E5ECF6\", \"width\": 0.5}}, \"type\": \"barpolar\"}], \"carpet\": [{\"aaxis\": {\"endlinecolor\": \"#2a3f5f\", \"gridcolor\": \"white\", \"linecolor\": \"white\", \"minorgridcolor\": \"white\", \"startlinecolor\": \"#2a3f5f\"}, \"baxis\": {\"endlinecolor\": \"#2a3f5f\", \"gridcolor\": \"white\", \"linecolor\": \"white\", \"minorgridcolor\": \"white\", \"startlinecolor\": \"#2a3f5f\"}, \"type\": \"carpet\"}], \"choropleth\": [{\"colorbar\": {\"outlinewidth\": 0, \"ticks\": \"\"}, \"type\": \"choropleth\"}], \"contour\": [{\"colorbar\": {\"outlinewidth\": 0, \"ticks\": \"\"}, \"colorscale\": [[0.0, \"#0d0887\"], [0.1111111111111111, \"#46039f\"], [0.2222222222222222, \"#7201a8\"], [0.3333333333333333, \"#9c179e\"], [0.4444444444444444, \"#bd3786\"], [0.5555555555555556, \"#d8576b\"], [0.6666666666666666, \"#ed7953\"], [0.7777777777777778, \"#fb9f3a\"], [0.8888888888888888, \"#fdca26\"], [1.0, \"#f0f921\"]], \"type\": \"contour\"}], \"contourcarpet\": [{\"colorbar\": {\"outlinewidth\": 0, \"ticks\": \"\"}, \"type\": \"contourcarpet\"}], \"heatmap\": [{\"colorbar\": {\"outlinewidth\": 0, \"ticks\": \"\"}, \"colorscale\": [[0.0, \"#0d0887\"], [0.1111111111111111, \"#46039f\"], [0.2222222222222222, \"#7201a8\"], [0.3333333333333333, \"#9c179e\"], [0.4444444444444444, \"#bd3786\"], [0.5555555555555556, \"#d8576b\"], [0.6666666666666666, \"#ed7953\"], [0.7777777777777778, \"#fb9f3a\"], [0.8888888888888888, \"#fdca26\"], [1.0, \"#f0f921\"]], \"type\": \"heatmap\"}], \"heatmapgl\": [{\"colorbar\": {\"outlinewidth\": 0, \"ticks\": \"\"}, \"colorscale\": [[0.0, \"#0d0887\"], [0.1111111111111111, \"#46039f\"], [0.2222222222222222, \"#7201a8\"], [0.3333333333333333, \"#9c179e\"], [0.4444444444444444, \"#bd3786\"], [0.5555555555555556, \"#d8576b\"], [0.6666666666666666, \"#ed7953\"], [0.7777777777777778, \"#fb9f3a\"], [0.8888888888888888, \"#fdca26\"], [1.0, \"#f0f921\"]], \"type\": \"heatmapgl\"}], \"histogram\": [{\"marker\": {\"colorbar\": {\"outlinewidth\": 0, \"ticks\": \"\"}}, \"type\": \"histogram\"}], \"histogram2d\": [{\"colorbar\": {\"outlinewidth\": 0, \"ticks\": \"\"}, \"colorscale\": [[0.0, \"#0d0887\"], [0.1111111111111111, \"#46039f\"], [0.2222222222222222, \"#7201a8\"], [0.3333333333333333, \"#9c179e\"], [0.4444444444444444, \"#bd3786\"], [0.5555555555555556, \"#d8576b\"], [0.6666666666666666, \"#ed7953\"], [0.7777777777777778, \"#fb9f3a\"], [0.8888888888888888, \"#fdca26\"], [1.0, \"#f0f921\"]], \"type\": \"histogram2d\"}], \"histogram2dcontour\": [{\"colorbar\": {\"outlinewidth\": 0, \"ticks\": \"\"}, \"colorscale\": [[0.0, \"#0d0887\"], [0.1111111111111111, \"#46039f\"], [0.2222222222222222, \"#7201a8\"], [0.3333333333333333, \"#9c179e\"], [0.4444444444444444, \"#bd3786\"], [0.5555555555555556, \"#d8576b\"], [0.6666666666666666, \"#ed7953\"], [0.7777777777777778, \"#fb9f3a\"], [0.8888888888888888, \"#fdca26\"], [1.0, \"#f0f921\"]], \"type\": \"histogram2dcontour\"}], \"mesh3d\": [{\"colorbar\": {\"outlinewidth\": 0, \"ticks\": \"\"}, \"type\": \"mesh3d\"}], \"parcoords\": [{\"line\": {\"colorbar\": {\"outlinewidth\": 0, \"ticks\": \"\"}}, \"type\": \"parcoords\"}], \"pie\": [{\"automargin\": true, \"type\": \"pie\"}], \"scatter\": [{\"marker\": {\"colorbar\": {\"outlinewidth\": 0, \"ticks\": \"\"}}, \"type\": \"scatter\"}], \"scatter3d\": [{\"line\": {\"colorbar\": {\"outlinewidth\": 0, \"ticks\": \"\"}}, \"marker\": {\"colorbar\": {\"outlinewidth\": 0, \"ticks\": \"\"}}, \"type\": \"scatter3d\"}], \"scattercarpet\": [{\"marker\": {\"colorbar\": {\"outlinewidth\": 0, \"ticks\": \"\"}}, \"type\": \"scattercarpet\"}], \"scattergeo\": [{\"marker\": {\"colorbar\": {\"outlinewidth\": 0, \"ticks\": \"\"}}, \"type\": \"scattergeo\"}], \"scattergl\": [{\"marker\": {\"colorbar\": {\"outlinewidth\": 0, \"ticks\": \"\"}}, \"type\": \"scattergl\"}], \"scattermapbox\": [{\"marker\": {\"colorbar\": {\"outlinewidth\": 0, \"ticks\": \"\"}}, \"type\": \"scattermapbox\"}], \"scatterpolar\": [{\"marker\": {\"colorbar\": {\"outlinewidth\": 0, \"ticks\": \"\"}}, \"type\": \"scatterpolar\"}], \"scatterpolargl\": [{\"marker\": {\"colorbar\": {\"outlinewidth\": 0, \"ticks\": \"\"}}, \"type\": \"scatterpolargl\"}], \"scatterternary\": [{\"marker\": {\"colorbar\": {\"outlinewidth\": 0, \"ticks\": \"\"}}, \"type\": \"scatterternary\"}], \"surface\": [{\"colorbar\": {\"outlinewidth\": 0, \"ticks\": \"\"}, \"colorscale\": [[0.0, \"#0d0887\"], [0.1111111111111111, \"#46039f\"], [0.2222222222222222, \"#7201a8\"], [0.3333333333333333, \"#9c179e\"], [0.4444444444444444, \"#bd3786\"], [0.5555555555555556, \"#d8576b\"], [0.6666666666666666, \"#ed7953\"], [0.7777777777777778, \"#fb9f3a\"], [0.8888888888888888, \"#fdca26\"], [1.0, \"#f0f921\"]], \"type\": \"surface\"}], \"table\": [{\"cells\": {\"fill\": {\"color\": \"#EBF0F8\"}, \"line\": {\"color\": \"white\"}}, \"header\": {\"fill\": {\"color\": \"#C8D4E3\"}, \"line\": {\"color\": \"white\"}}, \"type\": \"table\"}]}, \"layout\": {\"annotationdefaults\": {\"arrowcolor\": \"#2a3f5f\", \"arrowhead\": 0, \"arrowwidth\": 1}, \"coloraxis\": {\"colorbar\": {\"outlinewidth\": 0, \"ticks\": \"\"}}, \"colorscale\": {\"diverging\": [[0, \"#8e0152\"], [0.1, \"#c51b7d\"], [0.2, \"#de77ae\"], [0.3, \"#f1b6da\"], [0.4, \"#fde0ef\"], [0.5, \"#f7f7f7\"], [0.6, \"#e6f5d0\"], [0.7, \"#b8e186\"], [0.8, \"#7fbc41\"], [0.9, \"#4d9221\"], [1, \"#276419\"]], \"sequential\": [[0.0, \"#0d0887\"], [0.1111111111111111, \"#46039f\"], [0.2222222222222222, \"#7201a8\"], [0.3333333333333333, \"#9c179e\"], [0.4444444444444444, \"#bd3786\"], [0.5555555555555556, \"#d8576b\"], [0.6666666666666666, \"#ed7953\"], [0.7777777777777778, \"#fb9f3a\"], [0.8888888888888888, \"#fdca26\"], [1.0, \"#f0f921\"]], \"sequentialminus\": [[0.0, \"#0d0887\"], [0.1111111111111111, \"#46039f\"], [0.2222222222222222, \"#7201a8\"], [0.3333333333333333, \"#9c179e\"], [0.4444444444444444, \"#bd3786\"], [0.5555555555555556, \"#d8576b\"], [0.6666666666666666, \"#ed7953\"], [0.7777777777777778, \"#fb9f3a\"], [0.8888888888888888, \"#fdca26\"], [1.0, \"#f0f921\"]]}, \"colorway\": [\"#636efa\", \"#EF553B\", \"#00cc96\", \"#ab63fa\", \"#FFA15A\", \"#19d3f3\", \"#FF6692\", \"#B6E880\", \"#FF97FF\", \"#FECB52\"], \"font\": {\"color\": \"#2a3f5f\"}, \"geo\": {\"bgcolor\": \"white\", \"lakecolor\": \"white\", \"landcolor\": \"#E5ECF6\", \"showlakes\": true, \"showland\": true, \"subunitcolor\": \"white\"}, \"hoverlabel\": {\"align\": \"left\"}, \"hovermode\": \"closest\", \"mapbox\": {\"style\": \"light\"}, \"paper_bgcolor\": \"white\", \"plot_bgcolor\": \"#E5ECF6\", \"polar\": {\"angularaxis\": {\"gridcolor\": \"white\", \"linecolor\": \"white\", \"ticks\": \"\"}, \"bgcolor\": \"#E5ECF6\", \"radialaxis\": {\"gridcolor\": \"white\", \"linecolor\": \"white\", \"ticks\": \"\"}}, \"scene\": {\"xaxis\": {\"backgroundcolor\": \"#E5ECF6\", \"gridcolor\": \"white\", \"gridwidth\": 2, \"linecolor\": \"white\", \"showbackground\": true, \"ticks\": \"\", \"zerolinecolor\": \"white\"}, \"yaxis\": {\"backgroundcolor\": \"#E5ECF6\", \"gridcolor\": \"white\", \"gridwidth\": 2, \"linecolor\": \"white\", \"showbackground\": true, \"ticks\": \"\", \"zerolinecolor\": \"white\"}, \"zaxis\": {\"backgroundcolor\": \"#E5ECF6\", \"gridcolor\": \"white\", \"gridwidth\": 2, \"linecolor\": \"white\", \"showbackground\": true, \"ticks\": \"\", \"zerolinecolor\": \"white\"}}, \"shapedefaults\": {\"line\": {\"color\": \"#2a3f5f\"}}, \"ternary\": {\"aaxis\": {\"gridcolor\": \"white\", \"linecolor\": \"white\", \"ticks\": \"\"}, \"baxis\": {\"gridcolor\": \"white\", \"linecolor\": \"white\", \"ticks\": \"\"}, \"bgcolor\": \"#E5ECF6\", \"caxis\": {\"gridcolor\": \"white\", \"linecolor\": \"white\", \"ticks\": \"\"}}, \"title\": {\"x\": 0.05}, \"xaxis\": {\"automargin\": true, \"gridcolor\": \"white\", \"linecolor\": \"white\", \"ticks\": \"\", \"title\": {\"standoff\": 15}, \"zerolinecolor\": \"white\", \"zerolinewidth\": 2}, \"yaxis\": {\"automargin\": true, \"gridcolor\": \"white\", \"linecolor\": \"white\", \"ticks\": \"\", \"title\": {\"standoff\": 15}, \"zerolinecolor\": \"white\", \"zerolinewidth\": 2}}}, \"title\": {\"text\": \"Average Rating per Difficulty Level - Pretty Low?..\", \"x\": 0.5, \"xanchor\": \"center\", \"y\": 0.9, \"yanchor\": \"top\"}, \"xaxis\": {\"title\": {\"text\": \"Author Type\"}}, \"yaxis\": {\"range\": [0, 5], \"title\": {\"text\": \"Recipes Written\"}}},                        {\"responsive\": true}                    ).then(function(){\n",
       "                            \n",
       "var gd = document.getElementById('3febb915-2ce5-4b9b-aa2c-59e4a33f9431');\n",
       "var x = new MutationObserver(function (mutations, observer) {{\n",
       "        var display = window.getComputedStyle(gd).display;\n",
       "        if (!display || display === 'none') {{\n",
       "            console.log([gd, 'removed!']);\n",
       "            Plotly.purge(gd);\n",
       "            observer.disconnect();\n",
       "        }}\n",
       "}});\n",
       "\n",
       "// Listen for the removal of the full notebook cells\n",
       "var notebookContainer = gd.closest('#notebook-container');\n",
       "if (notebookContainer) {{\n",
       "    x.observe(notebookContainer, {childList: true});\n",
       "}}\n",
       "\n",
       "// Listen for the clearing of the current output cell\n",
       "var outputEl = gd.closest('.output');\n",
       "if (outputEl) {{\n",
       "    x.observe(outputEl, {childList: true});\n",
       "}}\n",
       "\n",
       "                        })                };                });            </script>        </div>"
      ]
     },
     "metadata": {},
     "output_type": "display_data"
    }
   ],
   "source": [
    "colors_level = ['rgb(68, 128, 19)', 'rgb(237, 169, 21)', 'rgb(129, 50, 168)']\n",
    "\n",
    "fig = go.Figure(data = [go.Bar(\n",
    "    y=levels['ave_rating'],\n",
    "    x=levels['difficulty'],\n",
    "    width = [0.6]*len(author_df['recipes']),\n",
    "    text = round(levels['ave_rating'],1),\n",
    "    textposition = 'auto',\n",
    "    marker_color = colors_level)])\n",
    "\n",
    "fig.update_yaxes(range=[0,5])\n",
    "\n",
    "fig.update_layout(\n",
    "    xaxis_title = 'Author Type',\n",
    "    yaxis_title = 'Recipes Written',\n",
    "    title={\n",
    "        'text': \"Average Rating per Difficulty Level - Pretty Low?..\",\n",
    "        'y':0.9,\n",
    "        'x':0.5,\n",
    "        'xanchor': 'center',\n",
    "        'yanchor': 'top'},\n",
    "    font = {'family': 'Arial',\n",
    "           'size': 13,\n",
    "           'color': 'rgb(31,33,36)'},\n",
    "    plot_bgcolor = 'rgba(0,0,0,0)',\n",
    "    paper_bgcolor = 'rgba(0,0,0,0)',\n",
    "    bargap = 0.05\n",
    ")\n",
    "\n",
    "fig.show()"
   ]
  },
  {
   "cell_type": "code",
   "execution_count": 13,
   "metadata": {},
   "outputs": [
    {
     "data": {
      "text/html": [
       "<div>\n",
       "<style scoped>\n",
       "    .dataframe tbody tr th:only-of-type {\n",
       "        vertical-align: middle;\n",
       "    }\n",
       "\n",
       "    .dataframe tbody tr th {\n",
       "        vertical-align: top;\n",
       "    }\n",
       "\n",
       "    .dataframe thead th {\n",
       "        text-align: right;\n",
       "    }\n",
       "</style>\n",
       "<table border=\"1\" class=\"dataframe\">\n",
       "  <thead>\n",
       "    <tr style=\"text-align: right;\">\n",
       "      <th></th>\n",
       "      <th>difficulty</th>\n",
       "      <th>rating</th>\n",
       "      <th>count</th>\n",
       "      <th>ave_likes</th>\n",
       "    </tr>\n",
       "  </thead>\n",
       "  <tbody>\n",
       "    <tr>\n",
       "      <th>0</th>\n",
       "      <td>Easy</td>\n",
       "      <td>0.0</td>\n",
       "      <td>200</td>\n",
       "      <td>36.0</td>\n",
       "    </tr>\n",
       "    <tr>\n",
       "      <th>1</th>\n",
       "      <td>Easy</td>\n",
       "      <td>2.0</td>\n",
       "      <td>1</td>\n",
       "      <td>3.0</td>\n",
       "    </tr>\n",
       "    <tr>\n",
       "      <th>2</th>\n",
       "      <td>Easy</td>\n",
       "      <td>2.5</td>\n",
       "      <td>1</td>\n",
       "      <td>12.0</td>\n",
       "    </tr>\n",
       "    <tr>\n",
       "      <th>3</th>\n",
       "      <td>Easy</td>\n",
       "      <td>3.0</td>\n",
       "      <td>2</td>\n",
       "      <td>324.0</td>\n",
       "    </tr>\n",
       "    <tr>\n",
       "      <th>4</th>\n",
       "      <td>Easy</td>\n",
       "      <td>3.5</td>\n",
       "      <td>7</td>\n",
       "      <td>2245.0</td>\n",
       "    </tr>\n",
       "    <tr>\n",
       "      <th>5</th>\n",
       "      <td>Easy</td>\n",
       "      <td>4.0</td>\n",
       "      <td>39</td>\n",
       "      <td>4891.0</td>\n",
       "    </tr>\n",
       "    <tr>\n",
       "      <th>6</th>\n",
       "      <td>Easy</td>\n",
       "      <td>4.5</td>\n",
       "      <td>101</td>\n",
       "      <td>11703.0</td>\n",
       "    </tr>\n",
       "    <tr>\n",
       "      <th>7</th>\n",
       "      <td>Easy</td>\n",
       "      <td>5.0</td>\n",
       "      <td>118</td>\n",
       "      <td>1360.0</td>\n",
       "    </tr>\n",
       "    <tr>\n",
       "      <th>8</th>\n",
       "      <td>Medium</td>\n",
       "      <td>0.0</td>\n",
       "      <td>62</td>\n",
       "      <td>35.0</td>\n",
       "    </tr>\n",
       "    <tr>\n",
       "      <th>9</th>\n",
       "      <td>Medium</td>\n",
       "      <td>3.0</td>\n",
       "      <td>1</td>\n",
       "      <td>10.0</td>\n",
       "    </tr>\n",
       "    <tr>\n",
       "      <th>10</th>\n",
       "      <td>Medium</td>\n",
       "      <td>3.5</td>\n",
       "      <td>3</td>\n",
       "      <td>4198.0</td>\n",
       "    </tr>\n",
       "    <tr>\n",
       "      <th>11</th>\n",
       "      <td>Medium</td>\n",
       "      <td>4.0</td>\n",
       "      <td>11</td>\n",
       "      <td>3167.0</td>\n",
       "    </tr>\n",
       "    <tr>\n",
       "      <th>12</th>\n",
       "      <td>Medium</td>\n",
       "      <td>4.5</td>\n",
       "      <td>27</td>\n",
       "      <td>11050.0</td>\n",
       "    </tr>\n",
       "    <tr>\n",
       "      <th>13</th>\n",
       "      <td>Medium</td>\n",
       "      <td>5.0</td>\n",
       "      <td>26</td>\n",
       "      <td>1304.0</td>\n",
       "    </tr>\n",
       "    <tr>\n",
       "      <th>14</th>\n",
       "      <td>Hard</td>\n",
       "      <td>0.0</td>\n",
       "      <td>2</td>\n",
       "      <td>9.0</td>\n",
       "    </tr>\n",
       "    <tr>\n",
       "      <th>15</th>\n",
       "      <td>Hard</td>\n",
       "      <td>4.5</td>\n",
       "      <td>3</td>\n",
       "      <td>21586.0</td>\n",
       "    </tr>\n",
       "    <tr>\n",
       "      <th>16</th>\n",
       "      <td>Hard</td>\n",
       "      <td>5.0</td>\n",
       "      <td>2</td>\n",
       "      <td>24.0</td>\n",
       "    </tr>\n",
       "  </tbody>\n",
       "</table>\n",
       "</div>"
      ],
      "text/plain": [
       "   difficulty  rating  count  ave_likes\n",
       "0        Easy     0.0    200       36.0\n",
       "1        Easy     2.0      1        3.0\n",
       "2        Easy     2.5      1       12.0\n",
       "3        Easy     3.0      2      324.0\n",
       "4        Easy     3.5      7     2245.0\n",
       "5        Easy     4.0     39     4891.0\n",
       "6        Easy     4.5    101    11703.0\n",
       "7        Easy     5.0    118     1360.0\n",
       "8      Medium     0.0     62       35.0\n",
       "9      Medium     3.0      1       10.0\n",
       "10     Medium     3.5      3     4198.0\n",
       "11     Medium     4.0     11     3167.0\n",
       "12     Medium     4.5     27    11050.0\n",
       "13     Medium     5.0     26     1304.0\n",
       "14       Hard     0.0      2        9.0\n",
       "15       Hard     4.5      3    21586.0\n",
       "16       Hard     5.0      2       24.0"
      ]
     },
     "execution_count": 13,
     "metadata": {},
     "output_type": "execute_result"
    }
   ],
   "source": [
    "diff_levels = df.groupby('difficulty')['rating'].value_counts().to_frame(name = 'count').\\\n",
    "                reset_index().sort_values(['difficulty', 'rating'])\n",
    "diff_levels = diff_levels.reindex([0,6,7,5,4,3,2,1,11,16,15,14,12,13,9,8,10])\n",
    "\n",
    "diff_rating = df.groupby(['difficulty', 'rating'])['user_likes'].agg('mean').to_frame(name = 'ave_likes').\\\n",
    "                reset_index().sort_values(['difficulty', 'rating'])\n",
    "\n",
    "diff_rating['ave_likes'] = round(diff_rating['ave_likes'])\n",
    "\n",
    "diff_l_r = pd.merge(diff_levels, diff_rating)\n",
    "\n",
    "diff_l_r"
   ]
  },
  {
   "cell_type": "code",
   "execution_count": 14,
   "metadata": {},
   "outputs": [
    {
     "data": {
      "application/vnd.plotly.v1+json": {
       "config": {
        "plotlyServerURL": "https://plot.ly"
       },
       "data": [
        {
         "hovertemplate": "color=Easy<br>x=%{x}<br>y=%{y}<br>size=%{marker.size}<extra></extra>",
         "legendgroup": "Easy",
         "marker": {
          "color": "#636efa",
          "size": [
           1.5,
           1.5,
           1.5,
           1.5,
           1.5,
           1.5,
           1.5,
           1.5
          ],
          "sizemode": "area",
          "sizeref": 0.00375,
          "symbol": "circle"
         },
         "mode": "markers",
         "name": "Easy",
         "orientation": "v",
         "showlegend": true,
         "type": "scatter",
         "x": [
          0,
          2,
          2.5,
          3,
          3.5,
          4,
          4.5,
          5
         ],
         "xaxis": "x",
         "y": [
          200,
          1,
          1,
          2,
          7,
          39,
          101,
          118
         ],
         "yaxis": "y"
        },
        {
         "hovertemplate": "color=Medium<br>x=%{x}<br>y=%{y}<br>size=%{marker.size}<extra></extra>",
         "legendgroup": "Medium",
         "marker": {
          "color": "#EF553B",
          "size": [
           1.5,
           1.5,
           1.5,
           1.5,
           1.5,
           1.5
          ],
          "sizemode": "area",
          "sizeref": 0.00375,
          "symbol": "circle"
         },
         "mode": "markers",
         "name": "Medium",
         "orientation": "v",
         "showlegend": true,
         "type": "scatter",
         "x": [
          0,
          3,
          3.5,
          4,
          4.5,
          5
         ],
         "xaxis": "x",
         "y": [
          62,
          1,
          3,
          11,
          27,
          26
         ],
         "yaxis": "y"
        },
        {
         "hovertemplate": "color=Hard<br>x=%{x}<br>y=%{y}<br>size=%{marker.size}<extra></extra>",
         "legendgroup": "Hard",
         "marker": {
          "color": "#00cc96",
          "size": [
           1.5,
           1.5,
           1.5
          ],
          "sizemode": "area",
          "sizeref": 0.00375,
          "symbol": "circle"
         },
         "mode": "markers",
         "name": "Hard",
         "orientation": "v",
         "showlegend": true,
         "type": "scatter",
         "x": [
          0,
          4.5,
          5
         ],
         "xaxis": "x",
         "y": [
          2,
          3,
          2
         ],
         "yaxis": "y"
        }
       ],
       "layout": {
        "font": {
         "color": "rgb(31,33,36)",
         "family": "Arial",
         "size": 18
        },
        "legend": {
         "itemsizing": "constant",
         "title": {
          "text": "color"
         },
         "tracegroupgap": 0
        },
        "margin": {
         "t": 60
        },
        "paper_bgcolor": "rgba(0,0,0,0)",
        "plot_bgcolor": "rgba(0,0,0,0)",
        "showlegend": false,
        "template": {
         "data": {
          "bar": [
           {
            "error_x": {
             "color": "#2a3f5f"
            },
            "error_y": {
             "color": "#2a3f5f"
            },
            "marker": {
             "line": {
              "color": "#E5ECF6",
              "width": 0.5
             }
            },
            "type": "bar"
           }
          ],
          "barpolar": [
           {
            "marker": {
             "line": {
              "color": "#E5ECF6",
              "width": 0.5
             }
            },
            "type": "barpolar"
           }
          ],
          "carpet": [
           {
            "aaxis": {
             "endlinecolor": "#2a3f5f",
             "gridcolor": "white",
             "linecolor": "white",
             "minorgridcolor": "white",
             "startlinecolor": "#2a3f5f"
            },
            "baxis": {
             "endlinecolor": "#2a3f5f",
             "gridcolor": "white",
             "linecolor": "white",
             "minorgridcolor": "white",
             "startlinecolor": "#2a3f5f"
            },
            "type": "carpet"
           }
          ],
          "choropleth": [
           {
            "colorbar": {
             "outlinewidth": 0,
             "ticks": ""
            },
            "type": "choropleth"
           }
          ],
          "contour": [
           {
            "colorbar": {
             "outlinewidth": 0,
             "ticks": ""
            },
            "colorscale": [
             [
              0,
              "#0d0887"
             ],
             [
              0.1111111111111111,
              "#46039f"
             ],
             [
              0.2222222222222222,
              "#7201a8"
             ],
             [
              0.3333333333333333,
              "#9c179e"
             ],
             [
              0.4444444444444444,
              "#bd3786"
             ],
             [
              0.5555555555555556,
              "#d8576b"
             ],
             [
              0.6666666666666666,
              "#ed7953"
             ],
             [
              0.7777777777777778,
              "#fb9f3a"
             ],
             [
              0.8888888888888888,
              "#fdca26"
             ],
             [
              1,
              "#f0f921"
             ]
            ],
            "type": "contour"
           }
          ],
          "contourcarpet": [
           {
            "colorbar": {
             "outlinewidth": 0,
             "ticks": ""
            },
            "type": "contourcarpet"
           }
          ],
          "heatmap": [
           {
            "colorbar": {
             "outlinewidth": 0,
             "ticks": ""
            },
            "colorscale": [
             [
              0,
              "#0d0887"
             ],
             [
              0.1111111111111111,
              "#46039f"
             ],
             [
              0.2222222222222222,
              "#7201a8"
             ],
             [
              0.3333333333333333,
              "#9c179e"
             ],
             [
              0.4444444444444444,
              "#bd3786"
             ],
             [
              0.5555555555555556,
              "#d8576b"
             ],
             [
              0.6666666666666666,
              "#ed7953"
             ],
             [
              0.7777777777777778,
              "#fb9f3a"
             ],
             [
              0.8888888888888888,
              "#fdca26"
             ],
             [
              1,
              "#f0f921"
             ]
            ],
            "type": "heatmap"
           }
          ],
          "heatmapgl": [
           {
            "colorbar": {
             "outlinewidth": 0,
             "ticks": ""
            },
            "colorscale": [
             [
              0,
              "#0d0887"
             ],
             [
              0.1111111111111111,
              "#46039f"
             ],
             [
              0.2222222222222222,
              "#7201a8"
             ],
             [
              0.3333333333333333,
              "#9c179e"
             ],
             [
              0.4444444444444444,
              "#bd3786"
             ],
             [
              0.5555555555555556,
              "#d8576b"
             ],
             [
              0.6666666666666666,
              "#ed7953"
             ],
             [
              0.7777777777777778,
              "#fb9f3a"
             ],
             [
              0.8888888888888888,
              "#fdca26"
             ],
             [
              1,
              "#f0f921"
             ]
            ],
            "type": "heatmapgl"
           }
          ],
          "histogram": [
           {
            "marker": {
             "colorbar": {
              "outlinewidth": 0,
              "ticks": ""
             }
            },
            "type": "histogram"
           }
          ],
          "histogram2d": [
           {
            "colorbar": {
             "outlinewidth": 0,
             "ticks": ""
            },
            "colorscale": [
             [
              0,
              "#0d0887"
             ],
             [
              0.1111111111111111,
              "#46039f"
             ],
             [
              0.2222222222222222,
              "#7201a8"
             ],
             [
              0.3333333333333333,
              "#9c179e"
             ],
             [
              0.4444444444444444,
              "#bd3786"
             ],
             [
              0.5555555555555556,
              "#d8576b"
             ],
             [
              0.6666666666666666,
              "#ed7953"
             ],
             [
              0.7777777777777778,
              "#fb9f3a"
             ],
             [
              0.8888888888888888,
              "#fdca26"
             ],
             [
              1,
              "#f0f921"
             ]
            ],
            "type": "histogram2d"
           }
          ],
          "histogram2dcontour": [
           {
            "colorbar": {
             "outlinewidth": 0,
             "ticks": ""
            },
            "colorscale": [
             [
              0,
              "#0d0887"
             ],
             [
              0.1111111111111111,
              "#46039f"
             ],
             [
              0.2222222222222222,
              "#7201a8"
             ],
             [
              0.3333333333333333,
              "#9c179e"
             ],
             [
              0.4444444444444444,
              "#bd3786"
             ],
             [
              0.5555555555555556,
              "#d8576b"
             ],
             [
              0.6666666666666666,
              "#ed7953"
             ],
             [
              0.7777777777777778,
              "#fb9f3a"
             ],
             [
              0.8888888888888888,
              "#fdca26"
             ],
             [
              1,
              "#f0f921"
             ]
            ],
            "type": "histogram2dcontour"
           }
          ],
          "mesh3d": [
           {
            "colorbar": {
             "outlinewidth": 0,
             "ticks": ""
            },
            "type": "mesh3d"
           }
          ],
          "parcoords": [
           {
            "line": {
             "colorbar": {
              "outlinewidth": 0,
              "ticks": ""
             }
            },
            "type": "parcoords"
           }
          ],
          "pie": [
           {
            "automargin": true,
            "type": "pie"
           }
          ],
          "scatter": [
           {
            "marker": {
             "colorbar": {
              "outlinewidth": 0,
              "ticks": ""
             }
            },
            "type": "scatter"
           }
          ],
          "scatter3d": [
           {
            "line": {
             "colorbar": {
              "outlinewidth": 0,
              "ticks": ""
             }
            },
            "marker": {
             "colorbar": {
              "outlinewidth": 0,
              "ticks": ""
             }
            },
            "type": "scatter3d"
           }
          ],
          "scattercarpet": [
           {
            "marker": {
             "colorbar": {
              "outlinewidth": 0,
              "ticks": ""
             }
            },
            "type": "scattercarpet"
           }
          ],
          "scattergeo": [
           {
            "marker": {
             "colorbar": {
              "outlinewidth": 0,
              "ticks": ""
             }
            },
            "type": "scattergeo"
           }
          ],
          "scattergl": [
           {
            "marker": {
             "colorbar": {
              "outlinewidth": 0,
              "ticks": ""
             }
            },
            "type": "scattergl"
           }
          ],
          "scattermapbox": [
           {
            "marker": {
             "colorbar": {
              "outlinewidth": 0,
              "ticks": ""
             }
            },
            "type": "scattermapbox"
           }
          ],
          "scatterpolar": [
           {
            "marker": {
             "colorbar": {
              "outlinewidth": 0,
              "ticks": ""
             }
            },
            "type": "scatterpolar"
           }
          ],
          "scatterpolargl": [
           {
            "marker": {
             "colorbar": {
              "outlinewidth": 0,
              "ticks": ""
             }
            },
            "type": "scatterpolargl"
           }
          ],
          "scatterternary": [
           {
            "marker": {
             "colorbar": {
              "outlinewidth": 0,
              "ticks": ""
             }
            },
            "type": "scatterternary"
           }
          ],
          "surface": [
           {
            "colorbar": {
             "outlinewidth": 0,
             "ticks": ""
            },
            "colorscale": [
             [
              0,
              "#0d0887"
             ],
             [
              0.1111111111111111,
              "#46039f"
             ],
             [
              0.2222222222222222,
              "#7201a8"
             ],
             [
              0.3333333333333333,
              "#9c179e"
             ],
             [
              0.4444444444444444,
              "#bd3786"
             ],
             [
              0.5555555555555556,
              "#d8576b"
             ],
             [
              0.6666666666666666,
              "#ed7953"
             ],
             [
              0.7777777777777778,
              "#fb9f3a"
             ],
             [
              0.8888888888888888,
              "#fdca26"
             ],
             [
              1,
              "#f0f921"
             ]
            ],
            "type": "surface"
           }
          ],
          "table": [
           {
            "cells": {
             "fill": {
              "color": "#EBF0F8"
             },
             "line": {
              "color": "white"
             }
            },
            "header": {
             "fill": {
              "color": "#C8D4E3"
             },
             "line": {
              "color": "white"
             }
            },
            "type": "table"
           }
          ]
         },
         "layout": {
          "annotationdefaults": {
           "arrowcolor": "#2a3f5f",
           "arrowhead": 0,
           "arrowwidth": 1
          },
          "coloraxis": {
           "colorbar": {
            "outlinewidth": 0,
            "ticks": ""
           }
          },
          "colorscale": {
           "diverging": [
            [
             0,
             "#8e0152"
            ],
            [
             0.1,
             "#c51b7d"
            ],
            [
             0.2,
             "#de77ae"
            ],
            [
             0.3,
             "#f1b6da"
            ],
            [
             0.4,
             "#fde0ef"
            ],
            [
             0.5,
             "#f7f7f7"
            ],
            [
             0.6,
             "#e6f5d0"
            ],
            [
             0.7,
             "#b8e186"
            ],
            [
             0.8,
             "#7fbc41"
            ],
            [
             0.9,
             "#4d9221"
            ],
            [
             1,
             "#276419"
            ]
           ],
           "sequential": [
            [
             0,
             "#0d0887"
            ],
            [
             0.1111111111111111,
             "#46039f"
            ],
            [
             0.2222222222222222,
             "#7201a8"
            ],
            [
             0.3333333333333333,
             "#9c179e"
            ],
            [
             0.4444444444444444,
             "#bd3786"
            ],
            [
             0.5555555555555556,
             "#d8576b"
            ],
            [
             0.6666666666666666,
             "#ed7953"
            ],
            [
             0.7777777777777778,
             "#fb9f3a"
            ],
            [
             0.8888888888888888,
             "#fdca26"
            ],
            [
             1,
             "#f0f921"
            ]
           ],
           "sequentialminus": [
            [
             0,
             "#0d0887"
            ],
            [
             0.1111111111111111,
             "#46039f"
            ],
            [
             0.2222222222222222,
             "#7201a8"
            ],
            [
             0.3333333333333333,
             "#9c179e"
            ],
            [
             0.4444444444444444,
             "#bd3786"
            ],
            [
             0.5555555555555556,
             "#d8576b"
            ],
            [
             0.6666666666666666,
             "#ed7953"
            ],
            [
             0.7777777777777778,
             "#fb9f3a"
            ],
            [
             0.8888888888888888,
             "#fdca26"
            ],
            [
             1,
             "#f0f921"
            ]
           ]
          },
          "colorway": [
           "#636efa",
           "#EF553B",
           "#00cc96",
           "#ab63fa",
           "#FFA15A",
           "#19d3f3",
           "#FF6692",
           "#B6E880",
           "#FF97FF",
           "#FECB52"
          ],
          "font": {
           "color": "#2a3f5f"
          },
          "geo": {
           "bgcolor": "white",
           "lakecolor": "white",
           "landcolor": "#E5ECF6",
           "showlakes": true,
           "showland": true,
           "subunitcolor": "white"
          },
          "hoverlabel": {
           "align": "left"
          },
          "hovermode": "closest",
          "mapbox": {
           "style": "light"
          },
          "paper_bgcolor": "white",
          "plot_bgcolor": "#E5ECF6",
          "polar": {
           "angularaxis": {
            "gridcolor": "white",
            "linecolor": "white",
            "ticks": ""
           },
           "bgcolor": "#E5ECF6",
           "radialaxis": {
            "gridcolor": "white",
            "linecolor": "white",
            "ticks": ""
           }
          },
          "scene": {
           "xaxis": {
            "backgroundcolor": "#E5ECF6",
            "gridcolor": "white",
            "gridwidth": 2,
            "linecolor": "white",
            "showbackground": true,
            "ticks": "",
            "zerolinecolor": "white"
           },
           "yaxis": {
            "backgroundcolor": "#E5ECF6",
            "gridcolor": "white",
            "gridwidth": 2,
            "linecolor": "white",
            "showbackground": true,
            "ticks": "",
            "zerolinecolor": "white"
           },
           "zaxis": {
            "backgroundcolor": "#E5ECF6",
            "gridcolor": "white",
            "gridwidth": 2,
            "linecolor": "white",
            "showbackground": true,
            "ticks": "",
            "zerolinecolor": "white"
           }
          },
          "shapedefaults": {
           "line": {
            "color": "#2a3f5f"
           }
          },
          "ternary": {
           "aaxis": {
            "gridcolor": "white",
            "linecolor": "white",
            "ticks": ""
           },
           "baxis": {
            "gridcolor": "white",
            "linecolor": "white",
            "ticks": ""
           },
           "bgcolor": "#E5ECF6",
           "caxis": {
            "gridcolor": "white",
            "linecolor": "white",
            "ticks": ""
           }
          },
          "title": {
           "x": 0.05
          },
          "xaxis": {
           "automargin": true,
           "gridcolor": "white",
           "linecolor": "white",
           "ticks": "",
           "title": {
            "standoff": 15
           },
           "zerolinecolor": "white",
           "zerolinewidth": 2
          },
          "yaxis": {
           "automargin": true,
           "gridcolor": "white",
           "linecolor": "white",
           "ticks": "",
           "title": {
            "standoff": 15
           },
           "zerolinecolor": "white",
           "zerolinewidth": 2
          }
         }
        },
        "title": {
         "yanchor": "top"
        },
        "xaxis": {
         "anchor": "y",
         "domain": [
          0,
          1
         ],
         "title": {
          "text": "Average Rating (out of 5)"
         }
        },
        "yaxis": {
         "anchor": "x",
         "domain": [
          0,
          1
         ],
         "title": {
          "text": "Count"
         }
        }
       }
      },
      "text/html": [
       "<div>                            <div id=\"f3f5a02c-06d6-420d-893c-5b18d28a19eb\" class=\"plotly-graph-div\" style=\"height:525px; width:100%;\"></div>            <script type=\"text/javascript\">                require([\"plotly\"], function(Plotly) {                    window.PLOTLYENV=window.PLOTLYENV || {};                                    if (document.getElementById(\"f3f5a02c-06d6-420d-893c-5b18d28a19eb\")) {                    Plotly.newPlot(                        \"f3f5a02c-06d6-420d-893c-5b18d28a19eb\",                        [{\"hovertemplate\": \"color=Easy<br>x=%{x}<br>y=%{y}<br>size=%{marker.size}<extra></extra>\", \"legendgroup\": \"Easy\", \"marker\": {\"color\": \"#636efa\", \"size\": [1.5, 1.5, 1.5, 1.5, 1.5, 1.5, 1.5, 1.5], \"sizemode\": \"area\", \"sizeref\": 0.00375, \"symbol\": \"circle\"}, \"mode\": \"markers\", \"name\": \"Easy\", \"orientation\": \"v\", \"showlegend\": true, \"type\": \"scatter\", \"x\": [0.0, 2.0, 2.5, 3.0, 3.5, 4.0, 4.5, 5.0], \"xaxis\": \"x\", \"y\": [200, 1, 1, 2, 7, 39, 101, 118], \"yaxis\": \"y\"}, {\"hovertemplate\": \"color=Medium<br>x=%{x}<br>y=%{y}<br>size=%{marker.size}<extra></extra>\", \"legendgroup\": \"Medium\", \"marker\": {\"color\": \"#EF553B\", \"size\": [1.5, 1.5, 1.5, 1.5, 1.5, 1.5], \"sizemode\": \"area\", \"sizeref\": 0.00375, \"symbol\": \"circle\"}, \"mode\": \"markers\", \"name\": \"Medium\", \"orientation\": \"v\", \"showlegend\": true, \"type\": \"scatter\", \"x\": [0.0, 3.0, 3.5, 4.0, 4.5, 5.0], \"xaxis\": \"x\", \"y\": [62, 1, 3, 11, 27, 26], \"yaxis\": \"y\"}, {\"hovertemplate\": \"color=Hard<br>x=%{x}<br>y=%{y}<br>size=%{marker.size}<extra></extra>\", \"legendgroup\": \"Hard\", \"marker\": {\"color\": \"#00cc96\", \"size\": [1.5, 1.5, 1.5], \"sizemode\": \"area\", \"sizeref\": 0.00375, \"symbol\": \"circle\"}, \"mode\": \"markers\", \"name\": \"Hard\", \"orientation\": \"v\", \"showlegend\": true, \"type\": \"scatter\", \"x\": [0.0, 4.5, 5.0], \"xaxis\": \"x\", \"y\": [2, 3, 2], \"yaxis\": \"y\"}],                        {\"font\": {\"color\": \"rgb(31,33,36)\", \"family\": \"Arial\", \"size\": 18}, \"legend\": {\"itemsizing\": \"constant\", \"title\": {\"text\": \"color\"}, \"tracegroupgap\": 0}, \"margin\": {\"t\": 60}, \"paper_bgcolor\": \"rgba(0,0,0,0)\", \"plot_bgcolor\": \"rgba(0,0,0,0)\", \"showlegend\": false, \"template\": {\"data\": {\"bar\": [{\"error_x\": {\"color\": \"#2a3f5f\"}, \"error_y\": {\"color\": \"#2a3f5f\"}, \"marker\": {\"line\": {\"color\": \"#E5ECF6\", \"width\": 0.5}}, \"type\": \"bar\"}], \"barpolar\": [{\"marker\": {\"line\": {\"color\": \"#E5ECF6\", \"width\": 0.5}}, \"type\": \"barpolar\"}], \"carpet\": [{\"aaxis\": {\"endlinecolor\": \"#2a3f5f\", \"gridcolor\": \"white\", \"linecolor\": \"white\", \"minorgridcolor\": \"white\", \"startlinecolor\": \"#2a3f5f\"}, \"baxis\": {\"endlinecolor\": \"#2a3f5f\", \"gridcolor\": \"white\", \"linecolor\": \"white\", \"minorgridcolor\": \"white\", \"startlinecolor\": \"#2a3f5f\"}, \"type\": \"carpet\"}], \"choropleth\": [{\"colorbar\": {\"outlinewidth\": 0, \"ticks\": \"\"}, \"type\": \"choropleth\"}], \"contour\": [{\"colorbar\": {\"outlinewidth\": 0, \"ticks\": \"\"}, \"colorscale\": [[0.0, \"#0d0887\"], [0.1111111111111111, \"#46039f\"], [0.2222222222222222, \"#7201a8\"], [0.3333333333333333, \"#9c179e\"], [0.4444444444444444, \"#bd3786\"], [0.5555555555555556, \"#d8576b\"], [0.6666666666666666, \"#ed7953\"], [0.7777777777777778, \"#fb9f3a\"], [0.8888888888888888, \"#fdca26\"], [1.0, \"#f0f921\"]], \"type\": \"contour\"}], \"contourcarpet\": [{\"colorbar\": {\"outlinewidth\": 0, \"ticks\": \"\"}, \"type\": \"contourcarpet\"}], \"heatmap\": [{\"colorbar\": {\"outlinewidth\": 0, \"ticks\": \"\"}, \"colorscale\": [[0.0, \"#0d0887\"], [0.1111111111111111, \"#46039f\"], [0.2222222222222222, \"#7201a8\"], [0.3333333333333333, \"#9c179e\"], [0.4444444444444444, \"#bd3786\"], [0.5555555555555556, \"#d8576b\"], [0.6666666666666666, \"#ed7953\"], [0.7777777777777778, \"#fb9f3a\"], [0.8888888888888888, \"#fdca26\"], [1.0, \"#f0f921\"]], \"type\": \"heatmap\"}], \"heatmapgl\": [{\"colorbar\": {\"outlinewidth\": 0, \"ticks\": \"\"}, \"colorscale\": [[0.0, \"#0d0887\"], [0.1111111111111111, \"#46039f\"], [0.2222222222222222, \"#7201a8\"], [0.3333333333333333, \"#9c179e\"], [0.4444444444444444, \"#bd3786\"], [0.5555555555555556, \"#d8576b\"], [0.6666666666666666, \"#ed7953\"], [0.7777777777777778, \"#fb9f3a\"], [0.8888888888888888, \"#fdca26\"], [1.0, \"#f0f921\"]], \"type\": \"heatmapgl\"}], \"histogram\": [{\"marker\": {\"colorbar\": {\"outlinewidth\": 0, \"ticks\": \"\"}}, \"type\": \"histogram\"}], \"histogram2d\": [{\"colorbar\": {\"outlinewidth\": 0, \"ticks\": \"\"}, \"colorscale\": [[0.0, \"#0d0887\"], [0.1111111111111111, \"#46039f\"], [0.2222222222222222, \"#7201a8\"], [0.3333333333333333, \"#9c179e\"], [0.4444444444444444, \"#bd3786\"], [0.5555555555555556, \"#d8576b\"], [0.6666666666666666, \"#ed7953\"], [0.7777777777777778, \"#fb9f3a\"], [0.8888888888888888, \"#fdca26\"], [1.0, \"#f0f921\"]], \"type\": \"histogram2d\"}], \"histogram2dcontour\": [{\"colorbar\": {\"outlinewidth\": 0, \"ticks\": \"\"}, \"colorscale\": [[0.0, \"#0d0887\"], [0.1111111111111111, \"#46039f\"], [0.2222222222222222, \"#7201a8\"], [0.3333333333333333, \"#9c179e\"], [0.4444444444444444, \"#bd3786\"], [0.5555555555555556, \"#d8576b\"], [0.6666666666666666, \"#ed7953\"], [0.7777777777777778, \"#fb9f3a\"], [0.8888888888888888, \"#fdca26\"], [1.0, \"#f0f921\"]], \"type\": \"histogram2dcontour\"}], \"mesh3d\": [{\"colorbar\": {\"outlinewidth\": 0, \"ticks\": \"\"}, \"type\": \"mesh3d\"}], \"parcoords\": [{\"line\": {\"colorbar\": {\"outlinewidth\": 0, \"ticks\": \"\"}}, \"type\": \"parcoords\"}], \"pie\": [{\"automargin\": true, \"type\": \"pie\"}], \"scatter\": [{\"marker\": {\"colorbar\": {\"outlinewidth\": 0, \"ticks\": \"\"}}, \"type\": \"scatter\"}], \"scatter3d\": [{\"line\": {\"colorbar\": {\"outlinewidth\": 0, \"ticks\": \"\"}}, \"marker\": {\"colorbar\": {\"outlinewidth\": 0, \"ticks\": \"\"}}, \"type\": \"scatter3d\"}], \"scattercarpet\": [{\"marker\": {\"colorbar\": {\"outlinewidth\": 0, \"ticks\": \"\"}}, \"type\": \"scattercarpet\"}], \"scattergeo\": [{\"marker\": {\"colorbar\": {\"outlinewidth\": 0, \"ticks\": \"\"}}, \"type\": \"scattergeo\"}], \"scattergl\": [{\"marker\": {\"colorbar\": {\"outlinewidth\": 0, \"ticks\": \"\"}}, \"type\": \"scattergl\"}], \"scattermapbox\": [{\"marker\": {\"colorbar\": {\"outlinewidth\": 0, \"ticks\": \"\"}}, \"type\": \"scattermapbox\"}], \"scatterpolar\": [{\"marker\": {\"colorbar\": {\"outlinewidth\": 0, \"ticks\": \"\"}}, \"type\": \"scatterpolar\"}], \"scatterpolargl\": [{\"marker\": {\"colorbar\": {\"outlinewidth\": 0, \"ticks\": \"\"}}, \"type\": \"scatterpolargl\"}], \"scatterternary\": [{\"marker\": {\"colorbar\": {\"outlinewidth\": 0, \"ticks\": \"\"}}, \"type\": \"scatterternary\"}], \"surface\": [{\"colorbar\": {\"outlinewidth\": 0, \"ticks\": \"\"}, \"colorscale\": [[0.0, \"#0d0887\"], [0.1111111111111111, \"#46039f\"], [0.2222222222222222, \"#7201a8\"], [0.3333333333333333, \"#9c179e\"], [0.4444444444444444, \"#bd3786\"], [0.5555555555555556, \"#d8576b\"], [0.6666666666666666, \"#ed7953\"], [0.7777777777777778, \"#fb9f3a\"], [0.8888888888888888, \"#fdca26\"], [1.0, \"#f0f921\"]], \"type\": \"surface\"}], \"table\": [{\"cells\": {\"fill\": {\"color\": \"#EBF0F8\"}, \"line\": {\"color\": \"white\"}}, \"header\": {\"fill\": {\"color\": \"#C8D4E3\"}, \"line\": {\"color\": \"white\"}}, \"type\": \"table\"}]}, \"layout\": {\"annotationdefaults\": {\"arrowcolor\": \"#2a3f5f\", \"arrowhead\": 0, \"arrowwidth\": 1}, \"coloraxis\": {\"colorbar\": {\"outlinewidth\": 0, \"ticks\": \"\"}}, \"colorscale\": {\"diverging\": [[0, \"#8e0152\"], [0.1, \"#c51b7d\"], [0.2, \"#de77ae\"], [0.3, \"#f1b6da\"], [0.4, \"#fde0ef\"], [0.5, \"#f7f7f7\"], [0.6, \"#e6f5d0\"], [0.7, \"#b8e186\"], [0.8, \"#7fbc41\"], [0.9, \"#4d9221\"], [1, \"#276419\"]], \"sequential\": [[0.0, \"#0d0887\"], [0.1111111111111111, \"#46039f\"], [0.2222222222222222, \"#7201a8\"], [0.3333333333333333, \"#9c179e\"], [0.4444444444444444, \"#bd3786\"], [0.5555555555555556, \"#d8576b\"], [0.6666666666666666, \"#ed7953\"], [0.7777777777777778, \"#fb9f3a\"], [0.8888888888888888, \"#fdca26\"], [1.0, \"#f0f921\"]], \"sequentialminus\": [[0.0, \"#0d0887\"], [0.1111111111111111, \"#46039f\"], [0.2222222222222222, \"#7201a8\"], [0.3333333333333333, \"#9c179e\"], [0.4444444444444444, \"#bd3786\"], [0.5555555555555556, \"#d8576b\"], [0.6666666666666666, \"#ed7953\"], [0.7777777777777778, \"#fb9f3a\"], [0.8888888888888888, \"#fdca26\"], [1.0, \"#f0f921\"]]}, \"colorway\": [\"#636efa\", \"#EF553B\", \"#00cc96\", \"#ab63fa\", \"#FFA15A\", \"#19d3f3\", \"#FF6692\", \"#B6E880\", \"#FF97FF\", \"#FECB52\"], \"font\": {\"color\": \"#2a3f5f\"}, \"geo\": {\"bgcolor\": \"white\", \"lakecolor\": \"white\", \"landcolor\": \"#E5ECF6\", \"showlakes\": true, \"showland\": true, \"subunitcolor\": \"white\"}, \"hoverlabel\": {\"align\": \"left\"}, \"hovermode\": \"closest\", \"mapbox\": {\"style\": \"light\"}, \"paper_bgcolor\": \"white\", \"plot_bgcolor\": \"#E5ECF6\", \"polar\": {\"angularaxis\": {\"gridcolor\": \"white\", \"linecolor\": \"white\", \"ticks\": \"\"}, \"bgcolor\": \"#E5ECF6\", \"radialaxis\": {\"gridcolor\": \"white\", \"linecolor\": \"white\", \"ticks\": \"\"}}, \"scene\": {\"xaxis\": {\"backgroundcolor\": \"#E5ECF6\", \"gridcolor\": \"white\", \"gridwidth\": 2, \"linecolor\": \"white\", \"showbackground\": true, \"ticks\": \"\", \"zerolinecolor\": \"white\"}, \"yaxis\": {\"backgroundcolor\": \"#E5ECF6\", \"gridcolor\": \"white\", \"gridwidth\": 2, \"linecolor\": \"white\", \"showbackground\": true, \"ticks\": \"\", \"zerolinecolor\": \"white\"}, \"zaxis\": {\"backgroundcolor\": \"#E5ECF6\", \"gridcolor\": \"white\", \"gridwidth\": 2, \"linecolor\": \"white\", \"showbackground\": true, \"ticks\": \"\", \"zerolinecolor\": \"white\"}}, \"shapedefaults\": {\"line\": {\"color\": \"#2a3f5f\"}}, \"ternary\": {\"aaxis\": {\"gridcolor\": \"white\", \"linecolor\": \"white\", \"ticks\": \"\"}, \"baxis\": {\"gridcolor\": \"white\", \"linecolor\": \"white\", \"ticks\": \"\"}, \"bgcolor\": \"#E5ECF6\", \"caxis\": {\"gridcolor\": \"white\", \"linecolor\": \"white\", \"ticks\": \"\"}}, \"title\": {\"x\": 0.05}, \"xaxis\": {\"automargin\": true, \"gridcolor\": \"white\", \"linecolor\": \"white\", \"ticks\": \"\", \"title\": {\"standoff\": 15}, \"zerolinecolor\": \"white\", \"zerolinewidth\": 2}, \"yaxis\": {\"automargin\": true, \"gridcolor\": \"white\", \"linecolor\": \"white\", \"ticks\": \"\", \"title\": {\"standoff\": 15}, \"zerolinecolor\": \"white\", \"zerolinewidth\": 2}}}, \"title\": {\"yanchor\": \"top\"}, \"xaxis\": {\"anchor\": \"y\", \"domain\": [0.0, 1.0], \"title\": {\"text\": \"Average Rating (out of 5)\"}}, \"yaxis\": {\"anchor\": \"x\", \"domain\": [0.0, 1.0], \"title\": {\"text\": \"Count\"}}},                        {\"responsive\": true}                    ).then(function(){\n",
       "                            \n",
       "var gd = document.getElementById('f3f5a02c-06d6-420d-893c-5b18d28a19eb');\n",
       "var x = new MutationObserver(function (mutations, observer) {{\n",
       "        var display = window.getComputedStyle(gd).display;\n",
       "        if (!display || display === 'none') {{\n",
       "            console.log([gd, 'removed!']);\n",
       "            Plotly.purge(gd);\n",
       "            observer.disconnect();\n",
       "        }}\n",
       "}});\n",
       "\n",
       "// Listen for the removal of the full notebook cells\n",
       "var notebookContainer = gd.closest('#notebook-container');\n",
       "if (notebookContainer) {{\n",
       "    x.observe(notebookContainer, {childList: true});\n",
       "}}\n",
       "\n",
       "// Listen for the clearing of the current output cell\n",
       "var outputEl = gd.closest('.output');\n",
       "if (outputEl) {{\n",
       "    x.observe(outputEl, {childList: true});\n",
       "}}\n",
       "\n",
       "                        })                };                });            </script>        </div>"
      ]
     },
     "metadata": {},
     "output_type": "display_data"
    }
   ],
   "source": [
    "#This plot does not have number of likes associated with size!\n",
    "\n",
    "import plotly.express as px\n",
    "\n",
    "fig = px.scatter(x=diff_l_r['rating'], y=diff_l_r['count'], color = diff_l_r['difficulty'], \n",
    "                 size = [1.5]*len(diff_l_r['difficulty']))\n",
    "\n",
    "fig.update_layout(\n",
    "    xaxis_title = 'Average Rating (out of 5)',\n",
    "    yaxis_title = 'Count',\n",
    "    title={\n",
    "        #'text': \"How are dishes rated depending on their difficulty?\",\n",
    "        #'y':0.9,\n",
    "        #'x':0.5,\n",
    "        #'xanchor': 'center',\n",
    "        'yanchor': 'top'},\n",
    "    font = {'family': 'Arial',\n",
    "           'size': 18,\n",
    "           'color': 'rgb(31,33,36)'},\n",
    "    plot_bgcolor = 'rgba(0,0,0,0)',\n",
    "    paper_bgcolor = 'rgba(0,0,0,0)',\n",
    "    #legend_title = 'Difficulty Level',\n",
    "    showlegend = False\n",
    ")\n",
    "\n",
    "\n",
    "fig.show()"
   ]
  },
  {
   "cell_type": "code",
   "execution_count": 15,
   "metadata": {},
   "outputs": [
    {
     "data": {
      "application/vnd.plotly.v1+json": {
       "config": {
        "plotlyServerURL": "https://plot.ly"
       },
       "data": [
        {
         "hovertemplate": "color=Easy<br>x=%{x}<br>y=%{y}<br>size=%{marker.size}<extra></extra>",
         "legendgroup": "Easy",
         "marker": {
          "color": "#636efa",
          "size": [
           36,
           3,
           12,
           324,
           2245,
           4891,
           11703,
           1360
          ],
          "sizemode": "area",
          "sizeref": 53.965,
          "symbol": "circle"
         },
         "mode": "markers",
         "name": "Easy",
         "orientation": "v",
         "showlegend": true,
         "type": "scatter",
         "x": [
          0,
          2,
          2.5,
          3,
          3.5,
          4,
          4.5,
          5
         ],
         "xaxis": "x",
         "y": [
          200,
          1,
          1,
          2,
          7,
          39,
          101,
          118
         ],
         "yaxis": "y"
        },
        {
         "hovertemplate": "color=Medium<br>x=%{x}<br>y=%{y}<br>size=%{marker.size}<extra></extra>",
         "legendgroup": "Medium",
         "marker": {
          "color": "#EF553B",
          "size": [
           35,
           10,
           4198,
           3167,
           11050,
           1304
          ],
          "sizemode": "area",
          "sizeref": 53.965,
          "symbol": "circle"
         },
         "mode": "markers",
         "name": "Medium",
         "orientation": "v",
         "showlegend": true,
         "type": "scatter",
         "x": [
          0,
          3,
          3.5,
          4,
          4.5,
          5
         ],
         "xaxis": "x",
         "y": [
          62,
          1,
          3,
          11,
          27,
          26
         ],
         "yaxis": "y"
        },
        {
         "hovertemplate": "color=Hard<br>x=%{x}<br>y=%{y}<br>size=%{marker.size}<extra></extra>",
         "legendgroup": "Hard",
         "marker": {
          "color": "#00cc96",
          "size": [
           9,
           21586,
           24
          ],
          "sizemode": "area",
          "sizeref": 53.965,
          "symbol": "circle"
         },
         "mode": "markers",
         "name": "Hard",
         "orientation": "v",
         "showlegend": true,
         "type": "scatter",
         "x": [
          0,
          4.5,
          5
         ],
         "xaxis": "x",
         "y": [
          2,
          3,
          2
         ],
         "yaxis": "y"
        }
       ],
       "layout": {
        "font": {
         "color": "rgb(31,33,36)",
         "family": "Arial",
         "size": 18
        },
        "legend": {
         "itemsizing": "constant",
         "title": {
          "text": "Difficulty Level"
         },
         "tracegroupgap": 0
        },
        "margin": {
         "t": 60
        },
        "paper_bgcolor": "rgba(0,0,0,0)",
        "plot_bgcolor": "rgba(0,0,0,0)",
        "template": {
         "data": {
          "bar": [
           {
            "error_x": {
             "color": "#2a3f5f"
            },
            "error_y": {
             "color": "#2a3f5f"
            },
            "marker": {
             "line": {
              "color": "#E5ECF6",
              "width": 0.5
             }
            },
            "type": "bar"
           }
          ],
          "barpolar": [
           {
            "marker": {
             "line": {
              "color": "#E5ECF6",
              "width": 0.5
             }
            },
            "type": "barpolar"
           }
          ],
          "carpet": [
           {
            "aaxis": {
             "endlinecolor": "#2a3f5f",
             "gridcolor": "white",
             "linecolor": "white",
             "minorgridcolor": "white",
             "startlinecolor": "#2a3f5f"
            },
            "baxis": {
             "endlinecolor": "#2a3f5f",
             "gridcolor": "white",
             "linecolor": "white",
             "minorgridcolor": "white",
             "startlinecolor": "#2a3f5f"
            },
            "type": "carpet"
           }
          ],
          "choropleth": [
           {
            "colorbar": {
             "outlinewidth": 0,
             "ticks": ""
            },
            "type": "choropleth"
           }
          ],
          "contour": [
           {
            "colorbar": {
             "outlinewidth": 0,
             "ticks": ""
            },
            "colorscale": [
             [
              0,
              "#0d0887"
             ],
             [
              0.1111111111111111,
              "#46039f"
             ],
             [
              0.2222222222222222,
              "#7201a8"
             ],
             [
              0.3333333333333333,
              "#9c179e"
             ],
             [
              0.4444444444444444,
              "#bd3786"
             ],
             [
              0.5555555555555556,
              "#d8576b"
             ],
             [
              0.6666666666666666,
              "#ed7953"
             ],
             [
              0.7777777777777778,
              "#fb9f3a"
             ],
             [
              0.8888888888888888,
              "#fdca26"
             ],
             [
              1,
              "#f0f921"
             ]
            ],
            "type": "contour"
           }
          ],
          "contourcarpet": [
           {
            "colorbar": {
             "outlinewidth": 0,
             "ticks": ""
            },
            "type": "contourcarpet"
           }
          ],
          "heatmap": [
           {
            "colorbar": {
             "outlinewidth": 0,
             "ticks": ""
            },
            "colorscale": [
             [
              0,
              "#0d0887"
             ],
             [
              0.1111111111111111,
              "#46039f"
             ],
             [
              0.2222222222222222,
              "#7201a8"
             ],
             [
              0.3333333333333333,
              "#9c179e"
             ],
             [
              0.4444444444444444,
              "#bd3786"
             ],
             [
              0.5555555555555556,
              "#d8576b"
             ],
             [
              0.6666666666666666,
              "#ed7953"
             ],
             [
              0.7777777777777778,
              "#fb9f3a"
             ],
             [
              0.8888888888888888,
              "#fdca26"
             ],
             [
              1,
              "#f0f921"
             ]
            ],
            "type": "heatmap"
           }
          ],
          "heatmapgl": [
           {
            "colorbar": {
             "outlinewidth": 0,
             "ticks": ""
            },
            "colorscale": [
             [
              0,
              "#0d0887"
             ],
             [
              0.1111111111111111,
              "#46039f"
             ],
             [
              0.2222222222222222,
              "#7201a8"
             ],
             [
              0.3333333333333333,
              "#9c179e"
             ],
             [
              0.4444444444444444,
              "#bd3786"
             ],
             [
              0.5555555555555556,
              "#d8576b"
             ],
             [
              0.6666666666666666,
              "#ed7953"
             ],
             [
              0.7777777777777778,
              "#fb9f3a"
             ],
             [
              0.8888888888888888,
              "#fdca26"
             ],
             [
              1,
              "#f0f921"
             ]
            ],
            "type": "heatmapgl"
           }
          ],
          "histogram": [
           {
            "marker": {
             "colorbar": {
              "outlinewidth": 0,
              "ticks": ""
             }
            },
            "type": "histogram"
           }
          ],
          "histogram2d": [
           {
            "colorbar": {
             "outlinewidth": 0,
             "ticks": ""
            },
            "colorscale": [
             [
              0,
              "#0d0887"
             ],
             [
              0.1111111111111111,
              "#46039f"
             ],
             [
              0.2222222222222222,
              "#7201a8"
             ],
             [
              0.3333333333333333,
              "#9c179e"
             ],
             [
              0.4444444444444444,
              "#bd3786"
             ],
             [
              0.5555555555555556,
              "#d8576b"
             ],
             [
              0.6666666666666666,
              "#ed7953"
             ],
             [
              0.7777777777777778,
              "#fb9f3a"
             ],
             [
              0.8888888888888888,
              "#fdca26"
             ],
             [
              1,
              "#f0f921"
             ]
            ],
            "type": "histogram2d"
           }
          ],
          "histogram2dcontour": [
           {
            "colorbar": {
             "outlinewidth": 0,
             "ticks": ""
            },
            "colorscale": [
             [
              0,
              "#0d0887"
             ],
             [
              0.1111111111111111,
              "#46039f"
             ],
             [
              0.2222222222222222,
              "#7201a8"
             ],
             [
              0.3333333333333333,
              "#9c179e"
             ],
             [
              0.4444444444444444,
              "#bd3786"
             ],
             [
              0.5555555555555556,
              "#d8576b"
             ],
             [
              0.6666666666666666,
              "#ed7953"
             ],
             [
              0.7777777777777778,
              "#fb9f3a"
             ],
             [
              0.8888888888888888,
              "#fdca26"
             ],
             [
              1,
              "#f0f921"
             ]
            ],
            "type": "histogram2dcontour"
           }
          ],
          "mesh3d": [
           {
            "colorbar": {
             "outlinewidth": 0,
             "ticks": ""
            },
            "type": "mesh3d"
           }
          ],
          "parcoords": [
           {
            "line": {
             "colorbar": {
              "outlinewidth": 0,
              "ticks": ""
             }
            },
            "type": "parcoords"
           }
          ],
          "pie": [
           {
            "automargin": true,
            "type": "pie"
           }
          ],
          "scatter": [
           {
            "marker": {
             "colorbar": {
              "outlinewidth": 0,
              "ticks": ""
             }
            },
            "type": "scatter"
           }
          ],
          "scatter3d": [
           {
            "line": {
             "colorbar": {
              "outlinewidth": 0,
              "ticks": ""
             }
            },
            "marker": {
             "colorbar": {
              "outlinewidth": 0,
              "ticks": ""
             }
            },
            "type": "scatter3d"
           }
          ],
          "scattercarpet": [
           {
            "marker": {
             "colorbar": {
              "outlinewidth": 0,
              "ticks": ""
             }
            },
            "type": "scattercarpet"
           }
          ],
          "scattergeo": [
           {
            "marker": {
             "colorbar": {
              "outlinewidth": 0,
              "ticks": ""
             }
            },
            "type": "scattergeo"
           }
          ],
          "scattergl": [
           {
            "marker": {
             "colorbar": {
              "outlinewidth": 0,
              "ticks": ""
             }
            },
            "type": "scattergl"
           }
          ],
          "scattermapbox": [
           {
            "marker": {
             "colorbar": {
              "outlinewidth": 0,
              "ticks": ""
             }
            },
            "type": "scattermapbox"
           }
          ],
          "scatterpolar": [
           {
            "marker": {
             "colorbar": {
              "outlinewidth": 0,
              "ticks": ""
             }
            },
            "type": "scatterpolar"
           }
          ],
          "scatterpolargl": [
           {
            "marker": {
             "colorbar": {
              "outlinewidth": 0,
              "ticks": ""
             }
            },
            "type": "scatterpolargl"
           }
          ],
          "scatterternary": [
           {
            "marker": {
             "colorbar": {
              "outlinewidth": 0,
              "ticks": ""
             }
            },
            "type": "scatterternary"
           }
          ],
          "surface": [
           {
            "colorbar": {
             "outlinewidth": 0,
             "ticks": ""
            },
            "colorscale": [
             [
              0,
              "#0d0887"
             ],
             [
              0.1111111111111111,
              "#46039f"
             ],
             [
              0.2222222222222222,
              "#7201a8"
             ],
             [
              0.3333333333333333,
              "#9c179e"
             ],
             [
              0.4444444444444444,
              "#bd3786"
             ],
             [
              0.5555555555555556,
              "#d8576b"
             ],
             [
              0.6666666666666666,
              "#ed7953"
             ],
             [
              0.7777777777777778,
              "#fb9f3a"
             ],
             [
              0.8888888888888888,
              "#fdca26"
             ],
             [
              1,
              "#f0f921"
             ]
            ],
            "type": "surface"
           }
          ],
          "table": [
           {
            "cells": {
             "fill": {
              "color": "#EBF0F8"
             },
             "line": {
              "color": "white"
             }
            },
            "header": {
             "fill": {
              "color": "#C8D4E3"
             },
             "line": {
              "color": "white"
             }
            },
            "type": "table"
           }
          ]
         },
         "layout": {
          "annotationdefaults": {
           "arrowcolor": "#2a3f5f",
           "arrowhead": 0,
           "arrowwidth": 1
          },
          "coloraxis": {
           "colorbar": {
            "outlinewidth": 0,
            "ticks": ""
           }
          },
          "colorscale": {
           "diverging": [
            [
             0,
             "#8e0152"
            ],
            [
             0.1,
             "#c51b7d"
            ],
            [
             0.2,
             "#de77ae"
            ],
            [
             0.3,
             "#f1b6da"
            ],
            [
             0.4,
             "#fde0ef"
            ],
            [
             0.5,
             "#f7f7f7"
            ],
            [
             0.6,
             "#e6f5d0"
            ],
            [
             0.7,
             "#b8e186"
            ],
            [
             0.8,
             "#7fbc41"
            ],
            [
             0.9,
             "#4d9221"
            ],
            [
             1,
             "#276419"
            ]
           ],
           "sequential": [
            [
             0,
             "#0d0887"
            ],
            [
             0.1111111111111111,
             "#46039f"
            ],
            [
             0.2222222222222222,
             "#7201a8"
            ],
            [
             0.3333333333333333,
             "#9c179e"
            ],
            [
             0.4444444444444444,
             "#bd3786"
            ],
            [
             0.5555555555555556,
             "#d8576b"
            ],
            [
             0.6666666666666666,
             "#ed7953"
            ],
            [
             0.7777777777777778,
             "#fb9f3a"
            ],
            [
             0.8888888888888888,
             "#fdca26"
            ],
            [
             1,
             "#f0f921"
            ]
           ],
           "sequentialminus": [
            [
             0,
             "#0d0887"
            ],
            [
             0.1111111111111111,
             "#46039f"
            ],
            [
             0.2222222222222222,
             "#7201a8"
            ],
            [
             0.3333333333333333,
             "#9c179e"
            ],
            [
             0.4444444444444444,
             "#bd3786"
            ],
            [
             0.5555555555555556,
             "#d8576b"
            ],
            [
             0.6666666666666666,
             "#ed7953"
            ],
            [
             0.7777777777777778,
             "#fb9f3a"
            ],
            [
             0.8888888888888888,
             "#fdca26"
            ],
            [
             1,
             "#f0f921"
            ]
           ]
          },
          "colorway": [
           "#636efa",
           "#EF553B",
           "#00cc96",
           "#ab63fa",
           "#FFA15A",
           "#19d3f3",
           "#FF6692",
           "#B6E880",
           "#FF97FF",
           "#FECB52"
          ],
          "font": {
           "color": "#2a3f5f"
          },
          "geo": {
           "bgcolor": "white",
           "lakecolor": "white",
           "landcolor": "#E5ECF6",
           "showlakes": true,
           "showland": true,
           "subunitcolor": "white"
          },
          "hoverlabel": {
           "align": "left"
          },
          "hovermode": "closest",
          "mapbox": {
           "style": "light"
          },
          "paper_bgcolor": "white",
          "plot_bgcolor": "#E5ECF6",
          "polar": {
           "angularaxis": {
            "gridcolor": "white",
            "linecolor": "white",
            "ticks": ""
           },
           "bgcolor": "#E5ECF6",
           "radialaxis": {
            "gridcolor": "white",
            "linecolor": "white",
            "ticks": ""
           }
          },
          "scene": {
           "xaxis": {
            "backgroundcolor": "#E5ECF6",
            "gridcolor": "white",
            "gridwidth": 2,
            "linecolor": "white",
            "showbackground": true,
            "ticks": "",
            "zerolinecolor": "white"
           },
           "yaxis": {
            "backgroundcolor": "#E5ECF6",
            "gridcolor": "white",
            "gridwidth": 2,
            "linecolor": "white",
            "showbackground": true,
            "ticks": "",
            "zerolinecolor": "white"
           },
           "zaxis": {
            "backgroundcolor": "#E5ECF6",
            "gridcolor": "white",
            "gridwidth": 2,
            "linecolor": "white",
            "showbackground": true,
            "ticks": "",
            "zerolinecolor": "white"
           }
          },
          "shapedefaults": {
           "line": {
            "color": "#2a3f5f"
           }
          },
          "ternary": {
           "aaxis": {
            "gridcolor": "white",
            "linecolor": "white",
            "ticks": ""
           },
           "baxis": {
            "gridcolor": "white",
            "linecolor": "white",
            "ticks": ""
           },
           "bgcolor": "#E5ECF6",
           "caxis": {
            "gridcolor": "white",
            "linecolor": "white",
            "ticks": ""
           }
          },
          "title": {
           "x": 0.05
          },
          "xaxis": {
           "automargin": true,
           "gridcolor": "white",
           "linecolor": "white",
           "ticks": "",
           "title": {
            "standoff": 15
           },
           "zerolinecolor": "white",
           "zerolinewidth": 2
          },
          "yaxis": {
           "automargin": true,
           "gridcolor": "white",
           "linecolor": "white",
           "ticks": "",
           "title": {
            "standoff": 15
           },
           "zerolinecolor": "white",
           "zerolinewidth": 2
          }
         }
        },
        "title": {
         "yanchor": "top"
        },
        "xaxis": {
         "anchor": "y",
         "domain": [
          0,
          1
         ],
         "title": {
          "text": "Average Rating (out of 5)"
         }
        },
        "yaxis": {
         "anchor": "x",
         "domain": [
          0,
          1
         ],
         "title": {
          "text": "Count"
         }
        }
       }
      },
      "text/html": [
       "<div>                            <div id=\"de43324f-7ef8-416a-b391-d92ed9d84a9d\" class=\"plotly-graph-div\" style=\"height:525px; width:100%;\"></div>            <script type=\"text/javascript\">                require([\"plotly\"], function(Plotly) {                    window.PLOTLYENV=window.PLOTLYENV || {};                                    if (document.getElementById(\"de43324f-7ef8-416a-b391-d92ed9d84a9d\")) {                    Plotly.newPlot(                        \"de43324f-7ef8-416a-b391-d92ed9d84a9d\",                        [{\"hovertemplate\": \"color=Easy<br>x=%{x}<br>y=%{y}<br>size=%{marker.size}<extra></extra>\", \"legendgroup\": \"Easy\", \"marker\": {\"color\": \"#636efa\", \"size\": [36.0, 3.0, 12.0, 324.0, 2245.0, 4891.0, 11703.0, 1360.0], \"sizemode\": \"area\", \"sizeref\": 53.965, \"symbol\": \"circle\"}, \"mode\": \"markers\", \"name\": \"Easy\", \"orientation\": \"v\", \"showlegend\": true, \"type\": \"scatter\", \"x\": [0.0, 2.0, 2.5, 3.0, 3.5, 4.0, 4.5, 5.0], \"xaxis\": \"x\", \"y\": [200, 1, 1, 2, 7, 39, 101, 118], \"yaxis\": \"y\"}, {\"hovertemplate\": \"color=Medium<br>x=%{x}<br>y=%{y}<br>size=%{marker.size}<extra></extra>\", \"legendgroup\": \"Medium\", \"marker\": {\"color\": \"#EF553B\", \"size\": [35.0, 10.0, 4198.0, 3167.0, 11050.0, 1304.0], \"sizemode\": \"area\", \"sizeref\": 53.965, \"symbol\": \"circle\"}, \"mode\": \"markers\", \"name\": \"Medium\", \"orientation\": \"v\", \"showlegend\": true, \"type\": \"scatter\", \"x\": [0.0, 3.0, 3.5, 4.0, 4.5, 5.0], \"xaxis\": \"x\", \"y\": [62, 1, 3, 11, 27, 26], \"yaxis\": \"y\"}, {\"hovertemplate\": \"color=Hard<br>x=%{x}<br>y=%{y}<br>size=%{marker.size}<extra></extra>\", \"legendgroup\": \"Hard\", \"marker\": {\"color\": \"#00cc96\", \"size\": [9.0, 21586.0, 24.0], \"sizemode\": \"area\", \"sizeref\": 53.965, \"symbol\": \"circle\"}, \"mode\": \"markers\", \"name\": \"Hard\", \"orientation\": \"v\", \"showlegend\": true, \"type\": \"scatter\", \"x\": [0.0, 4.5, 5.0], \"xaxis\": \"x\", \"y\": [2, 3, 2], \"yaxis\": \"y\"}],                        {\"font\": {\"color\": \"rgb(31,33,36)\", \"family\": \"Arial\", \"size\": 18}, \"legend\": {\"itemsizing\": \"constant\", \"title\": {\"text\": \"Difficulty Level\"}, \"tracegroupgap\": 0}, \"margin\": {\"t\": 60}, \"paper_bgcolor\": \"rgba(0,0,0,0)\", \"plot_bgcolor\": \"rgba(0,0,0,0)\", \"template\": {\"data\": {\"bar\": [{\"error_x\": {\"color\": \"#2a3f5f\"}, \"error_y\": {\"color\": \"#2a3f5f\"}, \"marker\": {\"line\": {\"color\": \"#E5ECF6\", \"width\": 0.5}}, \"type\": \"bar\"}], \"barpolar\": [{\"marker\": {\"line\": {\"color\": \"#E5ECF6\", \"width\": 0.5}}, \"type\": \"barpolar\"}], \"carpet\": [{\"aaxis\": {\"endlinecolor\": \"#2a3f5f\", \"gridcolor\": \"white\", \"linecolor\": \"white\", \"minorgridcolor\": \"white\", \"startlinecolor\": \"#2a3f5f\"}, \"baxis\": {\"endlinecolor\": \"#2a3f5f\", \"gridcolor\": \"white\", \"linecolor\": \"white\", \"minorgridcolor\": \"white\", \"startlinecolor\": \"#2a3f5f\"}, \"type\": \"carpet\"}], \"choropleth\": [{\"colorbar\": {\"outlinewidth\": 0, \"ticks\": \"\"}, \"type\": \"choropleth\"}], \"contour\": [{\"colorbar\": {\"outlinewidth\": 0, \"ticks\": \"\"}, \"colorscale\": [[0.0, \"#0d0887\"], [0.1111111111111111, \"#46039f\"], [0.2222222222222222, \"#7201a8\"], [0.3333333333333333, \"#9c179e\"], [0.4444444444444444, \"#bd3786\"], [0.5555555555555556, \"#d8576b\"], [0.6666666666666666, \"#ed7953\"], [0.7777777777777778, \"#fb9f3a\"], [0.8888888888888888, \"#fdca26\"], [1.0, \"#f0f921\"]], \"type\": \"contour\"}], \"contourcarpet\": [{\"colorbar\": {\"outlinewidth\": 0, \"ticks\": \"\"}, \"type\": \"contourcarpet\"}], \"heatmap\": [{\"colorbar\": {\"outlinewidth\": 0, \"ticks\": \"\"}, \"colorscale\": [[0.0, \"#0d0887\"], [0.1111111111111111, \"#46039f\"], [0.2222222222222222, \"#7201a8\"], [0.3333333333333333, \"#9c179e\"], [0.4444444444444444, \"#bd3786\"], [0.5555555555555556, \"#d8576b\"], [0.6666666666666666, \"#ed7953\"], [0.7777777777777778, \"#fb9f3a\"], [0.8888888888888888, \"#fdca26\"], [1.0, \"#f0f921\"]], \"type\": \"heatmap\"}], \"heatmapgl\": [{\"colorbar\": {\"outlinewidth\": 0, \"ticks\": \"\"}, \"colorscale\": [[0.0, \"#0d0887\"], [0.1111111111111111, \"#46039f\"], [0.2222222222222222, \"#7201a8\"], [0.3333333333333333, \"#9c179e\"], [0.4444444444444444, \"#bd3786\"], [0.5555555555555556, \"#d8576b\"], [0.6666666666666666, \"#ed7953\"], [0.7777777777777778, \"#fb9f3a\"], [0.8888888888888888, \"#fdca26\"], [1.0, \"#f0f921\"]], \"type\": \"heatmapgl\"}], \"histogram\": [{\"marker\": {\"colorbar\": {\"outlinewidth\": 0, \"ticks\": \"\"}}, \"type\": \"histogram\"}], \"histogram2d\": [{\"colorbar\": {\"outlinewidth\": 0, \"ticks\": \"\"}, \"colorscale\": [[0.0, \"#0d0887\"], [0.1111111111111111, \"#46039f\"], [0.2222222222222222, \"#7201a8\"], [0.3333333333333333, \"#9c179e\"], [0.4444444444444444, \"#bd3786\"], [0.5555555555555556, \"#d8576b\"], [0.6666666666666666, \"#ed7953\"], [0.7777777777777778, \"#fb9f3a\"], [0.8888888888888888, \"#fdca26\"], [1.0, \"#f0f921\"]], \"type\": \"histogram2d\"}], \"histogram2dcontour\": [{\"colorbar\": {\"outlinewidth\": 0, \"ticks\": \"\"}, \"colorscale\": [[0.0, \"#0d0887\"], [0.1111111111111111, \"#46039f\"], [0.2222222222222222, \"#7201a8\"], [0.3333333333333333, \"#9c179e\"], [0.4444444444444444, \"#bd3786\"], [0.5555555555555556, \"#d8576b\"], [0.6666666666666666, \"#ed7953\"], [0.7777777777777778, \"#fb9f3a\"], [0.8888888888888888, \"#fdca26\"], [1.0, \"#f0f921\"]], \"type\": \"histogram2dcontour\"}], \"mesh3d\": [{\"colorbar\": {\"outlinewidth\": 0, \"ticks\": \"\"}, \"type\": \"mesh3d\"}], \"parcoords\": [{\"line\": {\"colorbar\": {\"outlinewidth\": 0, \"ticks\": \"\"}}, \"type\": \"parcoords\"}], \"pie\": [{\"automargin\": true, \"type\": \"pie\"}], \"scatter\": [{\"marker\": {\"colorbar\": {\"outlinewidth\": 0, \"ticks\": \"\"}}, \"type\": \"scatter\"}], \"scatter3d\": [{\"line\": {\"colorbar\": {\"outlinewidth\": 0, \"ticks\": \"\"}}, \"marker\": {\"colorbar\": {\"outlinewidth\": 0, \"ticks\": \"\"}}, \"type\": \"scatter3d\"}], \"scattercarpet\": [{\"marker\": {\"colorbar\": {\"outlinewidth\": 0, \"ticks\": \"\"}}, \"type\": \"scattercarpet\"}], \"scattergeo\": [{\"marker\": {\"colorbar\": {\"outlinewidth\": 0, \"ticks\": \"\"}}, \"type\": \"scattergeo\"}], \"scattergl\": [{\"marker\": {\"colorbar\": {\"outlinewidth\": 0, \"ticks\": \"\"}}, \"type\": \"scattergl\"}], \"scattermapbox\": [{\"marker\": {\"colorbar\": {\"outlinewidth\": 0, \"ticks\": \"\"}}, \"type\": \"scattermapbox\"}], \"scatterpolar\": [{\"marker\": {\"colorbar\": {\"outlinewidth\": 0, \"ticks\": \"\"}}, \"type\": \"scatterpolar\"}], \"scatterpolargl\": [{\"marker\": {\"colorbar\": {\"outlinewidth\": 0, \"ticks\": \"\"}}, \"type\": \"scatterpolargl\"}], \"scatterternary\": [{\"marker\": {\"colorbar\": {\"outlinewidth\": 0, \"ticks\": \"\"}}, \"type\": \"scatterternary\"}], \"surface\": [{\"colorbar\": {\"outlinewidth\": 0, \"ticks\": \"\"}, \"colorscale\": [[0.0, \"#0d0887\"], [0.1111111111111111, \"#46039f\"], [0.2222222222222222, \"#7201a8\"], [0.3333333333333333, \"#9c179e\"], [0.4444444444444444, \"#bd3786\"], [0.5555555555555556, \"#d8576b\"], [0.6666666666666666, \"#ed7953\"], [0.7777777777777778, \"#fb9f3a\"], [0.8888888888888888, \"#fdca26\"], [1.0, \"#f0f921\"]], \"type\": \"surface\"}], \"table\": [{\"cells\": {\"fill\": {\"color\": \"#EBF0F8\"}, \"line\": {\"color\": \"white\"}}, \"header\": {\"fill\": {\"color\": \"#C8D4E3\"}, \"line\": {\"color\": \"white\"}}, \"type\": \"table\"}]}, \"layout\": {\"annotationdefaults\": {\"arrowcolor\": \"#2a3f5f\", \"arrowhead\": 0, \"arrowwidth\": 1}, \"coloraxis\": {\"colorbar\": {\"outlinewidth\": 0, \"ticks\": \"\"}}, \"colorscale\": {\"diverging\": [[0, \"#8e0152\"], [0.1, \"#c51b7d\"], [0.2, \"#de77ae\"], [0.3, \"#f1b6da\"], [0.4, \"#fde0ef\"], [0.5, \"#f7f7f7\"], [0.6, \"#e6f5d0\"], [0.7, \"#b8e186\"], [0.8, \"#7fbc41\"], [0.9, \"#4d9221\"], [1, \"#276419\"]], \"sequential\": [[0.0, \"#0d0887\"], [0.1111111111111111, \"#46039f\"], [0.2222222222222222, \"#7201a8\"], [0.3333333333333333, \"#9c179e\"], [0.4444444444444444, \"#bd3786\"], [0.5555555555555556, \"#d8576b\"], [0.6666666666666666, \"#ed7953\"], [0.7777777777777778, \"#fb9f3a\"], [0.8888888888888888, \"#fdca26\"], [1.0, \"#f0f921\"]], \"sequentialminus\": [[0.0, \"#0d0887\"], [0.1111111111111111, \"#46039f\"], [0.2222222222222222, \"#7201a8\"], [0.3333333333333333, \"#9c179e\"], [0.4444444444444444, \"#bd3786\"], [0.5555555555555556, \"#d8576b\"], [0.6666666666666666, \"#ed7953\"], [0.7777777777777778, \"#fb9f3a\"], [0.8888888888888888, \"#fdca26\"], [1.0, \"#f0f921\"]]}, \"colorway\": [\"#636efa\", \"#EF553B\", \"#00cc96\", \"#ab63fa\", \"#FFA15A\", \"#19d3f3\", \"#FF6692\", \"#B6E880\", \"#FF97FF\", \"#FECB52\"], \"font\": {\"color\": \"#2a3f5f\"}, \"geo\": {\"bgcolor\": \"white\", \"lakecolor\": \"white\", \"landcolor\": \"#E5ECF6\", \"showlakes\": true, \"showland\": true, \"subunitcolor\": \"white\"}, \"hoverlabel\": {\"align\": \"left\"}, \"hovermode\": \"closest\", \"mapbox\": {\"style\": \"light\"}, \"paper_bgcolor\": \"white\", \"plot_bgcolor\": \"#E5ECF6\", \"polar\": {\"angularaxis\": {\"gridcolor\": \"white\", \"linecolor\": \"white\", \"ticks\": \"\"}, \"bgcolor\": \"#E5ECF6\", \"radialaxis\": {\"gridcolor\": \"white\", \"linecolor\": \"white\", \"ticks\": \"\"}}, \"scene\": {\"xaxis\": {\"backgroundcolor\": \"#E5ECF6\", \"gridcolor\": \"white\", \"gridwidth\": 2, \"linecolor\": \"white\", \"showbackground\": true, \"ticks\": \"\", \"zerolinecolor\": \"white\"}, \"yaxis\": {\"backgroundcolor\": \"#E5ECF6\", \"gridcolor\": \"white\", \"gridwidth\": 2, \"linecolor\": \"white\", \"showbackground\": true, \"ticks\": \"\", \"zerolinecolor\": \"white\"}, \"zaxis\": {\"backgroundcolor\": \"#E5ECF6\", \"gridcolor\": \"white\", \"gridwidth\": 2, \"linecolor\": \"white\", \"showbackground\": true, \"ticks\": \"\", \"zerolinecolor\": \"white\"}}, \"shapedefaults\": {\"line\": {\"color\": \"#2a3f5f\"}}, \"ternary\": {\"aaxis\": {\"gridcolor\": \"white\", \"linecolor\": \"white\", \"ticks\": \"\"}, \"baxis\": {\"gridcolor\": \"white\", \"linecolor\": \"white\", \"ticks\": \"\"}, \"bgcolor\": \"#E5ECF6\", \"caxis\": {\"gridcolor\": \"white\", \"linecolor\": \"white\", \"ticks\": \"\"}}, \"title\": {\"x\": 0.05}, \"xaxis\": {\"automargin\": true, \"gridcolor\": \"white\", \"linecolor\": \"white\", \"ticks\": \"\", \"title\": {\"standoff\": 15}, \"zerolinecolor\": \"white\", \"zerolinewidth\": 2}, \"yaxis\": {\"automargin\": true, \"gridcolor\": \"white\", \"linecolor\": \"white\", \"ticks\": \"\", \"title\": {\"standoff\": 15}, \"zerolinecolor\": \"white\", \"zerolinewidth\": 2}}}, \"title\": {\"yanchor\": \"top\"}, \"xaxis\": {\"anchor\": \"y\", \"domain\": [0.0, 1.0], \"title\": {\"text\": \"Average Rating (out of 5)\"}}, \"yaxis\": {\"anchor\": \"x\", \"domain\": [0.0, 1.0], \"title\": {\"text\": \"Count\"}}},                        {\"responsive\": true}                    ).then(function(){\n",
       "                            \n",
       "var gd = document.getElementById('de43324f-7ef8-416a-b391-d92ed9d84a9d');\n",
       "var x = new MutationObserver(function (mutations, observer) {{\n",
       "        var display = window.getComputedStyle(gd).display;\n",
       "        if (!display || display === 'none') {{\n",
       "            console.log([gd, 'removed!']);\n",
       "            Plotly.purge(gd);\n",
       "            observer.disconnect();\n",
       "        }}\n",
       "}});\n",
       "\n",
       "// Listen for the removal of the full notebook cells\n",
       "var notebookContainer = gd.closest('#notebook-container');\n",
       "if (notebookContainer) {{\n",
       "    x.observe(notebookContainer, {childList: true});\n",
       "}}\n",
       "\n",
       "// Listen for the clearing of the current output cell\n",
       "var outputEl = gd.closest('.output');\n",
       "if (outputEl) {{\n",
       "    x.observe(outputEl, {childList: true});\n",
       "}}\n",
       "\n",
       "                        })                };                });            </script>        </div>"
      ]
     },
     "metadata": {},
     "output_type": "display_data"
    }
   ],
   "source": [
    "import plotly.express as px\n",
    "\n",
    "fig = px.scatter(x=diff_l_r['rating'], y=diff_l_r['count'], color = diff_l_r['difficulty'], \n",
    "                 size = diff_l_r['ave_likes'])\n",
    "\n",
    "fig.update_layout(\n",
    "    xaxis_title = 'Average Rating (out of 5)',\n",
    "    yaxis_title = 'Count',\n",
    "    title={\n",
    "        #'text': \"How are dishes rated depending on their difficulty?\",\n",
    "        #'y':0.9,\n",
    "        #'x':0.5,\n",
    "        #'xanchor': 'center',\n",
    "        'yanchor': 'top'},\n",
    "    font = {'family': 'Arial',\n",
    "           'size': 18,\n",
    "           'color': 'rgb(31,33,36)'},\n",
    "    plot_bgcolor = 'rgba(0,0,0,0)',\n",
    "    paper_bgcolor = 'rgba(0,0,0,0)',\n",
    "    legend_title = 'Difficulty Level'\n",
    ")\n",
    "\n",
    "\n",
    "fig.show()"
   ]
  },
  {
   "cell_type": "code",
   "execution_count": 16,
   "metadata": {},
   "outputs": [
    {
     "name": "stdout",
     "output_type": "stream",
     "text": [
      "   difficulty  rating  count  ave_likes\n",
      "15       Hard     4.5      3    21586.0\n"
     ]
    }
   ],
   "source": [
    "print(diff_l_r[diff_l_r.ave_likes == diff_l_r.ave_likes.max()]) "
   ]
  },
  {
   "cell_type": "code",
   "execution_count": 17,
   "metadata": {
    "scrolled": true
   },
   "outputs": [
    {
     "name": "stdout",
     "output_type": "stream",
     "text": [
      "   difficulty  rating  count  ave_likes\n",
      "7        Easy     5.0    118     1360.0\n",
      "13     Medium     5.0     26     1304.0\n",
      "16       Hard     5.0      2       24.0\n"
     ]
    }
   ],
   "source": [
    "print(diff_l_r[diff_l_r.rating == diff_l_r.rating.max()]) "
   ]
  },
  {
   "cell_type": "markdown",
   "metadata": {},
   "source": [
    "### Steps vs User Likes"
   ]
  },
  {
   "cell_type": "code",
   "execution_count": 18,
   "metadata": {},
   "outputs": [
    {
     "name": "stdout",
     "output_type": "stream",
     "text": [
      "     author                 author_type  bake_time  calories   carb carb_u  \\\n",
      "110  Verena  Founder at Kitchen Stories          0     779.0  347.0      g   \n",
      "\n",
      "    difficulty dish_description      dish_name   fat  ... protein_u  rating  \\\n",
      "110       Easy              NaN  One-pot pasta  38.0  ...         g     4.5   \n",
      "\n",
      "    rest_time reviews_for_rating servings  total_steps  user_likes  \\\n",
      "110         0              752.0        2          4.0      139881   \n",
      "\n",
      "                                              utensils  author_group  \\\n",
      "110  ['cutting board', 'knife', 'cooking spoon', 'd...       KS Team   \n",
      "\n",
      "     total_time  \n",
      "110          25  \n",
      "\n",
      "[1 rows x 27 columns]\n"
     ]
    }
   ],
   "source": [
    "print(df[df.user_likes == df.user_likes.max()]) "
   ]
  },
  {
   "cell_type": "code",
   "execution_count": 19,
   "metadata": {
    "scrolled": false
   },
   "outputs": [
    {
     "data": {
      "application/vnd.plotly.v1+json": {
       "config": {
        "plotlyServerURL": "https://plot.ly"
       },
       "data": [
        {
         "marker": {
          "color": [
           "rgb(237, 169, 21)",
           "rgb(237, 169, 21)",
           "rgb(237, 169, 21)",
           "rgb(237, 169, 21)",
           "rgb(237, 169, 21)",
           "rgb(237, 169, 21)",
           "rgb(237, 169, 21)",
           "rgb(237, 169, 21)",
           "rgb(237, 169, 21)",
           "rgb(237, 169, 21)",
           "rgb(237, 169, 21)",
           "rgb(237, 169, 21)",
           "rgb(237, 169, 21)",
           "rgb(237, 169, 21)",
           "rgb(237, 169, 21)",
           "rgb(237, 169, 21)",
           "rgb(237, 169, 21)",
           "rgb(237, 169, 21)",
           "rgb(237, 169, 21)",
           "rgb(237, 169, 21)",
           "rgb(237, 169, 21)",
           "rgb(237, 169, 21)",
           "rgb(237, 169, 21)",
           "rgb(237, 169, 21)",
           "rgb(237, 169, 21)",
           "rgb(237, 169, 21)",
           "rgb(237, 169, 21)",
           "rgb(237, 169, 21)",
           "rgb(237, 169, 21)",
           "rgb(237, 169, 21)",
           "rgb(237, 169, 21)",
           "rgb(237, 169, 21)",
           "rgb(237, 169, 21)",
           "rgb(237, 169, 21)",
           "rgb(237, 169, 21)",
           "rgb(237, 169, 21)",
           "rgb(237, 169, 21)",
           "rgb(237, 169, 21)",
           "rgb(237, 169, 21)",
           "rgb(237, 169, 21)",
           "rgb(237, 169, 21)",
           "rgb(237, 169, 21)",
           "rgb(237, 169, 21)",
           "rgb(237, 169, 21)",
           "rgb(237, 169, 21)",
           "rgb(237, 169, 21)",
           "rgb(237, 169, 21)",
           "rgb(237, 169, 21)",
           "rgb(237, 169, 21)",
           "rgb(237, 169, 21)",
           "rgb(237, 169, 21)",
           "rgb(237, 169, 21)",
           "rgb(237, 169, 21)",
           "rgb(237, 169, 21)",
           "rgb(237, 169, 21)",
           "rgb(237, 169, 21)",
           "rgb(237, 169, 21)",
           "rgb(237, 169, 21)",
           "rgb(237, 169, 21)",
           "rgb(237, 169, 21)",
           "rgb(237, 169, 21)",
           "rgb(237, 169, 21)",
           "rgb(237, 169, 21)",
           "rgb(237, 169, 21)",
           "rgb(237, 169, 21)",
           "rgb(237, 169, 21)",
           "rgb(237, 169, 21)",
           "rgb(237, 169, 21)",
           "rgb(237, 169, 21)",
           "rgb(237, 169, 21)",
           "rgb(237, 169, 21)",
           "rgb(237, 169, 21)",
           "rgb(237, 169, 21)",
           "rgb(237, 169, 21)",
           "rgb(237, 169, 21)",
           "rgb(237, 169, 21)",
           "rgb(237, 169, 21)",
           "rgb(237, 169, 21)",
           "rgb(237, 169, 21)",
           "rgb(237, 169, 21)",
           "rgb(237, 169, 21)",
           "rgb(237, 169, 21)",
           "rgb(237, 169, 21)",
           "rgb(237, 169, 21)",
           "rgb(237, 169, 21)",
           "rgb(237, 169, 21)",
           "rgb(237, 169, 21)",
           "rgb(237, 169, 21)",
           "rgb(237, 169, 21)",
           "rgb(237, 169, 21)",
           "rgb(237, 169, 21)",
           "rgb(237, 169, 21)",
           "rgb(237, 169, 21)",
           "rgb(237, 169, 21)",
           "rgb(237, 169, 21)",
           "rgb(237, 169, 21)",
           "rgb(237, 169, 21)",
           "rgb(237, 169, 21)",
           "rgb(237, 169, 21)",
           "rgb(237, 169, 21)",
           "rgb(237, 169, 21)",
           "rgb(237, 169, 21)",
           "rgb(237, 169, 21)",
           "rgb(237, 169, 21)",
           "rgb(237, 169, 21)",
           "rgb(237, 169, 21)",
           "rgb(237, 169, 21)",
           "rgb(237, 169, 21)",
           "rgb(237, 169, 21)",
           "rgb(237, 169, 21)",
           "rgb(237, 169, 21)",
           "rgb(237, 169, 21)",
           "rgb(237, 169, 21)",
           "rgb(237, 169, 21)",
           "rgb(237, 169, 21)",
           "rgb(237, 169, 21)",
           "rgb(237, 169, 21)",
           "rgb(237, 169, 21)",
           "rgb(237, 169, 21)",
           "rgb(237, 169, 21)",
           "rgb(237, 169, 21)",
           "rgb(237, 169, 21)",
           "rgb(237, 169, 21)",
           "rgb(237, 169, 21)",
           "rgb(237, 169, 21)",
           "rgb(237, 169, 21)",
           "rgb(237, 169, 21)",
           "rgb(237, 169, 21)",
           "rgb(237, 169, 21)",
           "rgb(237, 169, 21)",
           "rgb(237, 169, 21)",
           "rgb(237, 169, 21)",
           "rgb(237, 169, 21)",
           "rgb(237, 169, 21)",
           "rgb(237, 169, 21)",
           "rgb(237, 169, 21)",
           "rgb(237, 169, 21)",
           "rgb(237, 169, 21)",
           "rgb(237, 169, 21)",
           "rgb(237, 169, 21)",
           "rgb(237, 169, 21)",
           "rgb(237, 169, 21)",
           "rgb(237, 169, 21)",
           "rgb(237, 169, 21)",
           "rgb(237, 169, 21)",
           "rgb(237, 169, 21)",
           "rgb(237, 169, 21)",
           "rgb(237, 169, 21)",
           "rgb(237, 169, 21)",
           "rgb(237, 169, 21)",
           "rgb(237, 169, 21)",
           "rgb(237, 169, 21)",
           "rgb(237, 169, 21)",
           "rgb(237, 169, 21)",
           "rgb(237, 169, 21)",
           "rgb(237, 169, 21)",
           "rgb(237, 169, 21)",
           "rgb(237, 169, 21)",
           "rgb(237, 169, 21)",
           "rgb(237, 169, 21)",
           "rgb(237, 169, 21)",
           "rgb(237, 169, 21)",
           "rgb(237, 169, 21)",
           "rgb(237, 169, 21)",
           "rgb(237, 169, 21)",
           "rgb(237, 169, 21)",
           "rgb(237, 169, 21)",
           "rgb(237, 169, 21)",
           "rgb(237, 169, 21)",
           "rgb(237, 169, 21)",
           "rgb(237, 169, 21)",
           "rgb(237, 169, 21)",
           "rgb(237, 169, 21)",
           "rgb(237, 169, 21)",
           "rgb(237, 169, 21)",
           "rgb(237, 169, 21)",
           "rgb(237, 169, 21)",
           "rgb(237, 169, 21)",
           "rgb(237, 169, 21)",
           "rgb(237, 169, 21)",
           "rgb(237, 169, 21)",
           "rgb(237, 169, 21)",
           "rgb(237, 169, 21)",
           "rgb(237, 169, 21)",
           "rgb(237, 169, 21)",
           "rgb(237, 169, 21)",
           "rgb(237, 169, 21)",
           "rgb(237, 169, 21)",
           "rgb(237, 169, 21)",
           "rgb(237, 169, 21)",
           "rgb(237, 169, 21)",
           "rgb(237, 169, 21)",
           "rgb(237, 169, 21)",
           "rgb(237, 169, 21)",
           "rgb(237, 169, 21)",
           "rgb(237, 169, 21)",
           "rgb(237, 169, 21)",
           "rgb(237, 169, 21)",
           "rgb(237, 169, 21)",
           "rgb(237, 169, 21)",
           "rgb(237, 169, 21)",
           "rgb(237, 169, 21)",
           "rgb(237, 169, 21)",
           "rgb(237, 169, 21)",
           "rgb(237, 169, 21)",
           "rgb(237, 169, 21)",
           "rgb(237, 169, 21)",
           "rgb(237, 169, 21)",
           "rgb(237, 169, 21)",
           "rgb(237, 169, 21)",
           "rgb(237, 169, 21)",
           "rgb(237, 169, 21)",
           "rgb(237, 169, 21)",
           "rgb(237, 169, 21)",
           "rgb(237, 169, 21)",
           "rgb(237, 169, 21)",
           "rgb(237, 169, 21)",
           "rgb(237, 169, 21)",
           "rgb(237, 169, 21)",
           "rgb(237, 169, 21)",
           "rgb(237, 169, 21)",
           "rgb(237, 169, 21)",
           "rgb(237, 169, 21)",
           "rgb(237, 169, 21)",
           "rgb(237, 169, 21)",
           "rgb(237, 169, 21)",
           "rgb(237, 169, 21)",
           "rgb(237, 169, 21)",
           "rgb(237, 169, 21)",
           "rgb(237, 169, 21)",
           "rgb(237, 169, 21)",
           "rgb(237, 169, 21)",
           "rgb(237, 169, 21)",
           "rgb(237, 169, 21)",
           "rgb(237, 169, 21)",
           "rgb(237, 169, 21)",
           "rgb(237, 169, 21)",
           "rgb(237, 169, 21)",
           "rgb(237, 169, 21)",
           "rgb(237, 169, 21)",
           "rgb(237, 169, 21)",
           "rgb(237, 169, 21)",
           "rgb(237, 169, 21)",
           "rgb(237, 169, 21)",
           "rgb(237, 169, 21)",
           "rgb(237, 169, 21)",
           "rgb(237, 169, 21)",
           "rgb(237, 169, 21)",
           "rgb(237, 169, 21)",
           "rgb(237, 169, 21)",
           "rgb(237, 169, 21)",
           "rgb(237, 169, 21)",
           "rgb(237, 169, 21)",
           "rgb(237, 169, 21)",
           "rgb(237, 169, 21)",
           "rgb(237, 169, 21)",
           "rgb(237, 169, 21)",
           "rgb(237, 169, 21)",
           "rgb(237, 169, 21)",
           "rgb(237, 169, 21)",
           "rgb(237, 169, 21)",
           "rgb(237, 169, 21)",
           "rgb(237, 169, 21)",
           "rgb(237, 169, 21)",
           "rgb(237, 169, 21)",
           "rgb(237, 169, 21)",
           "rgb(237, 169, 21)",
           "rgb(237, 169, 21)",
           "rgb(237, 169, 21)",
           "rgb(237, 169, 21)",
           "rgb(237, 169, 21)",
           "rgb(237, 169, 21)",
           "rgb(237, 169, 21)",
           "rgb(237, 169, 21)",
           "rgb(237, 169, 21)",
           "rgb(237, 169, 21)",
           "rgb(237, 169, 21)",
           "rgb(237, 169, 21)",
           "rgb(237, 169, 21)",
           "rgb(237, 169, 21)",
           "rgb(237, 169, 21)",
           "rgb(237, 169, 21)",
           "rgb(237, 169, 21)",
           "rgb(237, 169, 21)",
           "rgb(237, 169, 21)",
           "rgb(237, 169, 21)",
           "rgb(237, 169, 21)",
           "rgb(237, 169, 21)",
           "rgb(237, 169, 21)",
           "rgb(237, 169, 21)",
           "rgb(237, 169, 21)",
           "rgb(237, 169, 21)",
           "rgb(237, 169, 21)",
           "rgb(237, 169, 21)",
           "rgb(237, 169, 21)",
           "rgb(237, 169, 21)",
           "rgb(237, 169, 21)",
           "rgb(237, 169, 21)",
           "rgb(237, 169, 21)",
           "rgb(237, 169, 21)",
           "rgb(237, 169, 21)",
           "rgb(237, 169, 21)",
           "rgb(237, 169, 21)",
           "rgb(237, 169, 21)",
           "rgb(237, 169, 21)",
           "rgb(237, 169, 21)",
           "rgb(237, 169, 21)",
           "rgb(237, 169, 21)",
           "rgb(237, 169, 21)",
           "rgb(237, 169, 21)",
           "rgb(237, 169, 21)",
           "rgb(237, 169, 21)",
           "rgb(237, 169, 21)",
           "rgb(237, 169, 21)",
           "rgb(237, 169, 21)",
           "rgb(237, 169, 21)",
           "rgb(237, 169, 21)",
           "rgb(237, 169, 21)",
           "rgb(237, 169, 21)",
           "rgb(237, 169, 21)",
           "rgb(237, 169, 21)",
           "rgb(237, 169, 21)",
           "rgb(237, 169, 21)",
           "rgb(237, 169, 21)",
           "rgb(237, 169, 21)",
           "rgb(237, 169, 21)",
           "rgb(237, 169, 21)",
           "rgb(237, 169, 21)",
           "rgb(237, 169, 21)",
           "rgb(237, 169, 21)",
           "rgb(237, 169, 21)",
           "rgb(237, 169, 21)",
           "rgb(237, 169, 21)",
           "rgb(237, 169, 21)",
           "rgb(237, 169, 21)",
           "rgb(237, 169, 21)",
           "rgb(237, 169, 21)",
           "rgb(237, 169, 21)",
           "rgb(237, 169, 21)",
           "rgb(237, 169, 21)",
           "rgb(237, 169, 21)",
           "rgb(237, 169, 21)",
           "rgb(237, 169, 21)",
           "rgb(237, 169, 21)",
           "rgb(237, 169, 21)",
           "rgb(237, 169, 21)",
           "rgb(237, 169, 21)",
           "rgb(237, 169, 21)",
           "rgb(237, 169, 21)",
           "rgb(237, 169, 21)",
           "rgb(237, 169, 21)",
           "rgb(237, 169, 21)",
           "rgb(237, 169, 21)",
           "rgb(237, 169, 21)",
           "rgb(237, 169, 21)",
           "rgb(237, 169, 21)",
           "rgb(237, 169, 21)",
           "rgb(237, 169, 21)",
           "rgb(237, 169, 21)",
           "rgb(237, 169, 21)",
           "rgb(237, 169, 21)",
           "rgb(237, 169, 21)",
           "rgb(237, 169, 21)",
           "rgb(237, 169, 21)",
           "rgb(237, 169, 21)",
           "rgb(237, 169, 21)",
           "rgb(237, 169, 21)",
           "rgb(237, 169, 21)",
           "rgb(237, 169, 21)",
           "rgb(237, 169, 21)",
           "rgb(237, 169, 21)",
           "rgb(237, 169, 21)",
           "rgb(237, 169, 21)",
           "rgb(237, 169, 21)",
           "rgb(237, 169, 21)",
           "rgb(237, 169, 21)",
           "rgb(237, 169, 21)",
           "rgb(237, 169, 21)",
           "rgb(237, 169, 21)",
           "rgb(237, 169, 21)",
           "rgb(237, 169, 21)",
           "rgb(237, 169, 21)",
           "rgb(237, 169, 21)",
           "rgb(237, 169, 21)",
           "rgb(237, 169, 21)",
           "rgb(237, 169, 21)",
           "rgb(237, 169, 21)",
           "rgb(237, 169, 21)",
           "rgb(237, 169, 21)",
           "rgb(237, 169, 21)",
           "rgb(237, 169, 21)",
           "rgb(237, 169, 21)",
           "rgb(237, 169, 21)",
           "rgb(237, 169, 21)",
           "rgb(237, 169, 21)",
           "rgb(237, 169, 21)",
           "rgb(237, 169, 21)",
           "rgb(237, 169, 21)",
           "rgb(237, 169, 21)",
           "rgb(237, 169, 21)",
           "rgb(237, 169, 21)",
           "rgb(237, 169, 21)",
           "rgb(237, 169, 21)",
           "rgb(237, 169, 21)",
           "rgb(237, 169, 21)",
           "rgb(237, 169, 21)",
           "rgb(237, 169, 21)",
           "rgb(237, 169, 21)",
           "rgb(237, 169, 21)",
           "rgb(237, 169, 21)",
           "rgb(237, 169, 21)",
           "rgb(237, 169, 21)",
           "rgb(237, 169, 21)",
           "rgb(237, 169, 21)",
           "rgb(237, 169, 21)",
           "rgb(237, 169, 21)",
           "rgb(237, 169, 21)",
           "rgb(237, 169, 21)",
           "rgb(237, 169, 21)",
           "rgb(237, 169, 21)",
           "rgb(237, 169, 21)",
           "rgb(237, 169, 21)",
           "rgb(237, 169, 21)",
           "rgb(237, 169, 21)",
           "rgb(237, 169, 21)",
           "rgb(237, 169, 21)",
           "rgb(237, 169, 21)",
           "rgb(237, 169, 21)",
           "rgb(237, 169, 21)",
           "rgb(237, 169, 21)",
           "rgb(237, 169, 21)",
           "rgb(237, 169, 21)",
           "rgb(237, 169, 21)",
           "rgb(237, 169, 21)",
           "rgb(237, 169, 21)",
           "rgb(237, 169, 21)",
           "rgb(237, 169, 21)",
           "rgb(237, 169, 21)",
           "rgb(237, 169, 21)",
           "rgb(237, 169, 21)",
           "rgb(237, 169, 21)",
           "rgb(237, 169, 21)",
           "rgb(237, 169, 21)",
           "rgb(237, 169, 21)",
           "rgb(237, 169, 21)",
           "rgb(237, 169, 21)",
           "rgb(237, 169, 21)",
           "rgb(237, 169, 21)",
           "rgb(237, 169, 21)",
           "rgb(237, 169, 21)",
           "rgb(237, 169, 21)",
           "rgb(237, 169, 21)",
           "rgb(237, 169, 21)",
           "rgb(237, 169, 21)",
           "rgb(237, 169, 21)",
           "rgb(237, 169, 21)",
           "rgb(237, 169, 21)",
           "rgb(237, 169, 21)",
           "rgb(237, 169, 21)",
           "rgb(237, 169, 21)",
           "rgb(237, 169, 21)",
           "rgb(237, 169, 21)",
           "rgb(237, 169, 21)",
           "rgb(237, 169, 21)",
           "rgb(237, 169, 21)",
           "rgb(237, 169, 21)",
           "rgb(237, 169, 21)",
           "rgb(237, 169, 21)",
           "rgb(237, 169, 21)",
           "rgb(237, 169, 21)",
           "rgb(237, 169, 21)",
           "rgb(237, 169, 21)",
           "rgb(237, 169, 21)",
           "rgb(237, 169, 21)",
           "rgb(237, 169, 21)",
           "rgb(237, 169, 21)",
           "rgb(237, 169, 21)",
           "rgb(237, 169, 21)",
           "rgb(237, 169, 21)",
           "rgb(237, 169, 21)",
           "rgb(237, 169, 21)",
           "rgb(237, 169, 21)",
           "rgb(237, 169, 21)",
           "rgb(237, 169, 21)",
           "rgb(237, 169, 21)",
           "rgb(237, 169, 21)",
           "rgb(237, 169, 21)",
           "rgb(237, 169, 21)",
           "rgb(237, 169, 21)",
           "rgb(237, 169, 21)",
           "rgb(237, 169, 21)",
           "rgb(237, 169, 21)",
           "rgb(237, 169, 21)",
           "rgb(237, 169, 21)",
           "rgb(237, 169, 21)",
           "rgb(237, 169, 21)",
           "rgb(237, 169, 21)",
           "rgb(237, 169, 21)",
           "rgb(237, 169, 21)",
           "rgb(237, 169, 21)",
           "rgb(237, 169, 21)",
           "rgb(237, 169, 21)",
           "rgb(237, 169, 21)",
           "rgb(237, 169, 21)",
           "rgb(237, 169, 21)",
           "rgb(237, 169, 21)",
           "rgb(237, 169, 21)",
           "rgb(237, 169, 21)",
           "rgb(237, 169, 21)",
           "rgb(237, 169, 21)",
           "rgb(237, 169, 21)",
           "rgb(237, 169, 21)",
           "rgb(237, 169, 21)",
           "rgb(237, 169, 21)",
           "rgb(237, 169, 21)",
           "rgb(237, 169, 21)",
           "rgb(237, 169, 21)",
           "rgb(237, 169, 21)",
           "rgb(237, 169, 21)",
           "rgb(237, 169, 21)",
           "rgb(237, 169, 21)",
           "rgb(237, 169, 21)",
           "rgb(237, 169, 21)",
           "rgb(237, 169, 21)",
           "rgb(237, 169, 21)",
           "rgb(237, 169, 21)",
           "rgb(237, 169, 21)",
           "rgb(237, 169, 21)",
           "rgb(237, 169, 21)",
           "rgb(237, 169, 21)",
           "rgb(237, 169, 21)",
           "rgb(237, 169, 21)",
           "rgb(237, 169, 21)",
           "rgb(237, 169, 21)",
           "rgb(237, 169, 21)",
           "rgb(237, 169, 21)",
           "rgb(237, 169, 21)",
           "rgb(237, 169, 21)",
           "rgb(237, 169, 21)",
           "rgb(237, 169, 21)",
           "rgb(237, 169, 21)",
           "rgb(237, 169, 21)",
           "rgb(237, 169, 21)",
           "rgb(237, 169, 21)",
           "rgb(237, 169, 21)",
           "rgb(237, 169, 21)",
           "rgb(237, 169, 21)",
           "rgb(237, 169, 21)",
           "rgb(237, 169, 21)",
           "rgb(237, 169, 21)",
           "rgb(237, 169, 21)",
           "rgb(237, 169, 21)",
           "rgb(237, 169, 21)",
           "rgb(237, 169, 21)",
           "rgb(237, 169, 21)",
           "rgb(237, 169, 21)",
           "rgb(237, 169, 21)",
           "rgb(237, 169, 21)",
           "rgb(237, 169, 21)",
           "rgb(237, 169, 21)",
           "rgb(237, 169, 21)",
           "rgb(237, 169, 21)",
           "rgb(237, 169, 21)",
           "rgb(237, 169, 21)",
           "rgb(237, 169, 21)",
           "rgb(237, 169, 21)",
           "rgb(237, 169, 21)",
           "rgb(237, 169, 21)",
           "rgb(237, 169, 21)",
           "rgb(237, 169, 21)",
           "rgb(237, 169, 21)",
           "rgb(237, 169, 21)",
           "rgb(237, 169, 21)",
           "rgb(237, 169, 21)",
           "rgb(237, 169, 21)",
           "rgb(237, 169, 21)",
           "rgb(237, 169, 21)",
           "rgb(237, 169, 21)",
           "rgb(237, 169, 21)",
           "rgb(237, 169, 21)",
           "rgb(237, 169, 21)",
           "rgb(237, 169, 21)",
           "rgb(237, 169, 21)",
           "rgb(237, 169, 21)",
           "rgb(237, 169, 21)",
           "rgb(237, 169, 21)",
           "rgb(237, 169, 21)",
           "rgb(237, 169, 21)",
           "rgb(237, 169, 21)",
           "rgb(237, 169, 21)",
           "rgb(237, 169, 21)",
           "rgb(237, 169, 21)",
           "rgb(237, 169, 21)",
           "rgb(237, 169, 21)",
           "rgb(237, 169, 21)",
           "rgb(237, 169, 21)",
           "rgb(237, 169, 21)",
           "rgb(237, 169, 21)",
           "rgb(237, 169, 21)",
           "rgb(237, 169, 21)",
           "rgb(237, 169, 21)",
           "rgb(237, 169, 21)",
           "rgb(237, 169, 21)",
           "rgb(237, 169, 21)",
           "rgb(237, 169, 21)",
           "rgb(237, 169, 21)"
          ]
         },
         "type": "bar",
         "x": [
          8,
          9,
          6,
          6,
          6,
          5,
          4,
          4,
          3,
          5,
          3,
          4,
          7,
          2,
          9,
          5,
          5,
          9,
          9,
          3,
          6,
          5,
          6,
          3,
          5,
          7,
          7,
          7,
          4,
          5,
          3,
          6,
          6,
          5,
          5,
          9,
          4,
          10,
          9,
          3,
          4,
          6,
          6,
          8,
          4,
          5,
          6,
          null,
          3,
          4,
          5,
          3,
          5,
          3,
          4,
          3,
          6,
          5,
          6,
          5,
          5,
          8,
          4,
          8,
          3,
          9,
          6,
          7,
          9,
          7,
          6,
          5,
          8,
          6,
          2,
          5,
          6,
          4,
          4,
          6,
          5,
          11,
          5,
          10,
          4,
          12,
          4,
          5,
          4,
          13,
          6,
          2,
          4,
          6,
          7,
          3,
          4,
          5,
          4,
          3,
          4,
          6,
          5,
          3,
          2,
          2,
          8,
          5,
          5,
          6,
          4,
          3,
          5,
          4,
          3,
          2,
          4,
          7,
          7,
          12,
          4,
          8,
          4,
          3,
          6,
          5,
          2,
          8,
          6,
          3,
          8,
          2,
          6,
          9,
          4,
          3,
          2,
          4,
          4,
          5,
          4,
          4,
          4,
          5,
          7,
          3,
          5,
          3,
          5,
          5,
          7,
          4,
          4,
          4,
          5,
          5,
          4,
          5,
          4,
          3,
          3,
          3,
          4,
          6,
          3,
          6,
          5,
          4,
          7,
          4,
          4,
          3,
          4,
          4,
          6,
          2,
          3,
          3,
          3,
          4,
          4,
          4,
          4,
          4,
          4,
          3,
          4,
          4,
          4,
          4,
          5,
          5,
          4,
          6,
          4,
          5,
          4,
          4,
          5,
          5,
          5,
          5,
          6,
          5,
          6,
          9,
          6,
          null,
          5,
          5,
          4,
          6,
          4,
          4,
          5,
          4,
          4,
          3,
          9,
          4,
          6,
          4,
          5,
          5,
          8,
          3,
          3,
          2,
          4,
          5,
          6,
          5,
          6,
          9,
          7,
          3,
          4,
          4,
          7,
          6,
          3,
          7,
          7,
          4,
          4,
          5,
          3,
          null,
          4,
          4,
          5,
          5,
          5,
          6,
          5,
          12,
          5,
          5,
          7,
          5,
          5,
          6,
          10,
          5,
          5,
          5,
          8,
          9,
          3,
          4,
          8,
          8,
          7,
          6,
          6,
          6,
          4,
          8,
          7,
          8,
          10,
          4,
          13,
          6,
          9,
          2,
          5,
          5,
          5,
          6,
          6,
          3,
          5,
          7,
          4,
          4,
          4,
          7,
          11,
          6,
          5,
          8,
          2,
          9,
          4,
          9,
          6,
          5,
          9,
          5,
          5,
          4,
          6,
          4,
          10,
          5,
          6,
          9,
          9,
          6,
          6,
          7,
          4,
          3,
          10,
          5,
          7,
          10,
          5,
          5,
          5,
          12,
          4,
          6,
          3,
          5,
          5,
          8,
          4,
          4,
          7,
          7,
          10,
          null,
          4,
          10,
          5,
          5,
          5,
          8,
          4,
          5,
          5,
          11,
          7,
          6,
          5,
          3,
          7,
          5,
          5,
          4,
          5,
          10,
          3,
          6,
          5,
          5,
          4,
          9,
          2,
          4,
          5,
          4,
          7,
          7,
          4,
          8,
          10,
          7,
          6,
          6,
          5,
          13,
          6,
          14,
          13,
          5,
          5,
          4,
          5,
          3,
          7,
          11,
          6,
          4,
          10,
          8,
          4,
          3,
          2,
          4,
          5,
          8,
          6,
          9,
          3,
          9,
          6,
          7,
          3,
          4,
          7,
          8,
          11,
          3,
          5,
          9,
          8,
          6,
          4,
          5,
          5,
          5,
          9,
          3,
          5,
          5,
          7,
          5,
          4,
          9,
          9,
          8,
          7,
          8,
          5,
          11,
          6,
          7,
          3,
          6,
          9,
          6,
          7,
          2,
          5,
          5,
          6,
          4,
          2,
          5,
          6,
          5,
          4,
          6,
          7,
          7,
          4,
          5,
          10,
          null,
          5,
          8,
          4,
          9,
          9,
          5,
          2,
          5,
          6,
          7,
          20,
          6,
          3,
          13,
          5,
          5,
          5,
          6,
          4,
          6,
          6,
          5,
          5,
          7,
          3,
          4,
          3,
          6,
          5,
          4,
          5,
          2,
          5,
          3,
          4,
          4,
          6,
          5,
          4,
          5,
          11,
          4,
          8,
          6,
          6,
          4,
          null,
          5,
          4,
          10,
          5,
          6,
          4,
          6,
          20,
          3,
          6,
          5,
          14,
          6,
          7,
          5,
          2,
          5,
          3,
          18,
          5,
          9,
          7,
          10,
          3,
          4,
          4,
          2,
          7,
          7,
          4,
          3,
          4,
          3,
          8,
          6,
          7,
          4,
          8,
          3,
          6,
          8,
          5,
          6,
          7,
          6,
          10,
          9,
          7,
          7,
          null,
          5,
          3,
          6,
          6,
          4,
          4,
          4,
          8,
          3,
          5,
          3,
          11,
          7,
          8,
          8,
          4,
          3,
          8,
          5,
          6,
          4,
          4,
          7,
          4,
          6,
          5,
          8,
          3,
          4,
          4,
          6,
          5,
          4,
          7,
          7,
          7,
          5,
          4,
          null,
          8,
          6,
          8,
          2,
          5,
          4,
          6,
          6
         ],
         "y": [
          75,
          229,
          16,
          32,
          53,
          19,
          11,
          1410,
          1589,
          3210,
          5531,
          11202,
          46628,
          590,
          32,
          8,
          43,
          7,
          21,
          21,
          12,
          12,
          10,
          42,
          207,
          26,
          29,
          30,
          90,
          22,
          37,
          12,
          76,
          28,
          44,
          24,
          13,
          8,
          17,
          11,
          3,
          15,
          4,
          3,
          37,
          4,
          48,
          71,
          12,
          87,
          17,
          9,
          28,
          14,
          35,
          42,
          8,
          5,
          10,
          8,
          37,
          4,
          37,
          59,
          46,
          14,
          10,
          10,
          21,
          18,
          48,
          4,
          32,
          13,
          7,
          6,
          26,
          5,
          19,
          63,
          25,
          4,
          64,
          19,
          10,
          3,
          2245,
          1138,
          18,
          9,
          16,
          23083,
          23317,
          47731,
          52928,
          13510,
          9381,
          47621,
          41860,
          2210,
          21103,
          65854,
          15178,
          10892,
          34425,
          28461,
          85926,
          2318,
          60911,
          99371,
          139881,
          2423,
          4966,
          16334,
          5600,
          3155,
          15379,
          9492,
          3147,
          31745,
          15000,
          30544,
          14312,
          5271,
          4998,
          5752,
          9523,
          34657,
          31831,
          7680,
          21355,
          18952,
          5060,
          39737,
          5280,
          37064,
          17306,
          9739,
          1472,
          3652,
          7042,
          20478,
          2475,
          14223,
          21991,
          5000,
          4915,
          11542,
          6280,
          19386,
          6705,
          11349,
          7964,
          19217,
          7630,
          10948,
          13286,
          25040,
          12622,
          13046,
          2644,
          4366,
          3016,
          14897,
          5216,
          16568,
          5549,
          7180,
          15608,
          9719,
          4910,
          8142,
          3320,
          4969,
          5824,
          5880,
          17848,
          4508,
          3476,
          4652,
          6086,
          3628,
          11950,
          1928,
          2189,
          1150,
          1459,
          2884,
          1962,
          6286,
          4364,
          3533,
          4883,
          5651,
          8003,
          2838,
          2217,
          2678,
          4354,
          3793,
          3348,
          1440,
          3417,
          2784,
          2475,
          8604,
          2166,
          3696,
          2151,
          1390,
          5000,
          2361,
          2731,
          2878,
          1878,
          3919,
          3108,
          5712,
          6759,
          2470,
          3906,
          1601,
          3101,
          1998,
          6635,
          3142,
          1378,
          3412,
          1800,
          8,
          14,
          35,
          29,
          8,
          12,
          925,
          1274,
          1127,
          2030,
          1763,
          1075,
          1689,
          2678,
          2424,
          1276,
          1974,
          1972,
          2979,
          2223,
          3669,
          2781,
          3088,
          23,
          36,
          46,
          32,
          11,
          10,
          9,
          43,
          18,
          34,
          17,
          13,
          95,
          4,
          6,
          69,
          15,
          25,
          126,
          27,
          56,
          35,
          132,
          117,
          57,
          45,
          16,
          17,
          52,
          616,
          30,
          30,
          65,
          48,
          40,
          68,
          13,
          64,
          26,
          74,
          252,
          86,
          133,
          77,
          70,
          108,
          42,
          48,
          34,
          126,
          122,
          79,
          261,
          89,
          236,
          34,
          60,
          31,
          19,
          56,
          39,
          222,
          52,
          31,
          9,
          20,
          10,
          31,
          80,
          41,
          180,
          288,
          89,
          36,
          14,
          41,
          39,
          200,
          15,
          89,
          29,
          53,
          61,
          61,
          15,
          23,
          15,
          18,
          47,
          20,
          91,
          30,
          119,
          36,
          50,
          14,
          47,
          27,
          81,
          773,
          793,
          506,
          435,
          44,
          1245,
          189,
          129,
          151,
          84,
          610,
          14,
          90,
          248,
          41,
          17,
          218,
          845,
          84,
          98,
          106,
          349,
          269,
          226,
          111,
          153,
          238,
          107,
          123,
          207,
          477,
          150,
          85,
          51,
          191,
          251,
          207,
          105,
          248,
          61,
          50,
          12,
          16,
          39,
          12,
          12,
          7,
          7,
          5,
          32,
          7,
          0,
          890,
          939,
          126,
          44,
          47,
          32,
          154,
          71,
          261,
          48,
          72,
          348,
          48,
          762,
          53,
          48,
          32,
          369,
          176,
          42,
          25,
          213,
          169,
          36,
          166,
          141,
          42,
          92,
          96,
          121,
          164,
          134,
          200,
          146,
          81,
          161,
          113,
          175,
          92,
          129,
          97,
          48,
          476,
          455,
          31,
          39,
          65,
          127,
          47,
          1544,
          2613,
          1729,
          211,
          96,
          1277,
          46,
          40,
          254,
          116,
          83,
          122,
          137,
          379,
          90,
          778,
          425,
          119,
          122,
          342,
          43,
          64,
          101,
          0,
          0,
          1,
          2671,
          2059,
          1502,
          1384,
          770,
          3813,
          3816,
          2484,
          4109,
          3447,
          6051,
          3851,
          1031,
          410,
          592,
          496,
          421,
          976,
          2294,
          7890,
          230,
          220,
          12,
          36,
          22,
          8,
          7,
          23,
          2,
          9,
          22,
          4,
          7,
          5,
          31,
          8,
          2,
          3,
          5,
          6,
          1,
          1,
          3,
          16,
          6,
          13,
          4,
          2,
          5,
          15,
          35,
          68,
          16,
          6,
          6,
          18,
          1,
          19,
          6,
          1,
          10,
          6,
          9,
          13,
          5,
          6,
          6,
          4,
          5,
          6,
          3,
          5,
          24,
          8,
          5,
          16,
          6,
          26,
          11,
          1,
          13,
          1,
          8,
          13,
          29,
          3,
          14,
          13,
          8,
          30,
          17,
          32,
          12,
          5,
          4,
          11,
          30,
          56,
          11,
          9,
          16,
          20,
          26,
          17,
          74,
          39,
          25,
          18,
          5,
          6,
          8,
          9,
          50,
          25,
          5,
          16,
          22,
          124,
          63,
          52,
          5,
          11,
          10,
          7,
          9,
          45,
          14,
          48
         ]
        }
       ],
       "layout": {
        "bargap": 0.05,
        "font": {
         "color": "rgb(31,33,36)",
         "family": "Arial",
         "size": 18
        },
        "paper_bgcolor": "rgba(0,0,0,0)",
        "plot_bgcolor": "rgba(0,0,0,0)",
        "template": {
         "data": {
          "bar": [
           {
            "error_x": {
             "color": "#2a3f5f"
            },
            "error_y": {
             "color": "#2a3f5f"
            },
            "marker": {
             "line": {
              "color": "#E5ECF6",
              "width": 0.5
             }
            },
            "type": "bar"
           }
          ],
          "barpolar": [
           {
            "marker": {
             "line": {
              "color": "#E5ECF6",
              "width": 0.5
             }
            },
            "type": "barpolar"
           }
          ],
          "carpet": [
           {
            "aaxis": {
             "endlinecolor": "#2a3f5f",
             "gridcolor": "white",
             "linecolor": "white",
             "minorgridcolor": "white",
             "startlinecolor": "#2a3f5f"
            },
            "baxis": {
             "endlinecolor": "#2a3f5f",
             "gridcolor": "white",
             "linecolor": "white",
             "minorgridcolor": "white",
             "startlinecolor": "#2a3f5f"
            },
            "type": "carpet"
           }
          ],
          "choropleth": [
           {
            "colorbar": {
             "outlinewidth": 0,
             "ticks": ""
            },
            "type": "choropleth"
           }
          ],
          "contour": [
           {
            "colorbar": {
             "outlinewidth": 0,
             "ticks": ""
            },
            "colorscale": [
             [
              0,
              "#0d0887"
             ],
             [
              0.1111111111111111,
              "#46039f"
             ],
             [
              0.2222222222222222,
              "#7201a8"
             ],
             [
              0.3333333333333333,
              "#9c179e"
             ],
             [
              0.4444444444444444,
              "#bd3786"
             ],
             [
              0.5555555555555556,
              "#d8576b"
             ],
             [
              0.6666666666666666,
              "#ed7953"
             ],
             [
              0.7777777777777778,
              "#fb9f3a"
             ],
             [
              0.8888888888888888,
              "#fdca26"
             ],
             [
              1,
              "#f0f921"
             ]
            ],
            "type": "contour"
           }
          ],
          "contourcarpet": [
           {
            "colorbar": {
             "outlinewidth": 0,
             "ticks": ""
            },
            "type": "contourcarpet"
           }
          ],
          "heatmap": [
           {
            "colorbar": {
             "outlinewidth": 0,
             "ticks": ""
            },
            "colorscale": [
             [
              0,
              "#0d0887"
             ],
             [
              0.1111111111111111,
              "#46039f"
             ],
             [
              0.2222222222222222,
              "#7201a8"
             ],
             [
              0.3333333333333333,
              "#9c179e"
             ],
             [
              0.4444444444444444,
              "#bd3786"
             ],
             [
              0.5555555555555556,
              "#d8576b"
             ],
             [
              0.6666666666666666,
              "#ed7953"
             ],
             [
              0.7777777777777778,
              "#fb9f3a"
             ],
             [
              0.8888888888888888,
              "#fdca26"
             ],
             [
              1,
              "#f0f921"
             ]
            ],
            "type": "heatmap"
           }
          ],
          "heatmapgl": [
           {
            "colorbar": {
             "outlinewidth": 0,
             "ticks": ""
            },
            "colorscale": [
             [
              0,
              "#0d0887"
             ],
             [
              0.1111111111111111,
              "#46039f"
             ],
             [
              0.2222222222222222,
              "#7201a8"
             ],
             [
              0.3333333333333333,
              "#9c179e"
             ],
             [
              0.4444444444444444,
              "#bd3786"
             ],
             [
              0.5555555555555556,
              "#d8576b"
             ],
             [
              0.6666666666666666,
              "#ed7953"
             ],
             [
              0.7777777777777778,
              "#fb9f3a"
             ],
             [
              0.8888888888888888,
              "#fdca26"
             ],
             [
              1,
              "#f0f921"
             ]
            ],
            "type": "heatmapgl"
           }
          ],
          "histogram": [
           {
            "marker": {
             "colorbar": {
              "outlinewidth": 0,
              "ticks": ""
             }
            },
            "type": "histogram"
           }
          ],
          "histogram2d": [
           {
            "colorbar": {
             "outlinewidth": 0,
             "ticks": ""
            },
            "colorscale": [
             [
              0,
              "#0d0887"
             ],
             [
              0.1111111111111111,
              "#46039f"
             ],
             [
              0.2222222222222222,
              "#7201a8"
             ],
             [
              0.3333333333333333,
              "#9c179e"
             ],
             [
              0.4444444444444444,
              "#bd3786"
             ],
             [
              0.5555555555555556,
              "#d8576b"
             ],
             [
              0.6666666666666666,
              "#ed7953"
             ],
             [
              0.7777777777777778,
              "#fb9f3a"
             ],
             [
              0.8888888888888888,
              "#fdca26"
             ],
             [
              1,
              "#f0f921"
             ]
            ],
            "type": "histogram2d"
           }
          ],
          "histogram2dcontour": [
           {
            "colorbar": {
             "outlinewidth": 0,
             "ticks": ""
            },
            "colorscale": [
             [
              0,
              "#0d0887"
             ],
             [
              0.1111111111111111,
              "#46039f"
             ],
             [
              0.2222222222222222,
              "#7201a8"
             ],
             [
              0.3333333333333333,
              "#9c179e"
             ],
             [
              0.4444444444444444,
              "#bd3786"
             ],
             [
              0.5555555555555556,
              "#d8576b"
             ],
             [
              0.6666666666666666,
              "#ed7953"
             ],
             [
              0.7777777777777778,
              "#fb9f3a"
             ],
             [
              0.8888888888888888,
              "#fdca26"
             ],
             [
              1,
              "#f0f921"
             ]
            ],
            "type": "histogram2dcontour"
           }
          ],
          "mesh3d": [
           {
            "colorbar": {
             "outlinewidth": 0,
             "ticks": ""
            },
            "type": "mesh3d"
           }
          ],
          "parcoords": [
           {
            "line": {
             "colorbar": {
              "outlinewidth": 0,
              "ticks": ""
             }
            },
            "type": "parcoords"
           }
          ],
          "pie": [
           {
            "automargin": true,
            "type": "pie"
           }
          ],
          "scatter": [
           {
            "marker": {
             "colorbar": {
              "outlinewidth": 0,
              "ticks": ""
             }
            },
            "type": "scatter"
           }
          ],
          "scatter3d": [
           {
            "line": {
             "colorbar": {
              "outlinewidth": 0,
              "ticks": ""
             }
            },
            "marker": {
             "colorbar": {
              "outlinewidth": 0,
              "ticks": ""
             }
            },
            "type": "scatter3d"
           }
          ],
          "scattercarpet": [
           {
            "marker": {
             "colorbar": {
              "outlinewidth": 0,
              "ticks": ""
             }
            },
            "type": "scattercarpet"
           }
          ],
          "scattergeo": [
           {
            "marker": {
             "colorbar": {
              "outlinewidth": 0,
              "ticks": ""
             }
            },
            "type": "scattergeo"
           }
          ],
          "scattergl": [
           {
            "marker": {
             "colorbar": {
              "outlinewidth": 0,
              "ticks": ""
             }
            },
            "type": "scattergl"
           }
          ],
          "scattermapbox": [
           {
            "marker": {
             "colorbar": {
              "outlinewidth": 0,
              "ticks": ""
             }
            },
            "type": "scattermapbox"
           }
          ],
          "scatterpolar": [
           {
            "marker": {
             "colorbar": {
              "outlinewidth": 0,
              "ticks": ""
             }
            },
            "type": "scatterpolar"
           }
          ],
          "scatterpolargl": [
           {
            "marker": {
             "colorbar": {
              "outlinewidth": 0,
              "ticks": ""
             }
            },
            "type": "scatterpolargl"
           }
          ],
          "scatterternary": [
           {
            "marker": {
             "colorbar": {
              "outlinewidth": 0,
              "ticks": ""
             }
            },
            "type": "scatterternary"
           }
          ],
          "surface": [
           {
            "colorbar": {
             "outlinewidth": 0,
             "ticks": ""
            },
            "colorscale": [
             [
              0,
              "#0d0887"
             ],
             [
              0.1111111111111111,
              "#46039f"
             ],
             [
              0.2222222222222222,
              "#7201a8"
             ],
             [
              0.3333333333333333,
              "#9c179e"
             ],
             [
              0.4444444444444444,
              "#bd3786"
             ],
             [
              0.5555555555555556,
              "#d8576b"
             ],
             [
              0.6666666666666666,
              "#ed7953"
             ],
             [
              0.7777777777777778,
              "#fb9f3a"
             ],
             [
              0.8888888888888888,
              "#fdca26"
             ],
             [
              1,
              "#f0f921"
             ]
            ],
            "type": "surface"
           }
          ],
          "table": [
           {
            "cells": {
             "fill": {
              "color": "#EBF0F8"
             },
             "line": {
              "color": "white"
             }
            },
            "header": {
             "fill": {
              "color": "#C8D4E3"
             },
             "line": {
              "color": "white"
             }
            },
            "type": "table"
           }
          ]
         },
         "layout": {
          "annotationdefaults": {
           "arrowcolor": "#2a3f5f",
           "arrowhead": 0,
           "arrowwidth": 1
          },
          "coloraxis": {
           "colorbar": {
            "outlinewidth": 0,
            "ticks": ""
           }
          },
          "colorscale": {
           "diverging": [
            [
             0,
             "#8e0152"
            ],
            [
             0.1,
             "#c51b7d"
            ],
            [
             0.2,
             "#de77ae"
            ],
            [
             0.3,
             "#f1b6da"
            ],
            [
             0.4,
             "#fde0ef"
            ],
            [
             0.5,
             "#f7f7f7"
            ],
            [
             0.6,
             "#e6f5d0"
            ],
            [
             0.7,
             "#b8e186"
            ],
            [
             0.8,
             "#7fbc41"
            ],
            [
             0.9,
             "#4d9221"
            ],
            [
             1,
             "#276419"
            ]
           ],
           "sequential": [
            [
             0,
             "#0d0887"
            ],
            [
             0.1111111111111111,
             "#46039f"
            ],
            [
             0.2222222222222222,
             "#7201a8"
            ],
            [
             0.3333333333333333,
             "#9c179e"
            ],
            [
             0.4444444444444444,
             "#bd3786"
            ],
            [
             0.5555555555555556,
             "#d8576b"
            ],
            [
             0.6666666666666666,
             "#ed7953"
            ],
            [
             0.7777777777777778,
             "#fb9f3a"
            ],
            [
             0.8888888888888888,
             "#fdca26"
            ],
            [
             1,
             "#f0f921"
            ]
           ],
           "sequentialminus": [
            [
             0,
             "#0d0887"
            ],
            [
             0.1111111111111111,
             "#46039f"
            ],
            [
             0.2222222222222222,
             "#7201a8"
            ],
            [
             0.3333333333333333,
             "#9c179e"
            ],
            [
             0.4444444444444444,
             "#bd3786"
            ],
            [
             0.5555555555555556,
             "#d8576b"
            ],
            [
             0.6666666666666666,
             "#ed7953"
            ],
            [
             0.7777777777777778,
             "#fb9f3a"
            ],
            [
             0.8888888888888888,
             "#fdca26"
            ],
            [
             1,
             "#f0f921"
            ]
           ]
          },
          "colorway": [
           "#636efa",
           "#EF553B",
           "#00cc96",
           "#ab63fa",
           "#FFA15A",
           "#19d3f3",
           "#FF6692",
           "#B6E880",
           "#FF97FF",
           "#FECB52"
          ],
          "font": {
           "color": "#2a3f5f"
          },
          "geo": {
           "bgcolor": "white",
           "lakecolor": "white",
           "landcolor": "#E5ECF6",
           "showlakes": true,
           "showland": true,
           "subunitcolor": "white"
          },
          "hoverlabel": {
           "align": "left"
          },
          "hovermode": "closest",
          "mapbox": {
           "style": "light"
          },
          "paper_bgcolor": "white",
          "plot_bgcolor": "#E5ECF6",
          "polar": {
           "angularaxis": {
            "gridcolor": "white",
            "linecolor": "white",
            "ticks": ""
           },
           "bgcolor": "#E5ECF6",
           "radialaxis": {
            "gridcolor": "white",
            "linecolor": "white",
            "ticks": ""
           }
          },
          "scene": {
           "xaxis": {
            "backgroundcolor": "#E5ECF6",
            "gridcolor": "white",
            "gridwidth": 2,
            "linecolor": "white",
            "showbackground": true,
            "ticks": "",
            "zerolinecolor": "white"
           },
           "yaxis": {
            "backgroundcolor": "#E5ECF6",
            "gridcolor": "white",
            "gridwidth": 2,
            "linecolor": "white",
            "showbackground": true,
            "ticks": "",
            "zerolinecolor": "white"
           },
           "zaxis": {
            "backgroundcolor": "#E5ECF6",
            "gridcolor": "white",
            "gridwidth": 2,
            "linecolor": "white",
            "showbackground": true,
            "ticks": "",
            "zerolinecolor": "white"
           }
          },
          "shapedefaults": {
           "line": {
            "color": "#2a3f5f"
           }
          },
          "ternary": {
           "aaxis": {
            "gridcolor": "white",
            "linecolor": "white",
            "ticks": ""
           },
           "baxis": {
            "gridcolor": "white",
            "linecolor": "white",
            "ticks": ""
           },
           "bgcolor": "#E5ECF6",
           "caxis": {
            "gridcolor": "white",
            "linecolor": "white",
            "ticks": ""
           }
          },
          "title": {
           "x": 0.05
          },
          "xaxis": {
           "automargin": true,
           "gridcolor": "white",
           "linecolor": "white",
           "ticks": "",
           "title": {
            "standoff": 15
           },
           "zerolinecolor": "white",
           "zerolinewidth": 2
          },
          "yaxis": {
           "automargin": true,
           "gridcolor": "white",
           "linecolor": "white",
           "ticks": "",
           "title": {
            "standoff": 15
           },
           "zerolinecolor": "white",
           "zerolinewidth": 2
          }
         }
        },
        "title": {
         "x": 0.5,
         "xanchor": "center",
         "y": 0.9,
         "yanchor": "top"
        },
        "xaxis": {
         "title": {
          "text": "Steps Required"
         }
        },
        "yaxis": {
         "title": {
          "text": "User Likes"
         }
        }
       }
      },
      "text/html": [
       "<div>                            <div id=\"983fee1e-687d-45b0-93d1-4c2c95ef7a0f\" class=\"plotly-graph-div\" style=\"height:525px; width:100%;\"></div>            <script type=\"text/javascript\">                require([\"plotly\"], function(Plotly) {                    window.PLOTLYENV=window.PLOTLYENV || {};                                    if (document.getElementById(\"983fee1e-687d-45b0-93d1-4c2c95ef7a0f\")) {                    Plotly.newPlot(                        \"983fee1e-687d-45b0-93d1-4c2c95ef7a0f\",                        [{\"marker\": {\"color\": [\"rgb(237, 169, 21)\", \"rgb(237, 169, 21)\", \"rgb(237, 169, 21)\", \"rgb(237, 169, 21)\", \"rgb(237, 169, 21)\", \"rgb(237, 169, 21)\", \"rgb(237, 169, 21)\", \"rgb(237, 169, 21)\", \"rgb(237, 169, 21)\", \"rgb(237, 169, 21)\", \"rgb(237, 169, 21)\", \"rgb(237, 169, 21)\", \"rgb(237, 169, 21)\", \"rgb(237, 169, 21)\", \"rgb(237, 169, 21)\", \"rgb(237, 169, 21)\", \"rgb(237, 169, 21)\", \"rgb(237, 169, 21)\", \"rgb(237, 169, 21)\", \"rgb(237, 169, 21)\", \"rgb(237, 169, 21)\", \"rgb(237, 169, 21)\", \"rgb(237, 169, 21)\", \"rgb(237, 169, 21)\", \"rgb(237, 169, 21)\", \"rgb(237, 169, 21)\", \"rgb(237, 169, 21)\", \"rgb(237, 169, 21)\", \"rgb(237, 169, 21)\", \"rgb(237, 169, 21)\", \"rgb(237, 169, 21)\", \"rgb(237, 169, 21)\", \"rgb(237, 169, 21)\", \"rgb(237, 169, 21)\", \"rgb(237, 169, 21)\", \"rgb(237, 169, 21)\", \"rgb(237, 169, 21)\", \"rgb(237, 169, 21)\", \"rgb(237, 169, 21)\", \"rgb(237, 169, 21)\", \"rgb(237, 169, 21)\", \"rgb(237, 169, 21)\", \"rgb(237, 169, 21)\", \"rgb(237, 169, 21)\", \"rgb(237, 169, 21)\", \"rgb(237, 169, 21)\", \"rgb(237, 169, 21)\", \"rgb(237, 169, 21)\", \"rgb(237, 169, 21)\", \"rgb(237, 169, 21)\", \"rgb(237, 169, 21)\", \"rgb(237, 169, 21)\", \"rgb(237, 169, 21)\", \"rgb(237, 169, 21)\", \"rgb(237, 169, 21)\", \"rgb(237, 169, 21)\", \"rgb(237, 169, 21)\", \"rgb(237, 169, 21)\", \"rgb(237, 169, 21)\", \"rgb(237, 169, 21)\", \"rgb(237, 169, 21)\", \"rgb(237, 169, 21)\", \"rgb(237, 169, 21)\", \"rgb(237, 169, 21)\", \"rgb(237, 169, 21)\", \"rgb(237, 169, 21)\", \"rgb(237, 169, 21)\", \"rgb(237, 169, 21)\", \"rgb(237, 169, 21)\", \"rgb(237, 169, 21)\", \"rgb(237, 169, 21)\", \"rgb(237, 169, 21)\", \"rgb(237, 169, 21)\", \"rgb(237, 169, 21)\", \"rgb(237, 169, 21)\", \"rgb(237, 169, 21)\", \"rgb(237, 169, 21)\", \"rgb(237, 169, 21)\", \"rgb(237, 169, 21)\", \"rgb(237, 169, 21)\", \"rgb(237, 169, 21)\", \"rgb(237, 169, 21)\", \"rgb(237, 169, 21)\", \"rgb(237, 169, 21)\", \"rgb(237, 169, 21)\", \"rgb(237, 169, 21)\", \"rgb(237, 169, 21)\", \"rgb(237, 169, 21)\", \"rgb(237, 169, 21)\", \"rgb(237, 169, 21)\", \"rgb(237, 169, 21)\", \"rgb(237, 169, 21)\", \"rgb(237, 169, 21)\", \"rgb(237, 169, 21)\", \"rgb(237, 169, 21)\", \"rgb(237, 169, 21)\", \"rgb(237, 169, 21)\", \"rgb(237, 169, 21)\", \"rgb(237, 169, 21)\", \"rgb(237, 169, 21)\", \"rgb(237, 169, 21)\", \"rgb(237, 169, 21)\", \"rgb(237, 169, 21)\", \"rgb(237, 169, 21)\", \"rgb(237, 169, 21)\", \"rgb(237, 169, 21)\", \"rgb(237, 169, 21)\", \"rgb(237, 169, 21)\", \"rgb(237, 169, 21)\", \"rgb(237, 169, 21)\", \"rgb(237, 169, 21)\", \"rgb(237, 169, 21)\", \"rgb(237, 169, 21)\", \"rgb(237, 169, 21)\", \"rgb(237, 169, 21)\", \"rgb(237, 169, 21)\", \"rgb(237, 169, 21)\", \"rgb(237, 169, 21)\", \"rgb(237, 169, 21)\", \"rgb(237, 169, 21)\", \"rgb(237, 169, 21)\", \"rgb(237, 169, 21)\", \"rgb(237, 169, 21)\", \"rgb(237, 169, 21)\", \"rgb(237, 169, 21)\", \"rgb(237, 169, 21)\", \"rgb(237, 169, 21)\", \"rgb(237, 169, 21)\", \"rgb(237, 169, 21)\", \"rgb(237, 169, 21)\", \"rgb(237, 169, 21)\", \"rgb(237, 169, 21)\", \"rgb(237, 169, 21)\", \"rgb(237, 169, 21)\", \"rgb(237, 169, 21)\", \"rgb(237, 169, 21)\", \"rgb(237, 169, 21)\", \"rgb(237, 169, 21)\", \"rgb(237, 169, 21)\", \"rgb(237, 169, 21)\", \"rgb(237, 169, 21)\", \"rgb(237, 169, 21)\", \"rgb(237, 169, 21)\", \"rgb(237, 169, 21)\", \"rgb(237, 169, 21)\", \"rgb(237, 169, 21)\", \"rgb(237, 169, 21)\", \"rgb(237, 169, 21)\", \"rgb(237, 169, 21)\", \"rgb(237, 169, 21)\", \"rgb(237, 169, 21)\", \"rgb(237, 169, 21)\", \"rgb(237, 169, 21)\", \"rgb(237, 169, 21)\", \"rgb(237, 169, 21)\", \"rgb(237, 169, 21)\", \"rgb(237, 169, 21)\", \"rgb(237, 169, 21)\", \"rgb(237, 169, 21)\", \"rgb(237, 169, 21)\", \"rgb(237, 169, 21)\", \"rgb(237, 169, 21)\", \"rgb(237, 169, 21)\", \"rgb(237, 169, 21)\", \"rgb(237, 169, 21)\", \"rgb(237, 169, 21)\", \"rgb(237, 169, 21)\", \"rgb(237, 169, 21)\", \"rgb(237, 169, 21)\", \"rgb(237, 169, 21)\", \"rgb(237, 169, 21)\", \"rgb(237, 169, 21)\", \"rgb(237, 169, 21)\", \"rgb(237, 169, 21)\", \"rgb(237, 169, 21)\", \"rgb(237, 169, 21)\", \"rgb(237, 169, 21)\", \"rgb(237, 169, 21)\", \"rgb(237, 169, 21)\", \"rgb(237, 169, 21)\", \"rgb(237, 169, 21)\", \"rgb(237, 169, 21)\", \"rgb(237, 169, 21)\", \"rgb(237, 169, 21)\", \"rgb(237, 169, 21)\", \"rgb(237, 169, 21)\", \"rgb(237, 169, 21)\", \"rgb(237, 169, 21)\", \"rgb(237, 169, 21)\", \"rgb(237, 169, 21)\", \"rgb(237, 169, 21)\", \"rgb(237, 169, 21)\", \"rgb(237, 169, 21)\", \"rgb(237, 169, 21)\", \"rgb(237, 169, 21)\", \"rgb(237, 169, 21)\", \"rgb(237, 169, 21)\", \"rgb(237, 169, 21)\", \"rgb(237, 169, 21)\", \"rgb(237, 169, 21)\", \"rgb(237, 169, 21)\", \"rgb(237, 169, 21)\", \"rgb(237, 169, 21)\", \"rgb(237, 169, 21)\", \"rgb(237, 169, 21)\", \"rgb(237, 169, 21)\", \"rgb(237, 169, 21)\", \"rgb(237, 169, 21)\", \"rgb(237, 169, 21)\", \"rgb(237, 169, 21)\", \"rgb(237, 169, 21)\", \"rgb(237, 169, 21)\", \"rgb(237, 169, 21)\", \"rgb(237, 169, 21)\", \"rgb(237, 169, 21)\", \"rgb(237, 169, 21)\", \"rgb(237, 169, 21)\", \"rgb(237, 169, 21)\", \"rgb(237, 169, 21)\", \"rgb(237, 169, 21)\", \"rgb(237, 169, 21)\", \"rgb(237, 169, 21)\", \"rgb(237, 169, 21)\", \"rgb(237, 169, 21)\", \"rgb(237, 169, 21)\", \"rgb(237, 169, 21)\", \"rgb(237, 169, 21)\", \"rgb(237, 169, 21)\", \"rgb(237, 169, 21)\", \"rgb(237, 169, 21)\", \"rgb(237, 169, 21)\", \"rgb(237, 169, 21)\", \"rgb(237, 169, 21)\", \"rgb(237, 169, 21)\", \"rgb(237, 169, 21)\", \"rgb(237, 169, 21)\", \"rgb(237, 169, 21)\", \"rgb(237, 169, 21)\", \"rgb(237, 169, 21)\", \"rgb(237, 169, 21)\", \"rgb(237, 169, 21)\", \"rgb(237, 169, 21)\", \"rgb(237, 169, 21)\", \"rgb(237, 169, 21)\", \"rgb(237, 169, 21)\", \"rgb(237, 169, 21)\", \"rgb(237, 169, 21)\", \"rgb(237, 169, 21)\", \"rgb(237, 169, 21)\", \"rgb(237, 169, 21)\", \"rgb(237, 169, 21)\", \"rgb(237, 169, 21)\", \"rgb(237, 169, 21)\", \"rgb(237, 169, 21)\", \"rgb(237, 169, 21)\", \"rgb(237, 169, 21)\", \"rgb(237, 169, 21)\", \"rgb(237, 169, 21)\", \"rgb(237, 169, 21)\", \"rgb(237, 169, 21)\", \"rgb(237, 169, 21)\", \"rgb(237, 169, 21)\", \"rgb(237, 169, 21)\", \"rgb(237, 169, 21)\", \"rgb(237, 169, 21)\", \"rgb(237, 169, 21)\", \"rgb(237, 169, 21)\", \"rgb(237, 169, 21)\", \"rgb(237, 169, 21)\", \"rgb(237, 169, 21)\", \"rgb(237, 169, 21)\", \"rgb(237, 169, 21)\", \"rgb(237, 169, 21)\", \"rgb(237, 169, 21)\", \"rgb(237, 169, 21)\", \"rgb(237, 169, 21)\", \"rgb(237, 169, 21)\", \"rgb(237, 169, 21)\", \"rgb(237, 169, 21)\", \"rgb(237, 169, 21)\", \"rgb(237, 169, 21)\", \"rgb(237, 169, 21)\", \"rgb(237, 169, 21)\", \"rgb(237, 169, 21)\", \"rgb(237, 169, 21)\", \"rgb(237, 169, 21)\", \"rgb(237, 169, 21)\", \"rgb(237, 169, 21)\", \"rgb(237, 169, 21)\", \"rgb(237, 169, 21)\", \"rgb(237, 169, 21)\", \"rgb(237, 169, 21)\", \"rgb(237, 169, 21)\", \"rgb(237, 169, 21)\", \"rgb(237, 169, 21)\", \"rgb(237, 169, 21)\", \"rgb(237, 169, 21)\", \"rgb(237, 169, 21)\", \"rgb(237, 169, 21)\", \"rgb(237, 169, 21)\", \"rgb(237, 169, 21)\", \"rgb(237, 169, 21)\", \"rgb(237, 169, 21)\", \"rgb(237, 169, 21)\", \"rgb(237, 169, 21)\", \"rgb(237, 169, 21)\", \"rgb(237, 169, 21)\", \"rgb(237, 169, 21)\", \"rgb(237, 169, 21)\", \"rgb(237, 169, 21)\", \"rgb(237, 169, 21)\", \"rgb(237, 169, 21)\", \"rgb(237, 169, 21)\", \"rgb(237, 169, 21)\", \"rgb(237, 169, 21)\", \"rgb(237, 169, 21)\", \"rgb(237, 169, 21)\", \"rgb(237, 169, 21)\", \"rgb(237, 169, 21)\", \"rgb(237, 169, 21)\", \"rgb(237, 169, 21)\", \"rgb(237, 169, 21)\", \"rgb(237, 169, 21)\", \"rgb(237, 169, 21)\", \"rgb(237, 169, 21)\", \"rgb(237, 169, 21)\", \"rgb(237, 169, 21)\", \"rgb(237, 169, 21)\", \"rgb(237, 169, 21)\", \"rgb(237, 169, 21)\", \"rgb(237, 169, 21)\", \"rgb(237, 169, 21)\", \"rgb(237, 169, 21)\", \"rgb(237, 169, 21)\", \"rgb(237, 169, 21)\", \"rgb(237, 169, 21)\", \"rgb(237, 169, 21)\", \"rgb(237, 169, 21)\", \"rgb(237, 169, 21)\", \"rgb(237, 169, 21)\", \"rgb(237, 169, 21)\", \"rgb(237, 169, 21)\", \"rgb(237, 169, 21)\", \"rgb(237, 169, 21)\", \"rgb(237, 169, 21)\", \"rgb(237, 169, 21)\", \"rgb(237, 169, 21)\", \"rgb(237, 169, 21)\", \"rgb(237, 169, 21)\", \"rgb(237, 169, 21)\", \"rgb(237, 169, 21)\", \"rgb(237, 169, 21)\", \"rgb(237, 169, 21)\", \"rgb(237, 169, 21)\", \"rgb(237, 169, 21)\", \"rgb(237, 169, 21)\", \"rgb(237, 169, 21)\", \"rgb(237, 169, 21)\", \"rgb(237, 169, 21)\", \"rgb(237, 169, 21)\", \"rgb(237, 169, 21)\", \"rgb(237, 169, 21)\", \"rgb(237, 169, 21)\", \"rgb(237, 169, 21)\", \"rgb(237, 169, 21)\", \"rgb(237, 169, 21)\", \"rgb(237, 169, 21)\", \"rgb(237, 169, 21)\", \"rgb(237, 169, 21)\", \"rgb(237, 169, 21)\", \"rgb(237, 169, 21)\", \"rgb(237, 169, 21)\", \"rgb(237, 169, 21)\", \"rgb(237, 169, 21)\", \"rgb(237, 169, 21)\", \"rgb(237, 169, 21)\", \"rgb(237, 169, 21)\", \"rgb(237, 169, 21)\", \"rgb(237, 169, 21)\", \"rgb(237, 169, 21)\", \"rgb(237, 169, 21)\", \"rgb(237, 169, 21)\", \"rgb(237, 169, 21)\", \"rgb(237, 169, 21)\", \"rgb(237, 169, 21)\", \"rgb(237, 169, 21)\", \"rgb(237, 169, 21)\", \"rgb(237, 169, 21)\", \"rgb(237, 169, 21)\", \"rgb(237, 169, 21)\", \"rgb(237, 169, 21)\", \"rgb(237, 169, 21)\", \"rgb(237, 169, 21)\", \"rgb(237, 169, 21)\", \"rgb(237, 169, 21)\", \"rgb(237, 169, 21)\", \"rgb(237, 169, 21)\", \"rgb(237, 169, 21)\", \"rgb(237, 169, 21)\", \"rgb(237, 169, 21)\", \"rgb(237, 169, 21)\", \"rgb(237, 169, 21)\", \"rgb(237, 169, 21)\", \"rgb(237, 169, 21)\", \"rgb(237, 169, 21)\", \"rgb(237, 169, 21)\", \"rgb(237, 169, 21)\", \"rgb(237, 169, 21)\", \"rgb(237, 169, 21)\", \"rgb(237, 169, 21)\", \"rgb(237, 169, 21)\", \"rgb(237, 169, 21)\", \"rgb(237, 169, 21)\", \"rgb(237, 169, 21)\", \"rgb(237, 169, 21)\", \"rgb(237, 169, 21)\", \"rgb(237, 169, 21)\", \"rgb(237, 169, 21)\", \"rgb(237, 169, 21)\", \"rgb(237, 169, 21)\", \"rgb(237, 169, 21)\", \"rgb(237, 169, 21)\", \"rgb(237, 169, 21)\", \"rgb(237, 169, 21)\", \"rgb(237, 169, 21)\", \"rgb(237, 169, 21)\", \"rgb(237, 169, 21)\", \"rgb(237, 169, 21)\", \"rgb(237, 169, 21)\", \"rgb(237, 169, 21)\", \"rgb(237, 169, 21)\", \"rgb(237, 169, 21)\", \"rgb(237, 169, 21)\", \"rgb(237, 169, 21)\", \"rgb(237, 169, 21)\", \"rgb(237, 169, 21)\", \"rgb(237, 169, 21)\", \"rgb(237, 169, 21)\", \"rgb(237, 169, 21)\", \"rgb(237, 169, 21)\", \"rgb(237, 169, 21)\", \"rgb(237, 169, 21)\", \"rgb(237, 169, 21)\", \"rgb(237, 169, 21)\", \"rgb(237, 169, 21)\", \"rgb(237, 169, 21)\", \"rgb(237, 169, 21)\", \"rgb(237, 169, 21)\", \"rgb(237, 169, 21)\", \"rgb(237, 169, 21)\", \"rgb(237, 169, 21)\", \"rgb(237, 169, 21)\", \"rgb(237, 169, 21)\", \"rgb(237, 169, 21)\", \"rgb(237, 169, 21)\", \"rgb(237, 169, 21)\", \"rgb(237, 169, 21)\", \"rgb(237, 169, 21)\", \"rgb(237, 169, 21)\", \"rgb(237, 169, 21)\", \"rgb(237, 169, 21)\", \"rgb(237, 169, 21)\", \"rgb(237, 169, 21)\", \"rgb(237, 169, 21)\", \"rgb(237, 169, 21)\", \"rgb(237, 169, 21)\", \"rgb(237, 169, 21)\", \"rgb(237, 169, 21)\", \"rgb(237, 169, 21)\", \"rgb(237, 169, 21)\", \"rgb(237, 169, 21)\", \"rgb(237, 169, 21)\", \"rgb(237, 169, 21)\", \"rgb(237, 169, 21)\", \"rgb(237, 169, 21)\", \"rgb(237, 169, 21)\", \"rgb(237, 169, 21)\", \"rgb(237, 169, 21)\", \"rgb(237, 169, 21)\", \"rgb(237, 169, 21)\", \"rgb(237, 169, 21)\", \"rgb(237, 169, 21)\", \"rgb(237, 169, 21)\", \"rgb(237, 169, 21)\", \"rgb(237, 169, 21)\", \"rgb(237, 169, 21)\", \"rgb(237, 169, 21)\", \"rgb(237, 169, 21)\", \"rgb(237, 169, 21)\", \"rgb(237, 169, 21)\", \"rgb(237, 169, 21)\", \"rgb(237, 169, 21)\", \"rgb(237, 169, 21)\", \"rgb(237, 169, 21)\", \"rgb(237, 169, 21)\", \"rgb(237, 169, 21)\", \"rgb(237, 169, 21)\", \"rgb(237, 169, 21)\", \"rgb(237, 169, 21)\", \"rgb(237, 169, 21)\", \"rgb(237, 169, 21)\", \"rgb(237, 169, 21)\", \"rgb(237, 169, 21)\", \"rgb(237, 169, 21)\", \"rgb(237, 169, 21)\", \"rgb(237, 169, 21)\", \"rgb(237, 169, 21)\", \"rgb(237, 169, 21)\", \"rgb(237, 169, 21)\", \"rgb(237, 169, 21)\", \"rgb(237, 169, 21)\", \"rgb(237, 169, 21)\", \"rgb(237, 169, 21)\", \"rgb(237, 169, 21)\", \"rgb(237, 169, 21)\", \"rgb(237, 169, 21)\", \"rgb(237, 169, 21)\", \"rgb(237, 169, 21)\", \"rgb(237, 169, 21)\", \"rgb(237, 169, 21)\", \"rgb(237, 169, 21)\", \"rgb(237, 169, 21)\", \"rgb(237, 169, 21)\", \"rgb(237, 169, 21)\", \"rgb(237, 169, 21)\", \"rgb(237, 169, 21)\", \"rgb(237, 169, 21)\", \"rgb(237, 169, 21)\", \"rgb(237, 169, 21)\", \"rgb(237, 169, 21)\", \"rgb(237, 169, 21)\", \"rgb(237, 169, 21)\", \"rgb(237, 169, 21)\", \"rgb(237, 169, 21)\", \"rgb(237, 169, 21)\", \"rgb(237, 169, 21)\", \"rgb(237, 169, 21)\", \"rgb(237, 169, 21)\", \"rgb(237, 169, 21)\", \"rgb(237, 169, 21)\", \"rgb(237, 169, 21)\", \"rgb(237, 169, 21)\", \"rgb(237, 169, 21)\", \"rgb(237, 169, 21)\", \"rgb(237, 169, 21)\", \"rgb(237, 169, 21)\", \"rgb(237, 169, 21)\", \"rgb(237, 169, 21)\", \"rgb(237, 169, 21)\", \"rgb(237, 169, 21)\", \"rgb(237, 169, 21)\", \"rgb(237, 169, 21)\", \"rgb(237, 169, 21)\", \"rgb(237, 169, 21)\", \"rgb(237, 169, 21)\", \"rgb(237, 169, 21)\", \"rgb(237, 169, 21)\", \"rgb(237, 169, 21)\", \"rgb(237, 169, 21)\", \"rgb(237, 169, 21)\", \"rgb(237, 169, 21)\", \"rgb(237, 169, 21)\", \"rgb(237, 169, 21)\", \"rgb(237, 169, 21)\", \"rgb(237, 169, 21)\", \"rgb(237, 169, 21)\", \"rgb(237, 169, 21)\", \"rgb(237, 169, 21)\", \"rgb(237, 169, 21)\", \"rgb(237, 169, 21)\", \"rgb(237, 169, 21)\", \"rgb(237, 169, 21)\", \"rgb(237, 169, 21)\", \"rgb(237, 169, 21)\", \"rgb(237, 169, 21)\", \"rgb(237, 169, 21)\", \"rgb(237, 169, 21)\", \"rgb(237, 169, 21)\", \"rgb(237, 169, 21)\", \"rgb(237, 169, 21)\", \"rgb(237, 169, 21)\", \"rgb(237, 169, 21)\", \"rgb(237, 169, 21)\", \"rgb(237, 169, 21)\", \"rgb(237, 169, 21)\", \"rgb(237, 169, 21)\", \"rgb(237, 169, 21)\", \"rgb(237, 169, 21)\", \"rgb(237, 169, 21)\", \"rgb(237, 169, 21)\", \"rgb(237, 169, 21)\", \"rgb(237, 169, 21)\", \"rgb(237, 169, 21)\", \"rgb(237, 169, 21)\", \"rgb(237, 169, 21)\", \"rgb(237, 169, 21)\", \"rgb(237, 169, 21)\", \"rgb(237, 169, 21)\", \"rgb(237, 169, 21)\", \"rgb(237, 169, 21)\", \"rgb(237, 169, 21)\", \"rgb(237, 169, 21)\", \"rgb(237, 169, 21)\", \"rgb(237, 169, 21)\", \"rgb(237, 169, 21)\", \"rgb(237, 169, 21)\"]}, \"type\": \"bar\", \"x\": [8.0, 9.0, 6.0, 6.0, 6.0, 5.0, 4.0, 4.0, 3.0, 5.0, 3.0, 4.0, 7.0, 2.0, 9.0, 5.0, 5.0, 9.0, 9.0, 3.0, 6.0, 5.0, 6.0, 3.0, 5.0, 7.0, 7.0, 7.0, 4.0, 5.0, 3.0, 6.0, 6.0, 5.0, 5.0, 9.0, 4.0, 10.0, 9.0, 3.0, 4.0, 6.0, 6.0, 8.0, 4.0, 5.0, 6.0, null, 3.0, 4.0, 5.0, 3.0, 5.0, 3.0, 4.0, 3.0, 6.0, 5.0, 6.0, 5.0, 5.0, 8.0, 4.0, 8.0, 3.0, 9.0, 6.0, 7.0, 9.0, 7.0, 6.0, 5.0, 8.0, 6.0, 2.0, 5.0, 6.0, 4.0, 4.0, 6.0, 5.0, 11.0, 5.0, 10.0, 4.0, 12.0, 4.0, 5.0, 4.0, 13.0, 6.0, 2.0, 4.0, 6.0, 7.0, 3.0, 4.0, 5.0, 4.0, 3.0, 4.0, 6.0, 5.0, 3.0, 2.0, 2.0, 8.0, 5.0, 5.0, 6.0, 4.0, 3.0, 5.0, 4.0, 3.0, 2.0, 4.0, 7.0, 7.0, 12.0, 4.0, 8.0, 4.0, 3.0, 6.0, 5.0, 2.0, 8.0, 6.0, 3.0, 8.0, 2.0, 6.0, 9.0, 4.0, 3.0, 2.0, 4.0, 4.0, 5.0, 4.0, 4.0, 4.0, 5.0, 7.0, 3.0, 5.0, 3.0, 5.0, 5.0, 7.0, 4.0, 4.0, 4.0, 5.0, 5.0, 4.0, 5.0, 4.0, 3.0, 3.0, 3.0, 4.0, 6.0, 3.0, 6.0, 5.0, 4.0, 7.0, 4.0, 4.0, 3.0, 4.0, 4.0, 6.0, 2.0, 3.0, 3.0, 3.0, 4.0, 4.0, 4.0, 4.0, 4.0, 4.0, 3.0, 4.0, 4.0, 4.0, 4.0, 5.0, 5.0, 4.0, 6.0, 4.0, 5.0, 4.0, 4.0, 5.0, 5.0, 5.0, 5.0, 6.0, 5.0, 6.0, 9.0, 6.0, null, 5.0, 5.0, 4.0, 6.0, 4.0, 4.0, 5.0, 4.0, 4.0, 3.0, 9.0, 4.0, 6.0, 4.0, 5.0, 5.0, 8.0, 3.0, 3.0, 2.0, 4.0, 5.0, 6.0, 5.0, 6.0, 9.0, 7.0, 3.0, 4.0, 4.0, 7.0, 6.0, 3.0, 7.0, 7.0, 4.0, 4.0, 5.0, 3.0, null, 4.0, 4.0, 5.0, 5.0, 5.0, 6.0, 5.0, 12.0, 5.0, 5.0, 7.0, 5.0, 5.0, 6.0, 10.0, 5.0, 5.0, 5.0, 8.0, 9.0, 3.0, 4.0, 8.0, 8.0, 7.0, 6.0, 6.0, 6.0, 4.0, 8.0, 7.0, 8.0, 10.0, 4.0, 13.0, 6.0, 9.0, 2.0, 5.0, 5.0, 5.0, 6.0, 6.0, 3.0, 5.0, 7.0, 4.0, 4.0, 4.0, 7.0, 11.0, 6.0, 5.0, 8.0, 2.0, 9.0, 4.0, 9.0, 6.0, 5.0, 9.0, 5.0, 5.0, 4.0, 6.0, 4.0, 10.0, 5.0, 6.0, 9.0, 9.0, 6.0, 6.0, 7.0, 4.0, 3.0, 10.0, 5.0, 7.0, 10.0, 5.0, 5.0, 5.0, 12.0, 4.0, 6.0, 3.0, 5.0, 5.0, 8.0, 4.0, 4.0, 7.0, 7.0, 10.0, null, 4.0, 10.0, 5.0, 5.0, 5.0, 8.0, 4.0, 5.0, 5.0, 11.0, 7.0, 6.0, 5.0, 3.0, 7.0, 5.0, 5.0, 4.0, 5.0, 10.0, 3.0, 6.0, 5.0, 5.0, 4.0, 9.0, 2.0, 4.0, 5.0, 4.0, 7.0, 7.0, 4.0, 8.0, 10.0, 7.0, 6.0, 6.0, 5.0, 13.0, 6.0, 14.0, 13.0, 5.0, 5.0, 4.0, 5.0, 3.0, 7.0, 11.0, 6.0, 4.0, 10.0, 8.0, 4.0, 3.0, 2.0, 4.0, 5.0, 8.0, 6.0, 9.0, 3.0, 9.0, 6.0, 7.0, 3.0, 4.0, 7.0, 8.0, 11.0, 3.0, 5.0, 9.0, 8.0, 6.0, 4.0, 5.0, 5.0, 5.0, 9.0, 3.0, 5.0, 5.0, 7.0, 5.0, 4.0, 9.0, 9.0, 8.0, 7.0, 8.0, 5.0, 11.0, 6.0, 7.0, 3.0, 6.0, 9.0, 6.0, 7.0, 2.0, 5.0, 5.0, 6.0, 4.0, 2.0, 5.0, 6.0, 5.0, 4.0, 6.0, 7.0, 7.0, 4.0, 5.0, 10.0, null, 5.0, 8.0, 4.0, 9.0, 9.0, 5.0, 2.0, 5.0, 6.0, 7.0, 20.0, 6.0, 3.0, 13.0, 5.0, 5.0, 5.0, 6.0, 4.0, 6.0, 6.0, 5.0, 5.0, 7.0, 3.0, 4.0, 3.0, 6.0, 5.0, 4.0, 5.0, 2.0, 5.0, 3.0, 4.0, 4.0, 6.0, 5.0, 4.0, 5.0, 11.0, 4.0, 8.0, 6.0, 6.0, 4.0, null, 5.0, 4.0, 10.0, 5.0, 6.0, 4.0, 6.0, 20.0, 3.0, 6.0, 5.0, 14.0, 6.0, 7.0, 5.0, 2.0, 5.0, 3.0, 18.0, 5.0, 9.0, 7.0, 10.0, 3.0, 4.0, 4.0, 2.0, 7.0, 7.0, 4.0, 3.0, 4.0, 3.0, 8.0, 6.0, 7.0, 4.0, 8.0, 3.0, 6.0, 8.0, 5.0, 6.0, 7.0, 6.0, 10.0, 9.0, 7.0, 7.0, null, 5.0, 3.0, 6.0, 6.0, 4.0, 4.0, 4.0, 8.0, 3.0, 5.0, 3.0, 11.0, 7.0, 8.0, 8.0, 4.0, 3.0, 8.0, 5.0, 6.0, 4.0, 4.0, 7.0, 4.0, 6.0, 5.0, 8.0, 3.0, 4.0, 4.0, 6.0, 5.0, 4.0, 7.0, 7.0, 7.0, 5.0, 4.0, null, 8.0, 6.0, 8.0, 2.0, 5.0, 4.0, 6.0, 6.0], \"y\": [75, 229, 16, 32, 53, 19, 11, 1410, 1589, 3210, 5531, 11202, 46628, 590, 32, 8, 43, 7, 21, 21, 12, 12, 10, 42, 207, 26, 29, 30, 90, 22, 37, 12, 76, 28, 44, 24, 13, 8, 17, 11, 3, 15, 4, 3, 37, 4, 48, 71, 12, 87, 17, 9, 28, 14, 35, 42, 8, 5, 10, 8, 37, 4, 37, 59, 46, 14, 10, 10, 21, 18, 48, 4, 32, 13, 7, 6, 26, 5, 19, 63, 25, 4, 64, 19, 10, 3, 2245, 1138, 18, 9, 16, 23083, 23317, 47731, 52928, 13510, 9381, 47621, 41860, 2210, 21103, 65854, 15178, 10892, 34425, 28461, 85926, 2318, 60911, 99371, 139881, 2423, 4966, 16334, 5600, 3155, 15379, 9492, 3147, 31745, 15000, 30544, 14312, 5271, 4998, 5752, 9523, 34657, 31831, 7680, 21355, 18952, 5060, 39737, 5280, 37064, 17306, 9739, 1472, 3652, 7042, 20478, 2475, 14223, 21991, 5000, 4915, 11542, 6280, 19386, 6705, 11349, 7964, 19217, 7630, 10948, 13286, 25040, 12622, 13046, 2644, 4366, 3016, 14897, 5216, 16568, 5549, 7180, 15608, 9719, 4910, 8142, 3320, 4969, 5824, 5880, 17848, 4508, 3476, 4652, 6086, 3628, 11950, 1928, 2189, 1150, 1459, 2884, 1962, 6286, 4364, 3533, 4883, 5651, 8003, 2838, 2217, 2678, 4354, 3793, 3348, 1440, 3417, 2784, 2475, 8604, 2166, 3696, 2151, 1390, 5000, 2361, 2731, 2878, 1878, 3919, 3108, 5712, 6759, 2470, 3906, 1601, 3101, 1998, 6635, 3142, 1378, 3412, 1800, 8, 14, 35, 29, 8, 12, 925, 1274, 1127, 2030, 1763, 1075, 1689, 2678, 2424, 1276, 1974, 1972, 2979, 2223, 3669, 2781, 3088, 23, 36, 46, 32, 11, 10, 9, 43, 18, 34, 17, 13, 95, 4, 6, 69, 15, 25, 126, 27, 56, 35, 132, 117, 57, 45, 16, 17, 52, 616, 30, 30, 65, 48, 40, 68, 13, 64, 26, 74, 252, 86, 133, 77, 70, 108, 42, 48, 34, 126, 122, 79, 261, 89, 236, 34, 60, 31, 19, 56, 39, 222, 52, 31, 9, 20, 10, 31, 80, 41, 180, 288, 89, 36, 14, 41, 39, 200, 15, 89, 29, 53, 61, 61, 15, 23, 15, 18, 47, 20, 91, 30, 119, 36, 50, 14, 47, 27, 81, 773, 793, 506, 435, 44, 1245, 189, 129, 151, 84, 610, 14, 90, 248, 41, 17, 218, 845, 84, 98, 106, 349, 269, 226, 111, 153, 238, 107, 123, 207, 477, 150, 85, 51, 191, 251, 207, 105, 248, 61, 50, 12, 16, 39, 12, 12, 7, 7, 5, 32, 7, 0, 890, 939, 126, 44, 47, 32, 154, 71, 261, 48, 72, 348, 48, 762, 53, 48, 32, 369, 176, 42, 25, 213, 169, 36, 166, 141, 42, 92, 96, 121, 164, 134, 200, 146, 81, 161, 113, 175, 92, 129, 97, 48, 476, 455, 31, 39, 65, 127, 47, 1544, 2613, 1729, 211, 96, 1277, 46, 40, 254, 116, 83, 122, 137, 379, 90, 778, 425, 119, 122, 342, 43, 64, 101, 0, 0, 1, 2671, 2059, 1502, 1384, 770, 3813, 3816, 2484, 4109, 3447, 6051, 3851, 1031, 410, 592, 496, 421, 976, 2294, 7890, 230, 220, 12, 36, 22, 8, 7, 23, 2, 9, 22, 4, 7, 5, 31, 8, 2, 3, 5, 6, 1, 1, 3, 16, 6, 13, 4, 2, 5, 15, 35, 68, 16, 6, 6, 18, 1, 19, 6, 1, 10, 6, 9, 13, 5, 6, 6, 4, 5, 6, 3, 5, 24, 8, 5, 16, 6, 26, 11, 1, 13, 1, 8, 13, 29, 3, 14, 13, 8, 30, 17, 32, 12, 5, 4, 11, 30, 56, 11, 9, 16, 20, 26, 17, 74, 39, 25, 18, 5, 6, 8, 9, 50, 25, 5, 16, 22, 124, 63, 52, 5, 11, 10, 7, 9, 45, 14, 48]}],                        {\"bargap\": 0.05, \"font\": {\"color\": \"rgb(31,33,36)\", \"family\": \"Arial\", \"size\": 18}, \"paper_bgcolor\": \"rgba(0,0,0,0)\", \"plot_bgcolor\": \"rgba(0,0,0,0)\", \"template\": {\"data\": {\"bar\": [{\"error_x\": {\"color\": \"#2a3f5f\"}, \"error_y\": {\"color\": \"#2a3f5f\"}, \"marker\": {\"line\": {\"color\": \"#E5ECF6\", \"width\": 0.5}}, \"type\": \"bar\"}], \"barpolar\": [{\"marker\": {\"line\": {\"color\": \"#E5ECF6\", \"width\": 0.5}}, \"type\": \"barpolar\"}], \"carpet\": [{\"aaxis\": {\"endlinecolor\": \"#2a3f5f\", \"gridcolor\": \"white\", \"linecolor\": \"white\", \"minorgridcolor\": \"white\", \"startlinecolor\": \"#2a3f5f\"}, \"baxis\": {\"endlinecolor\": \"#2a3f5f\", \"gridcolor\": \"white\", \"linecolor\": \"white\", \"minorgridcolor\": \"white\", \"startlinecolor\": \"#2a3f5f\"}, \"type\": \"carpet\"}], \"choropleth\": [{\"colorbar\": {\"outlinewidth\": 0, \"ticks\": \"\"}, \"type\": \"choropleth\"}], \"contour\": [{\"colorbar\": {\"outlinewidth\": 0, \"ticks\": \"\"}, \"colorscale\": [[0.0, \"#0d0887\"], [0.1111111111111111, \"#46039f\"], [0.2222222222222222, \"#7201a8\"], [0.3333333333333333, \"#9c179e\"], [0.4444444444444444, \"#bd3786\"], [0.5555555555555556, \"#d8576b\"], [0.6666666666666666, \"#ed7953\"], [0.7777777777777778, \"#fb9f3a\"], [0.8888888888888888, \"#fdca26\"], [1.0, \"#f0f921\"]], \"type\": \"contour\"}], \"contourcarpet\": [{\"colorbar\": {\"outlinewidth\": 0, \"ticks\": \"\"}, \"type\": \"contourcarpet\"}], \"heatmap\": [{\"colorbar\": {\"outlinewidth\": 0, \"ticks\": \"\"}, \"colorscale\": [[0.0, \"#0d0887\"], [0.1111111111111111, \"#46039f\"], [0.2222222222222222, \"#7201a8\"], [0.3333333333333333, \"#9c179e\"], [0.4444444444444444, \"#bd3786\"], [0.5555555555555556, \"#d8576b\"], [0.6666666666666666, \"#ed7953\"], [0.7777777777777778, \"#fb9f3a\"], [0.8888888888888888, \"#fdca26\"], [1.0, \"#f0f921\"]], \"type\": \"heatmap\"}], \"heatmapgl\": [{\"colorbar\": {\"outlinewidth\": 0, \"ticks\": \"\"}, \"colorscale\": [[0.0, \"#0d0887\"], [0.1111111111111111, \"#46039f\"], [0.2222222222222222, \"#7201a8\"], [0.3333333333333333, \"#9c179e\"], [0.4444444444444444, \"#bd3786\"], [0.5555555555555556, \"#d8576b\"], [0.6666666666666666, \"#ed7953\"], [0.7777777777777778, \"#fb9f3a\"], [0.8888888888888888, \"#fdca26\"], [1.0, \"#f0f921\"]], \"type\": \"heatmapgl\"}], \"histogram\": [{\"marker\": {\"colorbar\": {\"outlinewidth\": 0, \"ticks\": \"\"}}, \"type\": \"histogram\"}], \"histogram2d\": [{\"colorbar\": {\"outlinewidth\": 0, \"ticks\": \"\"}, \"colorscale\": [[0.0, \"#0d0887\"], [0.1111111111111111, \"#46039f\"], [0.2222222222222222, \"#7201a8\"], [0.3333333333333333, \"#9c179e\"], [0.4444444444444444, \"#bd3786\"], [0.5555555555555556, \"#d8576b\"], [0.6666666666666666, \"#ed7953\"], [0.7777777777777778, \"#fb9f3a\"], [0.8888888888888888, \"#fdca26\"], [1.0, \"#f0f921\"]], \"type\": \"histogram2d\"}], \"histogram2dcontour\": [{\"colorbar\": {\"outlinewidth\": 0, \"ticks\": \"\"}, \"colorscale\": [[0.0, \"#0d0887\"], [0.1111111111111111, \"#46039f\"], [0.2222222222222222, \"#7201a8\"], [0.3333333333333333, \"#9c179e\"], [0.4444444444444444, \"#bd3786\"], [0.5555555555555556, \"#d8576b\"], [0.6666666666666666, \"#ed7953\"], [0.7777777777777778, \"#fb9f3a\"], [0.8888888888888888, \"#fdca26\"], [1.0, \"#f0f921\"]], \"type\": \"histogram2dcontour\"}], \"mesh3d\": [{\"colorbar\": {\"outlinewidth\": 0, \"ticks\": \"\"}, \"type\": \"mesh3d\"}], \"parcoords\": [{\"line\": {\"colorbar\": {\"outlinewidth\": 0, \"ticks\": \"\"}}, \"type\": \"parcoords\"}], \"pie\": [{\"automargin\": true, \"type\": \"pie\"}], \"scatter\": [{\"marker\": {\"colorbar\": {\"outlinewidth\": 0, \"ticks\": \"\"}}, \"type\": \"scatter\"}], \"scatter3d\": [{\"line\": {\"colorbar\": {\"outlinewidth\": 0, \"ticks\": \"\"}}, \"marker\": {\"colorbar\": {\"outlinewidth\": 0, \"ticks\": \"\"}}, \"type\": \"scatter3d\"}], \"scattercarpet\": [{\"marker\": {\"colorbar\": {\"outlinewidth\": 0, \"ticks\": \"\"}}, \"type\": \"scattercarpet\"}], \"scattergeo\": [{\"marker\": {\"colorbar\": {\"outlinewidth\": 0, \"ticks\": \"\"}}, \"type\": \"scattergeo\"}], \"scattergl\": [{\"marker\": {\"colorbar\": {\"outlinewidth\": 0, \"ticks\": \"\"}}, \"type\": \"scattergl\"}], \"scattermapbox\": [{\"marker\": {\"colorbar\": {\"outlinewidth\": 0, \"ticks\": \"\"}}, \"type\": \"scattermapbox\"}], \"scatterpolar\": [{\"marker\": {\"colorbar\": {\"outlinewidth\": 0, \"ticks\": \"\"}}, \"type\": \"scatterpolar\"}], \"scatterpolargl\": [{\"marker\": {\"colorbar\": {\"outlinewidth\": 0, \"ticks\": \"\"}}, \"type\": \"scatterpolargl\"}], \"scatterternary\": [{\"marker\": {\"colorbar\": {\"outlinewidth\": 0, \"ticks\": \"\"}}, \"type\": \"scatterternary\"}], \"surface\": [{\"colorbar\": {\"outlinewidth\": 0, \"ticks\": \"\"}, \"colorscale\": [[0.0, \"#0d0887\"], [0.1111111111111111, \"#46039f\"], [0.2222222222222222, \"#7201a8\"], [0.3333333333333333, \"#9c179e\"], [0.4444444444444444, \"#bd3786\"], [0.5555555555555556, \"#d8576b\"], [0.6666666666666666, \"#ed7953\"], [0.7777777777777778, \"#fb9f3a\"], [0.8888888888888888, \"#fdca26\"], [1.0, \"#f0f921\"]], \"type\": \"surface\"}], \"table\": [{\"cells\": {\"fill\": {\"color\": \"#EBF0F8\"}, \"line\": {\"color\": \"white\"}}, \"header\": {\"fill\": {\"color\": \"#C8D4E3\"}, \"line\": {\"color\": \"white\"}}, \"type\": \"table\"}]}, \"layout\": {\"annotationdefaults\": {\"arrowcolor\": \"#2a3f5f\", \"arrowhead\": 0, \"arrowwidth\": 1}, \"coloraxis\": {\"colorbar\": {\"outlinewidth\": 0, \"ticks\": \"\"}}, \"colorscale\": {\"diverging\": [[0, \"#8e0152\"], [0.1, \"#c51b7d\"], [0.2, \"#de77ae\"], [0.3, \"#f1b6da\"], [0.4, \"#fde0ef\"], [0.5, \"#f7f7f7\"], [0.6, \"#e6f5d0\"], [0.7, \"#b8e186\"], [0.8, \"#7fbc41\"], [0.9, \"#4d9221\"], [1, \"#276419\"]], \"sequential\": [[0.0, \"#0d0887\"], [0.1111111111111111, \"#46039f\"], [0.2222222222222222, \"#7201a8\"], [0.3333333333333333, \"#9c179e\"], [0.4444444444444444, \"#bd3786\"], [0.5555555555555556, \"#d8576b\"], [0.6666666666666666, \"#ed7953\"], [0.7777777777777778, \"#fb9f3a\"], [0.8888888888888888, \"#fdca26\"], [1.0, \"#f0f921\"]], \"sequentialminus\": [[0.0, \"#0d0887\"], [0.1111111111111111, \"#46039f\"], [0.2222222222222222, \"#7201a8\"], [0.3333333333333333, \"#9c179e\"], [0.4444444444444444, \"#bd3786\"], [0.5555555555555556, \"#d8576b\"], [0.6666666666666666, \"#ed7953\"], [0.7777777777777778, \"#fb9f3a\"], [0.8888888888888888, \"#fdca26\"], [1.0, \"#f0f921\"]]}, \"colorway\": [\"#636efa\", \"#EF553B\", \"#00cc96\", \"#ab63fa\", \"#FFA15A\", \"#19d3f3\", \"#FF6692\", \"#B6E880\", \"#FF97FF\", \"#FECB52\"], \"font\": {\"color\": \"#2a3f5f\"}, \"geo\": {\"bgcolor\": \"white\", \"lakecolor\": \"white\", \"landcolor\": \"#E5ECF6\", \"showlakes\": true, \"showland\": true, \"subunitcolor\": \"white\"}, \"hoverlabel\": {\"align\": \"left\"}, \"hovermode\": \"closest\", \"mapbox\": {\"style\": \"light\"}, \"paper_bgcolor\": \"white\", \"plot_bgcolor\": \"#E5ECF6\", \"polar\": {\"angularaxis\": {\"gridcolor\": \"white\", \"linecolor\": \"white\", \"ticks\": \"\"}, \"bgcolor\": \"#E5ECF6\", \"radialaxis\": {\"gridcolor\": \"white\", \"linecolor\": \"white\", \"ticks\": \"\"}}, \"scene\": {\"xaxis\": {\"backgroundcolor\": \"#E5ECF6\", \"gridcolor\": \"white\", \"gridwidth\": 2, \"linecolor\": \"white\", \"showbackground\": true, \"ticks\": \"\", \"zerolinecolor\": \"white\"}, \"yaxis\": {\"backgroundcolor\": \"#E5ECF6\", \"gridcolor\": \"white\", \"gridwidth\": 2, \"linecolor\": \"white\", \"showbackground\": true, \"ticks\": \"\", \"zerolinecolor\": \"white\"}, \"zaxis\": {\"backgroundcolor\": \"#E5ECF6\", \"gridcolor\": \"white\", \"gridwidth\": 2, \"linecolor\": \"white\", \"showbackground\": true, \"ticks\": \"\", \"zerolinecolor\": \"white\"}}, \"shapedefaults\": {\"line\": {\"color\": \"#2a3f5f\"}}, \"ternary\": {\"aaxis\": {\"gridcolor\": \"white\", \"linecolor\": \"white\", \"ticks\": \"\"}, \"baxis\": {\"gridcolor\": \"white\", \"linecolor\": \"white\", \"ticks\": \"\"}, \"bgcolor\": \"#E5ECF6\", \"caxis\": {\"gridcolor\": \"white\", \"linecolor\": \"white\", \"ticks\": \"\"}}, \"title\": {\"x\": 0.05}, \"xaxis\": {\"automargin\": true, \"gridcolor\": \"white\", \"linecolor\": \"white\", \"ticks\": \"\", \"title\": {\"standoff\": 15}, \"zerolinecolor\": \"white\", \"zerolinewidth\": 2}, \"yaxis\": {\"automargin\": true, \"gridcolor\": \"white\", \"linecolor\": \"white\", \"ticks\": \"\", \"title\": {\"standoff\": 15}, \"zerolinecolor\": \"white\", \"zerolinewidth\": 2}}}, \"title\": {\"x\": 0.5, \"xanchor\": \"center\", \"y\": 0.9, \"yanchor\": \"top\"}, \"xaxis\": {\"title\": {\"text\": \"Steps Required\"}}, \"yaxis\": {\"title\": {\"text\": \"User Likes\"}}},                        {\"responsive\": true}                    ).then(function(){\n",
       "                            \n",
       "var gd = document.getElementById('983fee1e-687d-45b0-93d1-4c2c95ef7a0f');\n",
       "var x = new MutationObserver(function (mutations, observer) {{\n",
       "        var display = window.getComputedStyle(gd).display;\n",
       "        if (!display || display === 'none') {{\n",
       "            console.log([gd, 'removed!']);\n",
       "            Plotly.purge(gd);\n",
       "            observer.disconnect();\n",
       "        }}\n",
       "}});\n",
       "\n",
       "// Listen for the removal of the full notebook cells\n",
       "var notebookContainer = gd.closest('#notebook-container');\n",
       "if (notebookContainer) {{\n",
       "    x.observe(notebookContainer, {childList: true});\n",
       "}}\n",
       "\n",
       "// Listen for the clearing of the current output cell\n",
       "var outputEl = gd.closest('.output');\n",
       "if (outputEl) {{\n",
       "    x.observe(outputEl, {childList: true});\n",
       "}}\n",
       "\n",
       "                        })                };                });            </script>        </div>"
      ]
     },
     "metadata": {},
     "output_type": "display_data"
    }
   ],
   "source": [
    "color = ['rgb(237, 169, 21)']*len(df['total_steps'])\n",
    "\n",
    "fig = go.Figure(data = [go.Bar(\n",
    "    y=df['user_likes'],\n",
    "    x=df['total_steps'],\n",
    "    marker_color = color\n",
    ")])\n",
    "\n",
    "fig.update_layout(\n",
    "    xaxis_title = 'Steps Required',\n",
    "    yaxis_title = 'User Likes',\n",
    "    title={\n",
    "        #'text': \"Most Liked Step Count\",\n",
    "        'y':0.9,\n",
    "        'x':0.5,\n",
    "        'xanchor': 'center',\n",
    "        'yanchor': 'top'},\n",
    "    font = {'family': 'Arial',\n",
    "           'size': 18,\n",
    "           'color': 'rgb(31,33,36)'},\n",
    "    plot_bgcolor = 'rgba(0,0,0,0)',\n",
    "    paper_bgcolor = 'rgba(0,0,0,0)',\n",
    "    bargap = 0.05\n",
    ")\n",
    "\n",
    "fig.show()"
   ]
  },
  {
   "cell_type": "code",
   "execution_count": 20,
   "metadata": {},
   "outputs": [
    {
     "data": {
      "application/vnd.plotly.v1+json": {
       "config": {
        "plotlyServerURL": "https://plot.ly"
       },
       "data": [
        {
         "alignmentgroup": "True",
         "bingroup": "x",
         "histfunc": "sum",
         "hovertemplate": "total_steps=%{x}<br>sum of user_likes=%{y}<extra></extra>",
         "legendgroup": "",
         "marker": {
          "color": "rgb(237, 169, 21)"
         },
         "name": "",
         "offsetgroup": "",
         "orientation": "v",
         "showlegend": false,
         "type": "histogram",
         "x": [
          8,
          9,
          6,
          6,
          6,
          5,
          4,
          4,
          3,
          5,
          3,
          4,
          7,
          2,
          9,
          5,
          5,
          9,
          9,
          3,
          6,
          5,
          6,
          3,
          5,
          7,
          7,
          7,
          4,
          5,
          3,
          6,
          6,
          5,
          5,
          9,
          4,
          10,
          9,
          3,
          4,
          6,
          6,
          8,
          4,
          5,
          6,
          null,
          3,
          4,
          5,
          3,
          5,
          3,
          4,
          3,
          6,
          5,
          6,
          5,
          5,
          8,
          4,
          8,
          3,
          9,
          6,
          7,
          9,
          7,
          6,
          5,
          8,
          6,
          2,
          5,
          6,
          4,
          4,
          6,
          5,
          11,
          5,
          10,
          4,
          12,
          4,
          5,
          4,
          13,
          6,
          2,
          4,
          6,
          7,
          3,
          4,
          5,
          4,
          3,
          4,
          6,
          5,
          3,
          2,
          2,
          8,
          5,
          5,
          6,
          4,
          3,
          5,
          4,
          3,
          2,
          4,
          7,
          7,
          12,
          4,
          8,
          4,
          3,
          6,
          5,
          2,
          8,
          6,
          3,
          8,
          2,
          6,
          9,
          4,
          3,
          2,
          4,
          4,
          5,
          4,
          4,
          4,
          5,
          7,
          3,
          5,
          3,
          5,
          5,
          7,
          4,
          4,
          4,
          5,
          5,
          4,
          5,
          4,
          3,
          3,
          3,
          4,
          6,
          3,
          6,
          5,
          4,
          7,
          4,
          4,
          3,
          4,
          4,
          6,
          2,
          3,
          3,
          3,
          4,
          4,
          4,
          4,
          4,
          4,
          3,
          4,
          4,
          4,
          4,
          5,
          5,
          4,
          6,
          4,
          5,
          4,
          4,
          5,
          5,
          5,
          5,
          6,
          5,
          6,
          9,
          6,
          null,
          5,
          5,
          4,
          6,
          4,
          4,
          5,
          4,
          4,
          3,
          9,
          4,
          6,
          4,
          5,
          5,
          8,
          3,
          3,
          2,
          4,
          5,
          6,
          5,
          6,
          9,
          7,
          3,
          4,
          4,
          7,
          6,
          3,
          7,
          7,
          4,
          4,
          5,
          3,
          null,
          4,
          4,
          5,
          5,
          5,
          6,
          5,
          12,
          5,
          5,
          7,
          5,
          5,
          6,
          10,
          5,
          5,
          5,
          8,
          9,
          3,
          4,
          8,
          8,
          7,
          6,
          6,
          6,
          4,
          8,
          7,
          8,
          10,
          4,
          13,
          6,
          9,
          2,
          5,
          5,
          5,
          6,
          6,
          3,
          5,
          7,
          4,
          4,
          4,
          7,
          11,
          6,
          5,
          8,
          2,
          9,
          4,
          9,
          6,
          5,
          9,
          5,
          5,
          4,
          6,
          4,
          10,
          5,
          6,
          9,
          9,
          6,
          6,
          7,
          4,
          3,
          10,
          5,
          7,
          10,
          5,
          5,
          5,
          12,
          4,
          6,
          3,
          5,
          5,
          8,
          4,
          4,
          7,
          7,
          10,
          null,
          4,
          10,
          5,
          5,
          5,
          8,
          4,
          5,
          5,
          11,
          7,
          6,
          5,
          3,
          7,
          5,
          5,
          4,
          5,
          10,
          3,
          6,
          5,
          5,
          4,
          9,
          2,
          4,
          5,
          4,
          7,
          7,
          4,
          8,
          10,
          7,
          6,
          6,
          5,
          13,
          6,
          14,
          13,
          5,
          5,
          4,
          5,
          3,
          7,
          11,
          6,
          4,
          10,
          8,
          4,
          3,
          2,
          4,
          5,
          8,
          6,
          9,
          3,
          9,
          6,
          7,
          3,
          4,
          7,
          8,
          11,
          3,
          5,
          9,
          8,
          6,
          4,
          5,
          5,
          5,
          9,
          3,
          5,
          5,
          7,
          5,
          4,
          9,
          9,
          8,
          7,
          8,
          5,
          11,
          6,
          7,
          3,
          6,
          9,
          6,
          7,
          2,
          5,
          5,
          6,
          4,
          2,
          5,
          6,
          5,
          4,
          6,
          7,
          7,
          4,
          5,
          10,
          null,
          5,
          8,
          4,
          9,
          9,
          5,
          2,
          5,
          6,
          7,
          20,
          6,
          3,
          13,
          5,
          5,
          5,
          6,
          4,
          6,
          6,
          5,
          5,
          7,
          3,
          4,
          3,
          6,
          5,
          4,
          5,
          2,
          5,
          3,
          4,
          4,
          6,
          5,
          4,
          5,
          11,
          4,
          8,
          6,
          6,
          4,
          null,
          5,
          4,
          10,
          5,
          6,
          4,
          6,
          20,
          3,
          6,
          5,
          14,
          6,
          7,
          5,
          2,
          5,
          3,
          18,
          5,
          9,
          7,
          10,
          3,
          4,
          4,
          2,
          7,
          7,
          4,
          3,
          4,
          3,
          8,
          6,
          7,
          4,
          8,
          3,
          6,
          8,
          5,
          6,
          7,
          6,
          10,
          9,
          7,
          7,
          null,
          5,
          3,
          6,
          6,
          4,
          4,
          4,
          8,
          3,
          5,
          3,
          11,
          7,
          8,
          8,
          4,
          3,
          8,
          5,
          6,
          4,
          4,
          7,
          4,
          6,
          5,
          8,
          3,
          4,
          4,
          6,
          5,
          4,
          7,
          7,
          7,
          5,
          4,
          null,
          8,
          6,
          8,
          2,
          5,
          4,
          6,
          6
         ],
         "xaxis": "x",
         "y": [
          75,
          229,
          16,
          32,
          53,
          19,
          11,
          1410,
          1589,
          3210,
          5531,
          11202,
          46628,
          590,
          32,
          8,
          43,
          7,
          21,
          21,
          12,
          12,
          10,
          42,
          207,
          26,
          29,
          30,
          90,
          22,
          37,
          12,
          76,
          28,
          44,
          24,
          13,
          8,
          17,
          11,
          3,
          15,
          4,
          3,
          37,
          4,
          48,
          71,
          12,
          87,
          17,
          9,
          28,
          14,
          35,
          42,
          8,
          5,
          10,
          8,
          37,
          4,
          37,
          59,
          46,
          14,
          10,
          10,
          21,
          18,
          48,
          4,
          32,
          13,
          7,
          6,
          26,
          5,
          19,
          63,
          25,
          4,
          64,
          19,
          10,
          3,
          2245,
          1138,
          18,
          9,
          16,
          23083,
          23317,
          47731,
          52928,
          13510,
          9381,
          47621,
          41860,
          2210,
          21103,
          65854,
          15178,
          10892,
          34425,
          28461,
          85926,
          2318,
          60911,
          99371,
          139881,
          2423,
          4966,
          16334,
          5600,
          3155,
          15379,
          9492,
          3147,
          31745,
          15000,
          30544,
          14312,
          5271,
          4998,
          5752,
          9523,
          34657,
          31831,
          7680,
          21355,
          18952,
          5060,
          39737,
          5280,
          37064,
          17306,
          9739,
          1472,
          3652,
          7042,
          20478,
          2475,
          14223,
          21991,
          5000,
          4915,
          11542,
          6280,
          19386,
          6705,
          11349,
          7964,
          19217,
          7630,
          10948,
          13286,
          25040,
          12622,
          13046,
          2644,
          4366,
          3016,
          14897,
          5216,
          16568,
          5549,
          7180,
          15608,
          9719,
          4910,
          8142,
          3320,
          4969,
          5824,
          5880,
          17848,
          4508,
          3476,
          4652,
          6086,
          3628,
          11950,
          1928,
          2189,
          1150,
          1459,
          2884,
          1962,
          6286,
          4364,
          3533,
          4883,
          5651,
          8003,
          2838,
          2217,
          2678,
          4354,
          3793,
          3348,
          1440,
          3417,
          2784,
          2475,
          8604,
          2166,
          3696,
          2151,
          1390,
          5000,
          2361,
          2731,
          2878,
          1878,
          3919,
          3108,
          5712,
          6759,
          2470,
          3906,
          1601,
          3101,
          1998,
          6635,
          3142,
          1378,
          3412,
          1800,
          8,
          14,
          35,
          29,
          8,
          12,
          925,
          1274,
          1127,
          2030,
          1763,
          1075,
          1689,
          2678,
          2424,
          1276,
          1974,
          1972,
          2979,
          2223,
          3669,
          2781,
          3088,
          23,
          36,
          46,
          32,
          11,
          10,
          9,
          43,
          18,
          34,
          17,
          13,
          95,
          4,
          6,
          69,
          15,
          25,
          126,
          27,
          56,
          35,
          132,
          117,
          57,
          45,
          16,
          17,
          52,
          616,
          30,
          30,
          65,
          48,
          40,
          68,
          13,
          64,
          26,
          74,
          252,
          86,
          133,
          77,
          70,
          108,
          42,
          48,
          34,
          126,
          122,
          79,
          261,
          89,
          236,
          34,
          60,
          31,
          19,
          56,
          39,
          222,
          52,
          31,
          9,
          20,
          10,
          31,
          80,
          41,
          180,
          288,
          89,
          36,
          14,
          41,
          39,
          200,
          15,
          89,
          29,
          53,
          61,
          61,
          15,
          23,
          15,
          18,
          47,
          20,
          91,
          30,
          119,
          36,
          50,
          14,
          47,
          27,
          81,
          773,
          793,
          506,
          435,
          44,
          1245,
          189,
          129,
          151,
          84,
          610,
          14,
          90,
          248,
          41,
          17,
          218,
          845,
          84,
          98,
          106,
          349,
          269,
          226,
          111,
          153,
          238,
          107,
          123,
          207,
          477,
          150,
          85,
          51,
          191,
          251,
          207,
          105,
          248,
          61,
          50,
          12,
          16,
          39,
          12,
          12,
          7,
          7,
          5,
          32,
          7,
          0,
          890,
          939,
          126,
          44,
          47,
          32,
          154,
          71,
          261,
          48,
          72,
          348,
          48,
          762,
          53,
          48,
          32,
          369,
          176,
          42,
          25,
          213,
          169,
          36,
          166,
          141,
          42,
          92,
          96,
          121,
          164,
          134,
          200,
          146,
          81,
          161,
          113,
          175,
          92,
          129,
          97,
          48,
          476,
          455,
          31,
          39,
          65,
          127,
          47,
          1544,
          2613,
          1729,
          211,
          96,
          1277,
          46,
          40,
          254,
          116,
          83,
          122,
          137,
          379,
          90,
          778,
          425,
          119,
          122,
          342,
          43,
          64,
          101,
          0,
          0,
          1,
          2671,
          2059,
          1502,
          1384,
          770,
          3813,
          3816,
          2484,
          4109,
          3447,
          6051,
          3851,
          1031,
          410,
          592,
          496,
          421,
          976,
          2294,
          7890,
          230,
          220,
          12,
          36,
          22,
          8,
          7,
          23,
          2,
          9,
          22,
          4,
          7,
          5,
          31,
          8,
          2,
          3,
          5,
          6,
          1,
          1,
          3,
          16,
          6,
          13,
          4,
          2,
          5,
          15,
          35,
          68,
          16,
          6,
          6,
          18,
          1,
          19,
          6,
          1,
          10,
          6,
          9,
          13,
          5,
          6,
          6,
          4,
          5,
          6,
          3,
          5,
          24,
          8,
          5,
          16,
          6,
          26,
          11,
          1,
          13,
          1,
          8,
          13,
          29,
          3,
          14,
          13,
          8,
          30,
          17,
          32,
          12,
          5,
          4,
          11,
          30,
          56,
          11,
          9,
          16,
          20,
          26,
          17,
          74,
          39,
          25,
          18,
          5,
          6,
          8,
          9,
          50,
          25,
          5,
          16,
          22,
          124,
          63,
          52,
          5,
          11,
          10,
          7,
          9,
          45,
          14,
          48
         ],
         "yaxis": "y"
        },
        {
         "alignmentgroup": "True",
         "hovertemplate": "total_steps=%{x}<extra></extra>",
         "legendgroup": "",
         "marker": {
          "color": "rgb(237, 169, 21)"
         },
         "name": "",
         "offsetgroup": "",
         "scalegroup": "x",
         "showlegend": false,
         "type": "violin",
         "x": [
          8,
          9,
          6,
          6,
          6,
          5,
          4,
          4,
          3,
          5,
          3,
          4,
          7,
          2,
          9,
          5,
          5,
          9,
          9,
          3,
          6,
          5,
          6,
          3,
          5,
          7,
          7,
          7,
          4,
          5,
          3,
          6,
          6,
          5,
          5,
          9,
          4,
          10,
          9,
          3,
          4,
          6,
          6,
          8,
          4,
          5,
          6,
          null,
          3,
          4,
          5,
          3,
          5,
          3,
          4,
          3,
          6,
          5,
          6,
          5,
          5,
          8,
          4,
          8,
          3,
          9,
          6,
          7,
          9,
          7,
          6,
          5,
          8,
          6,
          2,
          5,
          6,
          4,
          4,
          6,
          5,
          11,
          5,
          10,
          4,
          12,
          4,
          5,
          4,
          13,
          6,
          2,
          4,
          6,
          7,
          3,
          4,
          5,
          4,
          3,
          4,
          6,
          5,
          3,
          2,
          2,
          8,
          5,
          5,
          6,
          4,
          3,
          5,
          4,
          3,
          2,
          4,
          7,
          7,
          12,
          4,
          8,
          4,
          3,
          6,
          5,
          2,
          8,
          6,
          3,
          8,
          2,
          6,
          9,
          4,
          3,
          2,
          4,
          4,
          5,
          4,
          4,
          4,
          5,
          7,
          3,
          5,
          3,
          5,
          5,
          7,
          4,
          4,
          4,
          5,
          5,
          4,
          5,
          4,
          3,
          3,
          3,
          4,
          6,
          3,
          6,
          5,
          4,
          7,
          4,
          4,
          3,
          4,
          4,
          6,
          2,
          3,
          3,
          3,
          4,
          4,
          4,
          4,
          4,
          4,
          3,
          4,
          4,
          4,
          4,
          5,
          5,
          4,
          6,
          4,
          5,
          4,
          4,
          5,
          5,
          5,
          5,
          6,
          5,
          6,
          9,
          6,
          null,
          5,
          5,
          4,
          6,
          4,
          4,
          5,
          4,
          4,
          3,
          9,
          4,
          6,
          4,
          5,
          5,
          8,
          3,
          3,
          2,
          4,
          5,
          6,
          5,
          6,
          9,
          7,
          3,
          4,
          4,
          7,
          6,
          3,
          7,
          7,
          4,
          4,
          5,
          3,
          null,
          4,
          4,
          5,
          5,
          5,
          6,
          5,
          12,
          5,
          5,
          7,
          5,
          5,
          6,
          10,
          5,
          5,
          5,
          8,
          9,
          3,
          4,
          8,
          8,
          7,
          6,
          6,
          6,
          4,
          8,
          7,
          8,
          10,
          4,
          13,
          6,
          9,
          2,
          5,
          5,
          5,
          6,
          6,
          3,
          5,
          7,
          4,
          4,
          4,
          7,
          11,
          6,
          5,
          8,
          2,
          9,
          4,
          9,
          6,
          5,
          9,
          5,
          5,
          4,
          6,
          4,
          10,
          5,
          6,
          9,
          9,
          6,
          6,
          7,
          4,
          3,
          10,
          5,
          7,
          10,
          5,
          5,
          5,
          12,
          4,
          6,
          3,
          5,
          5,
          8,
          4,
          4,
          7,
          7,
          10,
          null,
          4,
          10,
          5,
          5,
          5,
          8,
          4,
          5,
          5,
          11,
          7,
          6,
          5,
          3,
          7,
          5,
          5,
          4,
          5,
          10,
          3,
          6,
          5,
          5,
          4,
          9,
          2,
          4,
          5,
          4,
          7,
          7,
          4,
          8,
          10,
          7,
          6,
          6,
          5,
          13,
          6,
          14,
          13,
          5,
          5,
          4,
          5,
          3,
          7,
          11,
          6,
          4,
          10,
          8,
          4,
          3,
          2,
          4,
          5,
          8,
          6,
          9,
          3,
          9,
          6,
          7,
          3,
          4,
          7,
          8,
          11,
          3,
          5,
          9,
          8,
          6,
          4,
          5,
          5,
          5,
          9,
          3,
          5,
          5,
          7,
          5,
          4,
          9,
          9,
          8,
          7,
          8,
          5,
          11,
          6,
          7,
          3,
          6,
          9,
          6,
          7,
          2,
          5,
          5,
          6,
          4,
          2,
          5,
          6,
          5,
          4,
          6,
          7,
          7,
          4,
          5,
          10,
          null,
          5,
          8,
          4,
          9,
          9,
          5,
          2,
          5,
          6,
          7,
          20,
          6,
          3,
          13,
          5,
          5,
          5,
          6,
          4,
          6,
          6,
          5,
          5,
          7,
          3,
          4,
          3,
          6,
          5,
          4,
          5,
          2,
          5,
          3,
          4,
          4,
          6,
          5,
          4,
          5,
          11,
          4,
          8,
          6,
          6,
          4,
          null,
          5,
          4,
          10,
          5,
          6,
          4,
          6,
          20,
          3,
          6,
          5,
          14,
          6,
          7,
          5,
          2,
          5,
          3,
          18,
          5,
          9,
          7,
          10,
          3,
          4,
          4,
          2,
          7,
          7,
          4,
          3,
          4,
          3,
          8,
          6,
          7,
          4,
          8,
          3,
          6,
          8,
          5,
          6,
          7,
          6,
          10,
          9,
          7,
          7,
          null,
          5,
          3,
          6,
          6,
          4,
          4,
          4,
          8,
          3,
          5,
          3,
          11,
          7,
          8,
          8,
          4,
          3,
          8,
          5,
          6,
          4,
          4,
          7,
          4,
          6,
          5,
          8,
          3,
          4,
          4,
          6,
          5,
          4,
          7,
          7,
          7,
          5,
          4,
          null,
          8,
          6,
          8,
          2,
          5,
          4,
          6,
          6
         ],
         "xaxis": "x2",
         "yaxis": "y2"
        }
       ],
       "layout": {
        "bargap": 0.05,
        "barmode": "relative",
        "font": {
         "color": "rgb(31,33,36)",
         "family": "Arial",
         "size": 18
        },
        "legend": {
         "tracegroupgap": 0
        },
        "margin": {
         "t": 60
        },
        "paper_bgcolor": "rgba(0,0,0,0)",
        "plot_bgcolor": "rgba(0,0,0,0)",
        "template": {
         "data": {
          "bar": [
           {
            "error_x": {
             "color": "#2a3f5f"
            },
            "error_y": {
             "color": "#2a3f5f"
            },
            "marker": {
             "line": {
              "color": "#E5ECF6",
              "width": 0.5
             }
            },
            "type": "bar"
           }
          ],
          "barpolar": [
           {
            "marker": {
             "line": {
              "color": "#E5ECF6",
              "width": 0.5
             }
            },
            "type": "barpolar"
           }
          ],
          "carpet": [
           {
            "aaxis": {
             "endlinecolor": "#2a3f5f",
             "gridcolor": "white",
             "linecolor": "white",
             "minorgridcolor": "white",
             "startlinecolor": "#2a3f5f"
            },
            "baxis": {
             "endlinecolor": "#2a3f5f",
             "gridcolor": "white",
             "linecolor": "white",
             "minorgridcolor": "white",
             "startlinecolor": "#2a3f5f"
            },
            "type": "carpet"
           }
          ],
          "choropleth": [
           {
            "colorbar": {
             "outlinewidth": 0,
             "ticks": ""
            },
            "type": "choropleth"
           }
          ],
          "contour": [
           {
            "colorbar": {
             "outlinewidth": 0,
             "ticks": ""
            },
            "colorscale": [
             [
              0,
              "#0d0887"
             ],
             [
              0.1111111111111111,
              "#46039f"
             ],
             [
              0.2222222222222222,
              "#7201a8"
             ],
             [
              0.3333333333333333,
              "#9c179e"
             ],
             [
              0.4444444444444444,
              "#bd3786"
             ],
             [
              0.5555555555555556,
              "#d8576b"
             ],
             [
              0.6666666666666666,
              "#ed7953"
             ],
             [
              0.7777777777777778,
              "#fb9f3a"
             ],
             [
              0.8888888888888888,
              "#fdca26"
             ],
             [
              1,
              "#f0f921"
             ]
            ],
            "type": "contour"
           }
          ],
          "contourcarpet": [
           {
            "colorbar": {
             "outlinewidth": 0,
             "ticks": ""
            },
            "type": "contourcarpet"
           }
          ],
          "heatmap": [
           {
            "colorbar": {
             "outlinewidth": 0,
             "ticks": ""
            },
            "colorscale": [
             [
              0,
              "#0d0887"
             ],
             [
              0.1111111111111111,
              "#46039f"
             ],
             [
              0.2222222222222222,
              "#7201a8"
             ],
             [
              0.3333333333333333,
              "#9c179e"
             ],
             [
              0.4444444444444444,
              "#bd3786"
             ],
             [
              0.5555555555555556,
              "#d8576b"
             ],
             [
              0.6666666666666666,
              "#ed7953"
             ],
             [
              0.7777777777777778,
              "#fb9f3a"
             ],
             [
              0.8888888888888888,
              "#fdca26"
             ],
             [
              1,
              "#f0f921"
             ]
            ],
            "type": "heatmap"
           }
          ],
          "heatmapgl": [
           {
            "colorbar": {
             "outlinewidth": 0,
             "ticks": ""
            },
            "colorscale": [
             [
              0,
              "#0d0887"
             ],
             [
              0.1111111111111111,
              "#46039f"
             ],
             [
              0.2222222222222222,
              "#7201a8"
             ],
             [
              0.3333333333333333,
              "#9c179e"
             ],
             [
              0.4444444444444444,
              "#bd3786"
             ],
             [
              0.5555555555555556,
              "#d8576b"
             ],
             [
              0.6666666666666666,
              "#ed7953"
             ],
             [
              0.7777777777777778,
              "#fb9f3a"
             ],
             [
              0.8888888888888888,
              "#fdca26"
             ],
             [
              1,
              "#f0f921"
             ]
            ],
            "type": "heatmapgl"
           }
          ],
          "histogram": [
           {
            "marker": {
             "colorbar": {
              "outlinewidth": 0,
              "ticks": ""
             }
            },
            "type": "histogram"
           }
          ],
          "histogram2d": [
           {
            "colorbar": {
             "outlinewidth": 0,
             "ticks": ""
            },
            "colorscale": [
             [
              0,
              "#0d0887"
             ],
             [
              0.1111111111111111,
              "#46039f"
             ],
             [
              0.2222222222222222,
              "#7201a8"
             ],
             [
              0.3333333333333333,
              "#9c179e"
             ],
             [
              0.4444444444444444,
              "#bd3786"
             ],
             [
              0.5555555555555556,
              "#d8576b"
             ],
             [
              0.6666666666666666,
              "#ed7953"
             ],
             [
              0.7777777777777778,
              "#fb9f3a"
             ],
             [
              0.8888888888888888,
              "#fdca26"
             ],
             [
              1,
              "#f0f921"
             ]
            ],
            "type": "histogram2d"
           }
          ],
          "histogram2dcontour": [
           {
            "colorbar": {
             "outlinewidth": 0,
             "ticks": ""
            },
            "colorscale": [
             [
              0,
              "#0d0887"
             ],
             [
              0.1111111111111111,
              "#46039f"
             ],
             [
              0.2222222222222222,
              "#7201a8"
             ],
             [
              0.3333333333333333,
              "#9c179e"
             ],
             [
              0.4444444444444444,
              "#bd3786"
             ],
             [
              0.5555555555555556,
              "#d8576b"
             ],
             [
              0.6666666666666666,
              "#ed7953"
             ],
             [
              0.7777777777777778,
              "#fb9f3a"
             ],
             [
              0.8888888888888888,
              "#fdca26"
             ],
             [
              1,
              "#f0f921"
             ]
            ],
            "type": "histogram2dcontour"
           }
          ],
          "mesh3d": [
           {
            "colorbar": {
             "outlinewidth": 0,
             "ticks": ""
            },
            "type": "mesh3d"
           }
          ],
          "parcoords": [
           {
            "line": {
             "colorbar": {
              "outlinewidth": 0,
              "ticks": ""
             }
            },
            "type": "parcoords"
           }
          ],
          "pie": [
           {
            "automargin": true,
            "type": "pie"
           }
          ],
          "scatter": [
           {
            "marker": {
             "colorbar": {
              "outlinewidth": 0,
              "ticks": ""
             }
            },
            "type": "scatter"
           }
          ],
          "scatter3d": [
           {
            "line": {
             "colorbar": {
              "outlinewidth": 0,
              "ticks": ""
             }
            },
            "marker": {
             "colorbar": {
              "outlinewidth": 0,
              "ticks": ""
             }
            },
            "type": "scatter3d"
           }
          ],
          "scattercarpet": [
           {
            "marker": {
             "colorbar": {
              "outlinewidth": 0,
              "ticks": ""
             }
            },
            "type": "scattercarpet"
           }
          ],
          "scattergeo": [
           {
            "marker": {
             "colorbar": {
              "outlinewidth": 0,
              "ticks": ""
             }
            },
            "type": "scattergeo"
           }
          ],
          "scattergl": [
           {
            "marker": {
             "colorbar": {
              "outlinewidth": 0,
              "ticks": ""
             }
            },
            "type": "scattergl"
           }
          ],
          "scattermapbox": [
           {
            "marker": {
             "colorbar": {
              "outlinewidth": 0,
              "ticks": ""
             }
            },
            "type": "scattermapbox"
           }
          ],
          "scatterpolar": [
           {
            "marker": {
             "colorbar": {
              "outlinewidth": 0,
              "ticks": ""
             }
            },
            "type": "scatterpolar"
           }
          ],
          "scatterpolargl": [
           {
            "marker": {
             "colorbar": {
              "outlinewidth": 0,
              "ticks": ""
             }
            },
            "type": "scatterpolargl"
           }
          ],
          "scatterternary": [
           {
            "marker": {
             "colorbar": {
              "outlinewidth": 0,
              "ticks": ""
             }
            },
            "type": "scatterternary"
           }
          ],
          "surface": [
           {
            "colorbar": {
             "outlinewidth": 0,
             "ticks": ""
            },
            "colorscale": [
             [
              0,
              "#0d0887"
             ],
             [
              0.1111111111111111,
              "#46039f"
             ],
             [
              0.2222222222222222,
              "#7201a8"
             ],
             [
              0.3333333333333333,
              "#9c179e"
             ],
             [
              0.4444444444444444,
              "#bd3786"
             ],
             [
              0.5555555555555556,
              "#d8576b"
             ],
             [
              0.6666666666666666,
              "#ed7953"
             ],
             [
              0.7777777777777778,
              "#fb9f3a"
             ],
             [
              0.8888888888888888,
              "#fdca26"
             ],
             [
              1,
              "#f0f921"
             ]
            ],
            "type": "surface"
           }
          ],
          "table": [
           {
            "cells": {
             "fill": {
              "color": "#EBF0F8"
             },
             "line": {
              "color": "white"
             }
            },
            "header": {
             "fill": {
              "color": "#C8D4E3"
             },
             "line": {
              "color": "white"
             }
            },
            "type": "table"
           }
          ]
         },
         "layout": {
          "annotationdefaults": {
           "arrowcolor": "#2a3f5f",
           "arrowhead": 0,
           "arrowwidth": 1
          },
          "coloraxis": {
           "colorbar": {
            "outlinewidth": 0,
            "ticks": ""
           }
          },
          "colorscale": {
           "diverging": [
            [
             0,
             "#8e0152"
            ],
            [
             0.1,
             "#c51b7d"
            ],
            [
             0.2,
             "#de77ae"
            ],
            [
             0.3,
             "#f1b6da"
            ],
            [
             0.4,
             "#fde0ef"
            ],
            [
             0.5,
             "#f7f7f7"
            ],
            [
             0.6,
             "#e6f5d0"
            ],
            [
             0.7,
             "#b8e186"
            ],
            [
             0.8,
             "#7fbc41"
            ],
            [
             0.9,
             "#4d9221"
            ],
            [
             1,
             "#276419"
            ]
           ],
           "sequential": [
            [
             0,
             "#0d0887"
            ],
            [
             0.1111111111111111,
             "#46039f"
            ],
            [
             0.2222222222222222,
             "#7201a8"
            ],
            [
             0.3333333333333333,
             "#9c179e"
            ],
            [
             0.4444444444444444,
             "#bd3786"
            ],
            [
             0.5555555555555556,
             "#d8576b"
            ],
            [
             0.6666666666666666,
             "#ed7953"
            ],
            [
             0.7777777777777778,
             "#fb9f3a"
            ],
            [
             0.8888888888888888,
             "#fdca26"
            ],
            [
             1,
             "#f0f921"
            ]
           ],
           "sequentialminus": [
            [
             0,
             "#0d0887"
            ],
            [
             0.1111111111111111,
             "#46039f"
            ],
            [
             0.2222222222222222,
             "#7201a8"
            ],
            [
             0.3333333333333333,
             "#9c179e"
            ],
            [
             0.4444444444444444,
             "#bd3786"
            ],
            [
             0.5555555555555556,
             "#d8576b"
            ],
            [
             0.6666666666666666,
             "#ed7953"
            ],
            [
             0.7777777777777778,
             "#fb9f3a"
            ],
            [
             0.8888888888888888,
             "#fdca26"
            ],
            [
             1,
             "#f0f921"
            ]
           ]
          },
          "colorway": [
           "#636efa",
           "#EF553B",
           "#00cc96",
           "#ab63fa",
           "#FFA15A",
           "#19d3f3",
           "#FF6692",
           "#B6E880",
           "#FF97FF",
           "#FECB52"
          ],
          "font": {
           "color": "#2a3f5f"
          },
          "geo": {
           "bgcolor": "white",
           "lakecolor": "white",
           "landcolor": "#E5ECF6",
           "showlakes": true,
           "showland": true,
           "subunitcolor": "white"
          },
          "hoverlabel": {
           "align": "left"
          },
          "hovermode": "closest",
          "mapbox": {
           "style": "light"
          },
          "paper_bgcolor": "white",
          "plot_bgcolor": "#E5ECF6",
          "polar": {
           "angularaxis": {
            "gridcolor": "white",
            "linecolor": "white",
            "ticks": ""
           },
           "bgcolor": "#E5ECF6",
           "radialaxis": {
            "gridcolor": "white",
            "linecolor": "white",
            "ticks": ""
           }
          },
          "scene": {
           "xaxis": {
            "backgroundcolor": "#E5ECF6",
            "gridcolor": "white",
            "gridwidth": 2,
            "linecolor": "white",
            "showbackground": true,
            "ticks": "",
            "zerolinecolor": "white"
           },
           "yaxis": {
            "backgroundcolor": "#E5ECF6",
            "gridcolor": "white",
            "gridwidth": 2,
            "linecolor": "white",
            "showbackground": true,
            "ticks": "",
            "zerolinecolor": "white"
           },
           "zaxis": {
            "backgroundcolor": "#E5ECF6",
            "gridcolor": "white",
            "gridwidth": 2,
            "linecolor": "white",
            "showbackground": true,
            "ticks": "",
            "zerolinecolor": "white"
           }
          },
          "shapedefaults": {
           "line": {
            "color": "#2a3f5f"
           }
          },
          "ternary": {
           "aaxis": {
            "gridcolor": "white",
            "linecolor": "white",
            "ticks": ""
           },
           "baxis": {
            "gridcolor": "white",
            "linecolor": "white",
            "ticks": ""
           },
           "bgcolor": "#E5ECF6",
           "caxis": {
            "gridcolor": "white",
            "linecolor": "white",
            "ticks": ""
           }
          },
          "title": {
           "x": 0.05
          },
          "xaxis": {
           "automargin": true,
           "gridcolor": "white",
           "linecolor": "white",
           "ticks": "",
           "title": {
            "standoff": 15
           },
           "zerolinecolor": "white",
           "zerolinewidth": 2
          },
          "yaxis": {
           "automargin": true,
           "gridcolor": "white",
           "linecolor": "white",
           "ticks": "",
           "title": {
            "standoff": 15
           },
           "zerolinecolor": "white",
           "zerolinewidth": 2
          }
         }
        },
        "title": {
         "text": "Most Liked Step Count",
         "yanchor": "top"
        },
        "xaxis": {
         "anchor": "y",
         "domain": [
          0,
          1
         ],
         "title": {
          "text": "Steps Required"
         }
        },
        "xaxis2": {
         "anchor": "y2",
         "domain": [
          0,
          1
         ],
         "matches": "x",
         "showgrid": true,
         "showticklabels": false
        },
        "yaxis": {
         "anchor": "x",
         "domain": [
          0,
          0.8316
         ],
         "title": {
          "text": "User Likes"
         }
        },
        "yaxis2": {
         "anchor": "x2",
         "domain": [
          0.8416,
          1
         ],
         "matches": "y2",
         "showgrid": false,
         "showline": false,
         "showticklabels": false,
         "ticks": ""
        }
       }
      },
      "text/html": [
       "<div>                            <div id=\"5f5b646c-f6f4-467d-b449-a7e6433195e0\" class=\"plotly-graph-div\" style=\"height:525px; width:100%;\"></div>            <script type=\"text/javascript\">                require([\"plotly\"], function(Plotly) {                    window.PLOTLYENV=window.PLOTLYENV || {};                                    if (document.getElementById(\"5f5b646c-f6f4-467d-b449-a7e6433195e0\")) {                    Plotly.newPlot(                        \"5f5b646c-f6f4-467d-b449-a7e6433195e0\",                        [{\"alignmentgroup\": \"True\", \"bingroup\": \"x\", \"histfunc\": \"sum\", \"hovertemplate\": \"total_steps=%{x}<br>sum of user_likes=%{y}<extra></extra>\", \"legendgroup\": \"\", \"marker\": {\"color\": \"rgb(237, 169, 21)\"}, \"name\": \"\", \"offsetgroup\": \"\", \"orientation\": \"v\", \"showlegend\": false, \"type\": \"histogram\", \"x\": [8.0, 9.0, 6.0, 6.0, 6.0, 5.0, 4.0, 4.0, 3.0, 5.0, 3.0, 4.0, 7.0, 2.0, 9.0, 5.0, 5.0, 9.0, 9.0, 3.0, 6.0, 5.0, 6.0, 3.0, 5.0, 7.0, 7.0, 7.0, 4.0, 5.0, 3.0, 6.0, 6.0, 5.0, 5.0, 9.0, 4.0, 10.0, 9.0, 3.0, 4.0, 6.0, 6.0, 8.0, 4.0, 5.0, 6.0, null, 3.0, 4.0, 5.0, 3.0, 5.0, 3.0, 4.0, 3.0, 6.0, 5.0, 6.0, 5.0, 5.0, 8.0, 4.0, 8.0, 3.0, 9.0, 6.0, 7.0, 9.0, 7.0, 6.0, 5.0, 8.0, 6.0, 2.0, 5.0, 6.0, 4.0, 4.0, 6.0, 5.0, 11.0, 5.0, 10.0, 4.0, 12.0, 4.0, 5.0, 4.0, 13.0, 6.0, 2.0, 4.0, 6.0, 7.0, 3.0, 4.0, 5.0, 4.0, 3.0, 4.0, 6.0, 5.0, 3.0, 2.0, 2.0, 8.0, 5.0, 5.0, 6.0, 4.0, 3.0, 5.0, 4.0, 3.0, 2.0, 4.0, 7.0, 7.0, 12.0, 4.0, 8.0, 4.0, 3.0, 6.0, 5.0, 2.0, 8.0, 6.0, 3.0, 8.0, 2.0, 6.0, 9.0, 4.0, 3.0, 2.0, 4.0, 4.0, 5.0, 4.0, 4.0, 4.0, 5.0, 7.0, 3.0, 5.0, 3.0, 5.0, 5.0, 7.0, 4.0, 4.0, 4.0, 5.0, 5.0, 4.0, 5.0, 4.0, 3.0, 3.0, 3.0, 4.0, 6.0, 3.0, 6.0, 5.0, 4.0, 7.0, 4.0, 4.0, 3.0, 4.0, 4.0, 6.0, 2.0, 3.0, 3.0, 3.0, 4.0, 4.0, 4.0, 4.0, 4.0, 4.0, 3.0, 4.0, 4.0, 4.0, 4.0, 5.0, 5.0, 4.0, 6.0, 4.0, 5.0, 4.0, 4.0, 5.0, 5.0, 5.0, 5.0, 6.0, 5.0, 6.0, 9.0, 6.0, null, 5.0, 5.0, 4.0, 6.0, 4.0, 4.0, 5.0, 4.0, 4.0, 3.0, 9.0, 4.0, 6.0, 4.0, 5.0, 5.0, 8.0, 3.0, 3.0, 2.0, 4.0, 5.0, 6.0, 5.0, 6.0, 9.0, 7.0, 3.0, 4.0, 4.0, 7.0, 6.0, 3.0, 7.0, 7.0, 4.0, 4.0, 5.0, 3.0, null, 4.0, 4.0, 5.0, 5.0, 5.0, 6.0, 5.0, 12.0, 5.0, 5.0, 7.0, 5.0, 5.0, 6.0, 10.0, 5.0, 5.0, 5.0, 8.0, 9.0, 3.0, 4.0, 8.0, 8.0, 7.0, 6.0, 6.0, 6.0, 4.0, 8.0, 7.0, 8.0, 10.0, 4.0, 13.0, 6.0, 9.0, 2.0, 5.0, 5.0, 5.0, 6.0, 6.0, 3.0, 5.0, 7.0, 4.0, 4.0, 4.0, 7.0, 11.0, 6.0, 5.0, 8.0, 2.0, 9.0, 4.0, 9.0, 6.0, 5.0, 9.0, 5.0, 5.0, 4.0, 6.0, 4.0, 10.0, 5.0, 6.0, 9.0, 9.0, 6.0, 6.0, 7.0, 4.0, 3.0, 10.0, 5.0, 7.0, 10.0, 5.0, 5.0, 5.0, 12.0, 4.0, 6.0, 3.0, 5.0, 5.0, 8.0, 4.0, 4.0, 7.0, 7.0, 10.0, null, 4.0, 10.0, 5.0, 5.0, 5.0, 8.0, 4.0, 5.0, 5.0, 11.0, 7.0, 6.0, 5.0, 3.0, 7.0, 5.0, 5.0, 4.0, 5.0, 10.0, 3.0, 6.0, 5.0, 5.0, 4.0, 9.0, 2.0, 4.0, 5.0, 4.0, 7.0, 7.0, 4.0, 8.0, 10.0, 7.0, 6.0, 6.0, 5.0, 13.0, 6.0, 14.0, 13.0, 5.0, 5.0, 4.0, 5.0, 3.0, 7.0, 11.0, 6.0, 4.0, 10.0, 8.0, 4.0, 3.0, 2.0, 4.0, 5.0, 8.0, 6.0, 9.0, 3.0, 9.0, 6.0, 7.0, 3.0, 4.0, 7.0, 8.0, 11.0, 3.0, 5.0, 9.0, 8.0, 6.0, 4.0, 5.0, 5.0, 5.0, 9.0, 3.0, 5.0, 5.0, 7.0, 5.0, 4.0, 9.0, 9.0, 8.0, 7.0, 8.0, 5.0, 11.0, 6.0, 7.0, 3.0, 6.0, 9.0, 6.0, 7.0, 2.0, 5.0, 5.0, 6.0, 4.0, 2.0, 5.0, 6.0, 5.0, 4.0, 6.0, 7.0, 7.0, 4.0, 5.0, 10.0, null, 5.0, 8.0, 4.0, 9.0, 9.0, 5.0, 2.0, 5.0, 6.0, 7.0, 20.0, 6.0, 3.0, 13.0, 5.0, 5.0, 5.0, 6.0, 4.0, 6.0, 6.0, 5.0, 5.0, 7.0, 3.0, 4.0, 3.0, 6.0, 5.0, 4.0, 5.0, 2.0, 5.0, 3.0, 4.0, 4.0, 6.0, 5.0, 4.0, 5.0, 11.0, 4.0, 8.0, 6.0, 6.0, 4.0, null, 5.0, 4.0, 10.0, 5.0, 6.0, 4.0, 6.0, 20.0, 3.0, 6.0, 5.0, 14.0, 6.0, 7.0, 5.0, 2.0, 5.0, 3.0, 18.0, 5.0, 9.0, 7.0, 10.0, 3.0, 4.0, 4.0, 2.0, 7.0, 7.0, 4.0, 3.0, 4.0, 3.0, 8.0, 6.0, 7.0, 4.0, 8.0, 3.0, 6.0, 8.0, 5.0, 6.0, 7.0, 6.0, 10.0, 9.0, 7.0, 7.0, null, 5.0, 3.0, 6.0, 6.0, 4.0, 4.0, 4.0, 8.0, 3.0, 5.0, 3.0, 11.0, 7.0, 8.0, 8.0, 4.0, 3.0, 8.0, 5.0, 6.0, 4.0, 4.0, 7.0, 4.0, 6.0, 5.0, 8.0, 3.0, 4.0, 4.0, 6.0, 5.0, 4.0, 7.0, 7.0, 7.0, 5.0, 4.0, null, 8.0, 6.0, 8.0, 2.0, 5.0, 4.0, 6.0, 6.0], \"xaxis\": \"x\", \"y\": [75, 229, 16, 32, 53, 19, 11, 1410, 1589, 3210, 5531, 11202, 46628, 590, 32, 8, 43, 7, 21, 21, 12, 12, 10, 42, 207, 26, 29, 30, 90, 22, 37, 12, 76, 28, 44, 24, 13, 8, 17, 11, 3, 15, 4, 3, 37, 4, 48, 71, 12, 87, 17, 9, 28, 14, 35, 42, 8, 5, 10, 8, 37, 4, 37, 59, 46, 14, 10, 10, 21, 18, 48, 4, 32, 13, 7, 6, 26, 5, 19, 63, 25, 4, 64, 19, 10, 3, 2245, 1138, 18, 9, 16, 23083, 23317, 47731, 52928, 13510, 9381, 47621, 41860, 2210, 21103, 65854, 15178, 10892, 34425, 28461, 85926, 2318, 60911, 99371, 139881, 2423, 4966, 16334, 5600, 3155, 15379, 9492, 3147, 31745, 15000, 30544, 14312, 5271, 4998, 5752, 9523, 34657, 31831, 7680, 21355, 18952, 5060, 39737, 5280, 37064, 17306, 9739, 1472, 3652, 7042, 20478, 2475, 14223, 21991, 5000, 4915, 11542, 6280, 19386, 6705, 11349, 7964, 19217, 7630, 10948, 13286, 25040, 12622, 13046, 2644, 4366, 3016, 14897, 5216, 16568, 5549, 7180, 15608, 9719, 4910, 8142, 3320, 4969, 5824, 5880, 17848, 4508, 3476, 4652, 6086, 3628, 11950, 1928, 2189, 1150, 1459, 2884, 1962, 6286, 4364, 3533, 4883, 5651, 8003, 2838, 2217, 2678, 4354, 3793, 3348, 1440, 3417, 2784, 2475, 8604, 2166, 3696, 2151, 1390, 5000, 2361, 2731, 2878, 1878, 3919, 3108, 5712, 6759, 2470, 3906, 1601, 3101, 1998, 6635, 3142, 1378, 3412, 1800, 8, 14, 35, 29, 8, 12, 925, 1274, 1127, 2030, 1763, 1075, 1689, 2678, 2424, 1276, 1974, 1972, 2979, 2223, 3669, 2781, 3088, 23, 36, 46, 32, 11, 10, 9, 43, 18, 34, 17, 13, 95, 4, 6, 69, 15, 25, 126, 27, 56, 35, 132, 117, 57, 45, 16, 17, 52, 616, 30, 30, 65, 48, 40, 68, 13, 64, 26, 74, 252, 86, 133, 77, 70, 108, 42, 48, 34, 126, 122, 79, 261, 89, 236, 34, 60, 31, 19, 56, 39, 222, 52, 31, 9, 20, 10, 31, 80, 41, 180, 288, 89, 36, 14, 41, 39, 200, 15, 89, 29, 53, 61, 61, 15, 23, 15, 18, 47, 20, 91, 30, 119, 36, 50, 14, 47, 27, 81, 773, 793, 506, 435, 44, 1245, 189, 129, 151, 84, 610, 14, 90, 248, 41, 17, 218, 845, 84, 98, 106, 349, 269, 226, 111, 153, 238, 107, 123, 207, 477, 150, 85, 51, 191, 251, 207, 105, 248, 61, 50, 12, 16, 39, 12, 12, 7, 7, 5, 32, 7, 0, 890, 939, 126, 44, 47, 32, 154, 71, 261, 48, 72, 348, 48, 762, 53, 48, 32, 369, 176, 42, 25, 213, 169, 36, 166, 141, 42, 92, 96, 121, 164, 134, 200, 146, 81, 161, 113, 175, 92, 129, 97, 48, 476, 455, 31, 39, 65, 127, 47, 1544, 2613, 1729, 211, 96, 1277, 46, 40, 254, 116, 83, 122, 137, 379, 90, 778, 425, 119, 122, 342, 43, 64, 101, 0, 0, 1, 2671, 2059, 1502, 1384, 770, 3813, 3816, 2484, 4109, 3447, 6051, 3851, 1031, 410, 592, 496, 421, 976, 2294, 7890, 230, 220, 12, 36, 22, 8, 7, 23, 2, 9, 22, 4, 7, 5, 31, 8, 2, 3, 5, 6, 1, 1, 3, 16, 6, 13, 4, 2, 5, 15, 35, 68, 16, 6, 6, 18, 1, 19, 6, 1, 10, 6, 9, 13, 5, 6, 6, 4, 5, 6, 3, 5, 24, 8, 5, 16, 6, 26, 11, 1, 13, 1, 8, 13, 29, 3, 14, 13, 8, 30, 17, 32, 12, 5, 4, 11, 30, 56, 11, 9, 16, 20, 26, 17, 74, 39, 25, 18, 5, 6, 8, 9, 50, 25, 5, 16, 22, 124, 63, 52, 5, 11, 10, 7, 9, 45, 14, 48], \"yaxis\": \"y\"}, {\"alignmentgroup\": \"True\", \"hovertemplate\": \"total_steps=%{x}<extra></extra>\", \"legendgroup\": \"\", \"marker\": {\"color\": \"rgb(237, 169, 21)\"}, \"name\": \"\", \"offsetgroup\": \"\", \"scalegroup\": \"x\", \"showlegend\": false, \"type\": \"violin\", \"x\": [8.0, 9.0, 6.0, 6.0, 6.0, 5.0, 4.0, 4.0, 3.0, 5.0, 3.0, 4.0, 7.0, 2.0, 9.0, 5.0, 5.0, 9.0, 9.0, 3.0, 6.0, 5.0, 6.0, 3.0, 5.0, 7.0, 7.0, 7.0, 4.0, 5.0, 3.0, 6.0, 6.0, 5.0, 5.0, 9.0, 4.0, 10.0, 9.0, 3.0, 4.0, 6.0, 6.0, 8.0, 4.0, 5.0, 6.0, null, 3.0, 4.0, 5.0, 3.0, 5.0, 3.0, 4.0, 3.0, 6.0, 5.0, 6.0, 5.0, 5.0, 8.0, 4.0, 8.0, 3.0, 9.0, 6.0, 7.0, 9.0, 7.0, 6.0, 5.0, 8.0, 6.0, 2.0, 5.0, 6.0, 4.0, 4.0, 6.0, 5.0, 11.0, 5.0, 10.0, 4.0, 12.0, 4.0, 5.0, 4.0, 13.0, 6.0, 2.0, 4.0, 6.0, 7.0, 3.0, 4.0, 5.0, 4.0, 3.0, 4.0, 6.0, 5.0, 3.0, 2.0, 2.0, 8.0, 5.0, 5.0, 6.0, 4.0, 3.0, 5.0, 4.0, 3.0, 2.0, 4.0, 7.0, 7.0, 12.0, 4.0, 8.0, 4.0, 3.0, 6.0, 5.0, 2.0, 8.0, 6.0, 3.0, 8.0, 2.0, 6.0, 9.0, 4.0, 3.0, 2.0, 4.0, 4.0, 5.0, 4.0, 4.0, 4.0, 5.0, 7.0, 3.0, 5.0, 3.0, 5.0, 5.0, 7.0, 4.0, 4.0, 4.0, 5.0, 5.0, 4.0, 5.0, 4.0, 3.0, 3.0, 3.0, 4.0, 6.0, 3.0, 6.0, 5.0, 4.0, 7.0, 4.0, 4.0, 3.0, 4.0, 4.0, 6.0, 2.0, 3.0, 3.0, 3.0, 4.0, 4.0, 4.0, 4.0, 4.0, 4.0, 3.0, 4.0, 4.0, 4.0, 4.0, 5.0, 5.0, 4.0, 6.0, 4.0, 5.0, 4.0, 4.0, 5.0, 5.0, 5.0, 5.0, 6.0, 5.0, 6.0, 9.0, 6.0, null, 5.0, 5.0, 4.0, 6.0, 4.0, 4.0, 5.0, 4.0, 4.0, 3.0, 9.0, 4.0, 6.0, 4.0, 5.0, 5.0, 8.0, 3.0, 3.0, 2.0, 4.0, 5.0, 6.0, 5.0, 6.0, 9.0, 7.0, 3.0, 4.0, 4.0, 7.0, 6.0, 3.0, 7.0, 7.0, 4.0, 4.0, 5.0, 3.0, null, 4.0, 4.0, 5.0, 5.0, 5.0, 6.0, 5.0, 12.0, 5.0, 5.0, 7.0, 5.0, 5.0, 6.0, 10.0, 5.0, 5.0, 5.0, 8.0, 9.0, 3.0, 4.0, 8.0, 8.0, 7.0, 6.0, 6.0, 6.0, 4.0, 8.0, 7.0, 8.0, 10.0, 4.0, 13.0, 6.0, 9.0, 2.0, 5.0, 5.0, 5.0, 6.0, 6.0, 3.0, 5.0, 7.0, 4.0, 4.0, 4.0, 7.0, 11.0, 6.0, 5.0, 8.0, 2.0, 9.0, 4.0, 9.0, 6.0, 5.0, 9.0, 5.0, 5.0, 4.0, 6.0, 4.0, 10.0, 5.0, 6.0, 9.0, 9.0, 6.0, 6.0, 7.0, 4.0, 3.0, 10.0, 5.0, 7.0, 10.0, 5.0, 5.0, 5.0, 12.0, 4.0, 6.0, 3.0, 5.0, 5.0, 8.0, 4.0, 4.0, 7.0, 7.0, 10.0, null, 4.0, 10.0, 5.0, 5.0, 5.0, 8.0, 4.0, 5.0, 5.0, 11.0, 7.0, 6.0, 5.0, 3.0, 7.0, 5.0, 5.0, 4.0, 5.0, 10.0, 3.0, 6.0, 5.0, 5.0, 4.0, 9.0, 2.0, 4.0, 5.0, 4.0, 7.0, 7.0, 4.0, 8.0, 10.0, 7.0, 6.0, 6.0, 5.0, 13.0, 6.0, 14.0, 13.0, 5.0, 5.0, 4.0, 5.0, 3.0, 7.0, 11.0, 6.0, 4.0, 10.0, 8.0, 4.0, 3.0, 2.0, 4.0, 5.0, 8.0, 6.0, 9.0, 3.0, 9.0, 6.0, 7.0, 3.0, 4.0, 7.0, 8.0, 11.0, 3.0, 5.0, 9.0, 8.0, 6.0, 4.0, 5.0, 5.0, 5.0, 9.0, 3.0, 5.0, 5.0, 7.0, 5.0, 4.0, 9.0, 9.0, 8.0, 7.0, 8.0, 5.0, 11.0, 6.0, 7.0, 3.0, 6.0, 9.0, 6.0, 7.0, 2.0, 5.0, 5.0, 6.0, 4.0, 2.0, 5.0, 6.0, 5.0, 4.0, 6.0, 7.0, 7.0, 4.0, 5.0, 10.0, null, 5.0, 8.0, 4.0, 9.0, 9.0, 5.0, 2.0, 5.0, 6.0, 7.0, 20.0, 6.0, 3.0, 13.0, 5.0, 5.0, 5.0, 6.0, 4.0, 6.0, 6.0, 5.0, 5.0, 7.0, 3.0, 4.0, 3.0, 6.0, 5.0, 4.0, 5.0, 2.0, 5.0, 3.0, 4.0, 4.0, 6.0, 5.0, 4.0, 5.0, 11.0, 4.0, 8.0, 6.0, 6.0, 4.0, null, 5.0, 4.0, 10.0, 5.0, 6.0, 4.0, 6.0, 20.0, 3.0, 6.0, 5.0, 14.0, 6.0, 7.0, 5.0, 2.0, 5.0, 3.0, 18.0, 5.0, 9.0, 7.0, 10.0, 3.0, 4.0, 4.0, 2.0, 7.0, 7.0, 4.0, 3.0, 4.0, 3.0, 8.0, 6.0, 7.0, 4.0, 8.0, 3.0, 6.0, 8.0, 5.0, 6.0, 7.0, 6.0, 10.0, 9.0, 7.0, 7.0, null, 5.0, 3.0, 6.0, 6.0, 4.0, 4.0, 4.0, 8.0, 3.0, 5.0, 3.0, 11.0, 7.0, 8.0, 8.0, 4.0, 3.0, 8.0, 5.0, 6.0, 4.0, 4.0, 7.0, 4.0, 6.0, 5.0, 8.0, 3.0, 4.0, 4.0, 6.0, 5.0, 4.0, 7.0, 7.0, 7.0, 5.0, 4.0, null, 8.0, 6.0, 8.0, 2.0, 5.0, 4.0, 6.0, 6.0], \"xaxis\": \"x2\", \"yaxis\": \"y2\"}],                        {\"bargap\": 0.05, \"barmode\": \"relative\", \"font\": {\"color\": \"rgb(31,33,36)\", \"family\": \"Arial\", \"size\": 18}, \"legend\": {\"tracegroupgap\": 0}, \"margin\": {\"t\": 60}, \"paper_bgcolor\": \"rgba(0,0,0,0)\", \"plot_bgcolor\": \"rgba(0,0,0,0)\", \"template\": {\"data\": {\"bar\": [{\"error_x\": {\"color\": \"#2a3f5f\"}, \"error_y\": {\"color\": \"#2a3f5f\"}, \"marker\": {\"line\": {\"color\": \"#E5ECF6\", \"width\": 0.5}}, \"type\": \"bar\"}], \"barpolar\": [{\"marker\": {\"line\": {\"color\": \"#E5ECF6\", \"width\": 0.5}}, \"type\": \"barpolar\"}], \"carpet\": [{\"aaxis\": {\"endlinecolor\": \"#2a3f5f\", \"gridcolor\": \"white\", \"linecolor\": \"white\", \"minorgridcolor\": \"white\", \"startlinecolor\": \"#2a3f5f\"}, \"baxis\": {\"endlinecolor\": \"#2a3f5f\", \"gridcolor\": \"white\", \"linecolor\": \"white\", \"minorgridcolor\": \"white\", \"startlinecolor\": \"#2a3f5f\"}, \"type\": \"carpet\"}], \"choropleth\": [{\"colorbar\": {\"outlinewidth\": 0, \"ticks\": \"\"}, \"type\": \"choropleth\"}], \"contour\": [{\"colorbar\": {\"outlinewidth\": 0, \"ticks\": \"\"}, \"colorscale\": [[0.0, \"#0d0887\"], [0.1111111111111111, \"#46039f\"], [0.2222222222222222, \"#7201a8\"], [0.3333333333333333, \"#9c179e\"], [0.4444444444444444, \"#bd3786\"], [0.5555555555555556, \"#d8576b\"], [0.6666666666666666, \"#ed7953\"], [0.7777777777777778, \"#fb9f3a\"], [0.8888888888888888, \"#fdca26\"], [1.0, \"#f0f921\"]], \"type\": \"contour\"}], \"contourcarpet\": [{\"colorbar\": {\"outlinewidth\": 0, \"ticks\": \"\"}, \"type\": \"contourcarpet\"}], \"heatmap\": [{\"colorbar\": {\"outlinewidth\": 0, \"ticks\": \"\"}, \"colorscale\": [[0.0, \"#0d0887\"], [0.1111111111111111, \"#46039f\"], [0.2222222222222222, \"#7201a8\"], [0.3333333333333333, \"#9c179e\"], [0.4444444444444444, \"#bd3786\"], [0.5555555555555556, \"#d8576b\"], [0.6666666666666666, \"#ed7953\"], [0.7777777777777778, \"#fb9f3a\"], [0.8888888888888888, \"#fdca26\"], [1.0, \"#f0f921\"]], \"type\": \"heatmap\"}], \"heatmapgl\": [{\"colorbar\": {\"outlinewidth\": 0, \"ticks\": \"\"}, \"colorscale\": [[0.0, \"#0d0887\"], [0.1111111111111111, \"#46039f\"], [0.2222222222222222, \"#7201a8\"], [0.3333333333333333, \"#9c179e\"], [0.4444444444444444, \"#bd3786\"], [0.5555555555555556, \"#d8576b\"], [0.6666666666666666, \"#ed7953\"], [0.7777777777777778, \"#fb9f3a\"], [0.8888888888888888, \"#fdca26\"], [1.0, \"#f0f921\"]], \"type\": \"heatmapgl\"}], \"histogram\": [{\"marker\": {\"colorbar\": {\"outlinewidth\": 0, \"ticks\": \"\"}}, \"type\": \"histogram\"}], \"histogram2d\": [{\"colorbar\": {\"outlinewidth\": 0, \"ticks\": \"\"}, \"colorscale\": [[0.0, \"#0d0887\"], [0.1111111111111111, \"#46039f\"], [0.2222222222222222, \"#7201a8\"], [0.3333333333333333, \"#9c179e\"], [0.4444444444444444, \"#bd3786\"], [0.5555555555555556, \"#d8576b\"], [0.6666666666666666, \"#ed7953\"], [0.7777777777777778, \"#fb9f3a\"], [0.8888888888888888, \"#fdca26\"], [1.0, \"#f0f921\"]], \"type\": \"histogram2d\"}], \"histogram2dcontour\": [{\"colorbar\": {\"outlinewidth\": 0, \"ticks\": \"\"}, \"colorscale\": [[0.0, \"#0d0887\"], [0.1111111111111111, \"#46039f\"], [0.2222222222222222, \"#7201a8\"], [0.3333333333333333, \"#9c179e\"], [0.4444444444444444, \"#bd3786\"], [0.5555555555555556, \"#d8576b\"], [0.6666666666666666, \"#ed7953\"], [0.7777777777777778, \"#fb9f3a\"], [0.8888888888888888, \"#fdca26\"], [1.0, \"#f0f921\"]], \"type\": \"histogram2dcontour\"}], \"mesh3d\": [{\"colorbar\": {\"outlinewidth\": 0, \"ticks\": \"\"}, \"type\": \"mesh3d\"}], \"parcoords\": [{\"line\": {\"colorbar\": {\"outlinewidth\": 0, \"ticks\": \"\"}}, \"type\": \"parcoords\"}], \"pie\": [{\"automargin\": true, \"type\": \"pie\"}], \"scatter\": [{\"marker\": {\"colorbar\": {\"outlinewidth\": 0, \"ticks\": \"\"}}, \"type\": \"scatter\"}], \"scatter3d\": [{\"line\": {\"colorbar\": {\"outlinewidth\": 0, \"ticks\": \"\"}}, \"marker\": {\"colorbar\": {\"outlinewidth\": 0, \"ticks\": \"\"}}, \"type\": \"scatter3d\"}], \"scattercarpet\": [{\"marker\": {\"colorbar\": {\"outlinewidth\": 0, \"ticks\": \"\"}}, \"type\": \"scattercarpet\"}], \"scattergeo\": [{\"marker\": {\"colorbar\": {\"outlinewidth\": 0, \"ticks\": \"\"}}, \"type\": \"scattergeo\"}], \"scattergl\": [{\"marker\": {\"colorbar\": {\"outlinewidth\": 0, \"ticks\": \"\"}}, \"type\": \"scattergl\"}], \"scattermapbox\": [{\"marker\": {\"colorbar\": {\"outlinewidth\": 0, \"ticks\": \"\"}}, \"type\": \"scattermapbox\"}], \"scatterpolar\": [{\"marker\": {\"colorbar\": {\"outlinewidth\": 0, \"ticks\": \"\"}}, \"type\": \"scatterpolar\"}], \"scatterpolargl\": [{\"marker\": {\"colorbar\": {\"outlinewidth\": 0, \"ticks\": \"\"}}, \"type\": \"scatterpolargl\"}], \"scatterternary\": [{\"marker\": {\"colorbar\": {\"outlinewidth\": 0, \"ticks\": \"\"}}, \"type\": \"scatterternary\"}], \"surface\": [{\"colorbar\": {\"outlinewidth\": 0, \"ticks\": \"\"}, \"colorscale\": [[0.0, \"#0d0887\"], [0.1111111111111111, \"#46039f\"], [0.2222222222222222, \"#7201a8\"], [0.3333333333333333, \"#9c179e\"], [0.4444444444444444, \"#bd3786\"], [0.5555555555555556, \"#d8576b\"], [0.6666666666666666, \"#ed7953\"], [0.7777777777777778, \"#fb9f3a\"], [0.8888888888888888, \"#fdca26\"], [1.0, \"#f0f921\"]], \"type\": \"surface\"}], \"table\": [{\"cells\": {\"fill\": {\"color\": \"#EBF0F8\"}, \"line\": {\"color\": \"white\"}}, \"header\": {\"fill\": {\"color\": \"#C8D4E3\"}, \"line\": {\"color\": \"white\"}}, \"type\": \"table\"}]}, \"layout\": {\"annotationdefaults\": {\"arrowcolor\": \"#2a3f5f\", \"arrowhead\": 0, \"arrowwidth\": 1}, \"coloraxis\": {\"colorbar\": {\"outlinewidth\": 0, \"ticks\": \"\"}}, \"colorscale\": {\"diverging\": [[0, \"#8e0152\"], [0.1, \"#c51b7d\"], [0.2, \"#de77ae\"], [0.3, \"#f1b6da\"], [0.4, \"#fde0ef\"], [0.5, \"#f7f7f7\"], [0.6, \"#e6f5d0\"], [0.7, \"#b8e186\"], [0.8, \"#7fbc41\"], [0.9, \"#4d9221\"], [1, \"#276419\"]], \"sequential\": [[0.0, \"#0d0887\"], [0.1111111111111111, \"#46039f\"], [0.2222222222222222, \"#7201a8\"], [0.3333333333333333, \"#9c179e\"], [0.4444444444444444, \"#bd3786\"], [0.5555555555555556, \"#d8576b\"], [0.6666666666666666, \"#ed7953\"], [0.7777777777777778, \"#fb9f3a\"], [0.8888888888888888, \"#fdca26\"], [1.0, \"#f0f921\"]], \"sequentialminus\": [[0.0, \"#0d0887\"], [0.1111111111111111, \"#46039f\"], [0.2222222222222222, \"#7201a8\"], [0.3333333333333333, \"#9c179e\"], [0.4444444444444444, \"#bd3786\"], [0.5555555555555556, \"#d8576b\"], [0.6666666666666666, \"#ed7953\"], [0.7777777777777778, \"#fb9f3a\"], [0.8888888888888888, \"#fdca26\"], [1.0, \"#f0f921\"]]}, \"colorway\": [\"#636efa\", \"#EF553B\", \"#00cc96\", \"#ab63fa\", \"#FFA15A\", \"#19d3f3\", \"#FF6692\", \"#B6E880\", \"#FF97FF\", \"#FECB52\"], \"font\": {\"color\": \"#2a3f5f\"}, \"geo\": {\"bgcolor\": \"white\", \"lakecolor\": \"white\", \"landcolor\": \"#E5ECF6\", \"showlakes\": true, \"showland\": true, \"subunitcolor\": \"white\"}, \"hoverlabel\": {\"align\": \"left\"}, \"hovermode\": \"closest\", \"mapbox\": {\"style\": \"light\"}, \"paper_bgcolor\": \"white\", \"plot_bgcolor\": \"#E5ECF6\", \"polar\": {\"angularaxis\": {\"gridcolor\": \"white\", \"linecolor\": \"white\", \"ticks\": \"\"}, \"bgcolor\": \"#E5ECF6\", \"radialaxis\": {\"gridcolor\": \"white\", \"linecolor\": \"white\", \"ticks\": \"\"}}, \"scene\": {\"xaxis\": {\"backgroundcolor\": \"#E5ECF6\", \"gridcolor\": \"white\", \"gridwidth\": 2, \"linecolor\": \"white\", \"showbackground\": true, \"ticks\": \"\", \"zerolinecolor\": \"white\"}, \"yaxis\": {\"backgroundcolor\": \"#E5ECF6\", \"gridcolor\": \"white\", \"gridwidth\": 2, \"linecolor\": \"white\", \"showbackground\": true, \"ticks\": \"\", \"zerolinecolor\": \"white\"}, \"zaxis\": {\"backgroundcolor\": \"#E5ECF6\", \"gridcolor\": \"white\", \"gridwidth\": 2, \"linecolor\": \"white\", \"showbackground\": true, \"ticks\": \"\", \"zerolinecolor\": \"white\"}}, \"shapedefaults\": {\"line\": {\"color\": \"#2a3f5f\"}}, \"ternary\": {\"aaxis\": {\"gridcolor\": \"white\", \"linecolor\": \"white\", \"ticks\": \"\"}, \"baxis\": {\"gridcolor\": \"white\", \"linecolor\": \"white\", \"ticks\": \"\"}, \"bgcolor\": \"#E5ECF6\", \"caxis\": {\"gridcolor\": \"white\", \"linecolor\": \"white\", \"ticks\": \"\"}}, \"title\": {\"x\": 0.05}, \"xaxis\": {\"automargin\": true, \"gridcolor\": \"white\", \"linecolor\": \"white\", \"ticks\": \"\", \"title\": {\"standoff\": 15}, \"zerolinecolor\": \"white\", \"zerolinewidth\": 2}, \"yaxis\": {\"automargin\": true, \"gridcolor\": \"white\", \"linecolor\": \"white\", \"ticks\": \"\", \"title\": {\"standoff\": 15}, \"zerolinecolor\": \"white\", \"zerolinewidth\": 2}}}, \"title\": {\"text\": \"Most Liked Step Count\", \"yanchor\": \"top\"}, \"xaxis\": {\"anchor\": \"y\", \"domain\": [0.0, 1.0], \"title\": {\"text\": \"Steps Required\"}}, \"xaxis2\": {\"anchor\": \"y2\", \"domain\": [0.0, 1.0], \"matches\": \"x\", \"showgrid\": true, \"showticklabels\": false}, \"yaxis\": {\"anchor\": \"x\", \"domain\": [0.0, 0.8316], \"title\": {\"text\": \"User Likes\"}}, \"yaxis2\": {\"anchor\": \"x2\", \"domain\": [0.8416, 1.0], \"matches\": \"y2\", \"showgrid\": false, \"showline\": false, \"showticklabels\": false, \"ticks\": \"\"}},                        {\"responsive\": true}                    ).then(function(){\n",
       "                            \n",
       "var gd = document.getElementById('5f5b646c-f6f4-467d-b449-a7e6433195e0');\n",
       "var x = new MutationObserver(function (mutations, observer) {{\n",
       "        var display = window.getComputedStyle(gd).display;\n",
       "        if (!display || display === 'none') {{\n",
       "            console.log([gd, 'removed!']);\n",
       "            Plotly.purge(gd);\n",
       "            observer.disconnect();\n",
       "        }}\n",
       "}});\n",
       "\n",
       "// Listen for the removal of the full notebook cells\n",
       "var notebookContainer = gd.closest('#notebook-container');\n",
       "if (notebookContainer) {{\n",
       "    x.observe(notebookContainer, {childList: true});\n",
       "}}\n",
       "\n",
       "// Listen for the clearing of the current output cell\n",
       "var outputEl = gd.closest('.output');\n",
       "if (outputEl) {{\n",
       "    x.observe(outputEl, {childList: true});\n",
       "}}\n",
       "\n",
       "                        })                };                });            </script>        </div>"
      ]
     },
     "metadata": {},
     "output_type": "display_data"
    }
   ],
   "source": [
    "fig = px.histogram(df, x=\"total_steps\", y=\"user_likes\", color_discrete_sequence = ['rgb(237, 169, 21)'],\n",
    "                   marginal=\"violin\")#, # or violin, rug)\n",
    "\n",
    "\n",
    "\n",
    "fig.update_layout(\n",
    "    xaxis_title = 'Steps Required',\n",
    "    yaxis_title = 'User Likes',\n",
    "    title={\n",
    "        'text': \"Most Liked Step Count\",\n",
    "        #'y':0.9,\n",
    "        #'x':0.5,\n",
    "        #'xanchor': 'center',\n",
    "        'yanchor': 'top'},\n",
    "    font = {'family': 'Arial',\n",
    "           'size': 18,\n",
    "           'color': 'rgb(31,33,36)'},\n",
    "    plot_bgcolor = 'rgba(0,0,0,0)',\n",
    "    paper_bgcolor = 'rgba(0,0,0,0)',\n",
    "    bargap = 0.05\n",
    ")\n",
    "\n",
    "fig.show()"
   ]
  },
  {
   "cell_type": "markdown",
   "metadata": {},
   "source": [
    "### Top 10 Ingredients"
   ]
  },
  {
   "cell_type": "code",
   "execution_count": 21,
   "metadata": {},
   "outputs": [],
   "source": [
    "ingredient_df = pd.read_csv('../Data Cleaning/KS_Ingredients_Cleaned.csv')"
   ]
  },
  {
   "cell_type": "code",
   "execution_count": 22,
   "metadata": {},
   "outputs": [
    {
     "data": {
      "text/plain": [
       "thyme                    49\n",
       "eggs                     49\n",
       "parmesan cheese          49\n",
       "milk                     46\n",
       "chicken breasts          46\n",
       "basil                    45\n",
       "soy sauce                42\n",
       "carrots                  40\n",
       "oil                      40\n",
       "red onion                38\n",
       "garlic powder            37\n",
       "maes                     37\n",
       "cherry maes              35\n",
       "ground cumin             35\n",
       "honey                    35\n",
       "egg                      35\n",
       "carrot                   34\n",
       "potaes                   34\n",
       "black pepper             33\n",
       "chili flakes             32\n",
       "white wine               31\n",
       "heavy cream              31\n",
       "rosemary                 31\n",
       "bay leaves               30\n",
       "vegetable broth          30\n",
       "ma paste                 30\n",
       "bacon                    29\n",
       "chili powder             29\n",
       "rice                     29\n",
       "smoked paprika powder    28\n",
       "red bell pepper          27\n",
       "sesame oil               27\n",
       "celery                   26\n",
       "ma sauce                 26\n",
       "Name: ingredient, dtype: int64"
      ]
     },
     "execution_count": 22,
     "metadata": {},
     "output_type": "execute_result"
    }
   ],
   "source": [
    "ingredient_df.ingredient.value_counts()[16:50]"
   ]
  },
  {
   "cell_type": "code",
   "execution_count": 23,
   "metadata": {},
   "outputs": [
    {
     "data": {
      "text/html": [
       "<div>\n",
       "<style scoped>\n",
       "    .dataframe tbody tr th:only-of-type {\n",
       "        vertical-align: middle;\n",
       "    }\n",
       "\n",
       "    .dataframe tbody tr th {\n",
       "        vertical-align: top;\n",
       "    }\n",
       "\n",
       "    .dataframe thead th {\n",
       "        text-align: right;\n",
       "    }\n",
       "</style>\n",
       "<table border=\"1\" class=\"dataframe\">\n",
       "  <thead>\n",
       "    <tr style=\"text-align: right;\">\n",
       "      <th></th>\n",
       "      <th>ingredient</th>\n",
       "      <th>count</th>\n",
       "    </tr>\n",
       "  </thead>\n",
       "  <tbody>\n",
       "    <tr>\n",
       "      <th>0</th>\n",
       "      <td>salt</td>\n",
       "      <td>433</td>\n",
       "    </tr>\n",
       "    <tr>\n",
       "      <th>1</th>\n",
       "      <td>pepper</td>\n",
       "      <td>292</td>\n",
       "    </tr>\n",
       "    <tr>\n",
       "      <th>2</th>\n",
       "      <td>garlic</td>\n",
       "      <td>260</td>\n",
       "    </tr>\n",
       "    <tr>\n",
       "      <th>3</th>\n",
       "      <td>olive oil</td>\n",
       "      <td>249</td>\n",
       "    </tr>\n",
       "    <tr>\n",
       "      <th>4</th>\n",
       "      <td>onion</td>\n",
       "      <td>156</td>\n",
       "    </tr>\n",
       "    <tr>\n",
       "      <th>5</th>\n",
       "      <td>butter</td>\n",
       "      <td>124</td>\n",
       "    </tr>\n",
       "    <tr>\n",
       "      <th>6</th>\n",
       "      <td>water</td>\n",
       "      <td>105</td>\n",
       "    </tr>\n",
       "    <tr>\n",
       "      <th>7</th>\n",
       "      <td>parsley</td>\n",
       "      <td>85</td>\n",
       "    </tr>\n",
       "    <tr>\n",
       "      <th>8</th>\n",
       "      <td>flour</td>\n",
       "      <td>78</td>\n",
       "    </tr>\n",
       "    <tr>\n",
       "      <th>9</th>\n",
       "      <td>sugar</td>\n",
       "      <td>77</td>\n",
       "    </tr>\n",
       "    <tr>\n",
       "      <th>10</th>\n",
       "      <td>onions</td>\n",
       "      <td>67</td>\n",
       "    </tr>\n",
       "    <tr>\n",
       "      <th>11</th>\n",
       "      <td>vegetable oil</td>\n",
       "      <td>65</td>\n",
       "    </tr>\n",
       "    <tr>\n",
       "      <th>12</th>\n",
       "      <td>ginger</td>\n",
       "      <td>58</td>\n",
       "    </tr>\n",
       "    <tr>\n",
       "      <th>13</th>\n",
       "      <td>lemon</td>\n",
       "      <td>54</td>\n",
       "    </tr>\n",
       "    <tr>\n",
       "      <th>14</th>\n",
       "      <td>cilantro</td>\n",
       "      <td>54</td>\n",
       "    </tr>\n",
       "  </tbody>\n",
       "</table>\n",
       "</div>"
      ],
      "text/plain": [
       "       ingredient  count\n",
       "0            salt    433\n",
       "1          pepper    292\n",
       "2          garlic    260\n",
       "3       olive oil    249\n",
       "4           onion    156\n",
       "5          butter    124\n",
       "6           water    105\n",
       "7         parsley     85\n",
       "8           flour     78\n",
       "9           sugar     77\n",
       "10         onions     67\n",
       "11  vegetable oil     65\n",
       "12         ginger     58\n",
       "13          lemon     54\n",
       "14       cilantro     54"
      ]
     },
     "execution_count": 23,
     "metadata": {},
     "output_type": "execute_result"
    }
   ],
   "source": [
    "ingredient_count = ingredient_df.ingredient.value_counts()[0:15].to_frame(name = 'count').reset_index().\\\n",
    "                    rename(columns = {'index':'ingredient'}).sort_values('count', ascending = False)\n",
    "ingredient_count"
   ]
  },
  {
   "cell_type": "code",
   "execution_count": 24,
   "metadata": {
    "scrolled": false
   },
   "outputs": [
    {
     "data": {
      "application/vnd.plotly.v1+json": {
       "config": {
        "plotlyServerURL": "https://plot.ly"
       },
       "data": [
        {
         "marker": {
          "color": [
           "rgb(237, 169, 21)",
           "rgb(237, 169, 21)",
           "rgb(237, 169, 21)",
           "rgb(237, 169, 21)",
           "rgb(237, 169, 21)",
           "rgb(237, 169, 21)",
           "rgb(237, 169, 21)",
           "rgb(237, 169, 21)",
           "rgb(237, 169, 21)",
           "rgb(237, 169, 21)",
           "rgb(237, 169, 21)",
           "rgb(237, 169, 21)",
           "rgb(237, 169, 21)",
           "rgb(237, 169, 21)",
           "rgb(237, 169, 21)"
          ]
         },
         "orientation": "h",
         "type": "bar",
         "x": [
          433,
          292,
          260,
          249,
          156,
          124,
          105,
          85,
          78,
          77,
          67,
          65,
          58,
          54,
          54
         ],
         "y": [
          "salt",
          "pepper",
          "garlic",
          "olive oil",
          "onion",
          "butter",
          "water",
          "parsley",
          "flour",
          "sugar",
          "onions",
          "vegetable oil",
          "ginger",
          "lemon",
          "cilantro"
         ]
        }
       ],
       "layout": {
        "font": {
         "color": "rgb(31,33,36)",
         "family": "Arial",
         "size": 18
        },
        "paper_bgcolor": "rgba(0,0,0,0)",
        "plot_bgcolor": "rgba(0,0,0,0)",
        "template": {
         "data": {
          "bar": [
           {
            "error_x": {
             "color": "#2a3f5f"
            },
            "error_y": {
             "color": "#2a3f5f"
            },
            "marker": {
             "line": {
              "color": "#E5ECF6",
              "width": 0.5
             }
            },
            "type": "bar"
           }
          ],
          "barpolar": [
           {
            "marker": {
             "line": {
              "color": "#E5ECF6",
              "width": 0.5
             }
            },
            "type": "barpolar"
           }
          ],
          "carpet": [
           {
            "aaxis": {
             "endlinecolor": "#2a3f5f",
             "gridcolor": "white",
             "linecolor": "white",
             "minorgridcolor": "white",
             "startlinecolor": "#2a3f5f"
            },
            "baxis": {
             "endlinecolor": "#2a3f5f",
             "gridcolor": "white",
             "linecolor": "white",
             "minorgridcolor": "white",
             "startlinecolor": "#2a3f5f"
            },
            "type": "carpet"
           }
          ],
          "choropleth": [
           {
            "colorbar": {
             "outlinewidth": 0,
             "ticks": ""
            },
            "type": "choropleth"
           }
          ],
          "contour": [
           {
            "colorbar": {
             "outlinewidth": 0,
             "ticks": ""
            },
            "colorscale": [
             [
              0,
              "#0d0887"
             ],
             [
              0.1111111111111111,
              "#46039f"
             ],
             [
              0.2222222222222222,
              "#7201a8"
             ],
             [
              0.3333333333333333,
              "#9c179e"
             ],
             [
              0.4444444444444444,
              "#bd3786"
             ],
             [
              0.5555555555555556,
              "#d8576b"
             ],
             [
              0.6666666666666666,
              "#ed7953"
             ],
             [
              0.7777777777777778,
              "#fb9f3a"
             ],
             [
              0.8888888888888888,
              "#fdca26"
             ],
             [
              1,
              "#f0f921"
             ]
            ],
            "type": "contour"
           }
          ],
          "contourcarpet": [
           {
            "colorbar": {
             "outlinewidth": 0,
             "ticks": ""
            },
            "type": "contourcarpet"
           }
          ],
          "heatmap": [
           {
            "colorbar": {
             "outlinewidth": 0,
             "ticks": ""
            },
            "colorscale": [
             [
              0,
              "#0d0887"
             ],
             [
              0.1111111111111111,
              "#46039f"
             ],
             [
              0.2222222222222222,
              "#7201a8"
             ],
             [
              0.3333333333333333,
              "#9c179e"
             ],
             [
              0.4444444444444444,
              "#bd3786"
             ],
             [
              0.5555555555555556,
              "#d8576b"
             ],
             [
              0.6666666666666666,
              "#ed7953"
             ],
             [
              0.7777777777777778,
              "#fb9f3a"
             ],
             [
              0.8888888888888888,
              "#fdca26"
             ],
             [
              1,
              "#f0f921"
             ]
            ],
            "type": "heatmap"
           }
          ],
          "heatmapgl": [
           {
            "colorbar": {
             "outlinewidth": 0,
             "ticks": ""
            },
            "colorscale": [
             [
              0,
              "#0d0887"
             ],
             [
              0.1111111111111111,
              "#46039f"
             ],
             [
              0.2222222222222222,
              "#7201a8"
             ],
             [
              0.3333333333333333,
              "#9c179e"
             ],
             [
              0.4444444444444444,
              "#bd3786"
             ],
             [
              0.5555555555555556,
              "#d8576b"
             ],
             [
              0.6666666666666666,
              "#ed7953"
             ],
             [
              0.7777777777777778,
              "#fb9f3a"
             ],
             [
              0.8888888888888888,
              "#fdca26"
             ],
             [
              1,
              "#f0f921"
             ]
            ],
            "type": "heatmapgl"
           }
          ],
          "histogram": [
           {
            "marker": {
             "colorbar": {
              "outlinewidth": 0,
              "ticks": ""
             }
            },
            "type": "histogram"
           }
          ],
          "histogram2d": [
           {
            "colorbar": {
             "outlinewidth": 0,
             "ticks": ""
            },
            "colorscale": [
             [
              0,
              "#0d0887"
             ],
             [
              0.1111111111111111,
              "#46039f"
             ],
             [
              0.2222222222222222,
              "#7201a8"
             ],
             [
              0.3333333333333333,
              "#9c179e"
             ],
             [
              0.4444444444444444,
              "#bd3786"
             ],
             [
              0.5555555555555556,
              "#d8576b"
             ],
             [
              0.6666666666666666,
              "#ed7953"
             ],
             [
              0.7777777777777778,
              "#fb9f3a"
             ],
             [
              0.8888888888888888,
              "#fdca26"
             ],
             [
              1,
              "#f0f921"
             ]
            ],
            "type": "histogram2d"
           }
          ],
          "histogram2dcontour": [
           {
            "colorbar": {
             "outlinewidth": 0,
             "ticks": ""
            },
            "colorscale": [
             [
              0,
              "#0d0887"
             ],
             [
              0.1111111111111111,
              "#46039f"
             ],
             [
              0.2222222222222222,
              "#7201a8"
             ],
             [
              0.3333333333333333,
              "#9c179e"
             ],
             [
              0.4444444444444444,
              "#bd3786"
             ],
             [
              0.5555555555555556,
              "#d8576b"
             ],
             [
              0.6666666666666666,
              "#ed7953"
             ],
             [
              0.7777777777777778,
              "#fb9f3a"
             ],
             [
              0.8888888888888888,
              "#fdca26"
             ],
             [
              1,
              "#f0f921"
             ]
            ],
            "type": "histogram2dcontour"
           }
          ],
          "mesh3d": [
           {
            "colorbar": {
             "outlinewidth": 0,
             "ticks": ""
            },
            "type": "mesh3d"
           }
          ],
          "parcoords": [
           {
            "line": {
             "colorbar": {
              "outlinewidth": 0,
              "ticks": ""
             }
            },
            "type": "parcoords"
           }
          ],
          "pie": [
           {
            "automargin": true,
            "type": "pie"
           }
          ],
          "scatter": [
           {
            "marker": {
             "colorbar": {
              "outlinewidth": 0,
              "ticks": ""
             }
            },
            "type": "scatter"
           }
          ],
          "scatter3d": [
           {
            "line": {
             "colorbar": {
              "outlinewidth": 0,
              "ticks": ""
             }
            },
            "marker": {
             "colorbar": {
              "outlinewidth": 0,
              "ticks": ""
             }
            },
            "type": "scatter3d"
           }
          ],
          "scattercarpet": [
           {
            "marker": {
             "colorbar": {
              "outlinewidth": 0,
              "ticks": ""
             }
            },
            "type": "scattercarpet"
           }
          ],
          "scattergeo": [
           {
            "marker": {
             "colorbar": {
              "outlinewidth": 0,
              "ticks": ""
             }
            },
            "type": "scattergeo"
           }
          ],
          "scattergl": [
           {
            "marker": {
             "colorbar": {
              "outlinewidth": 0,
              "ticks": ""
             }
            },
            "type": "scattergl"
           }
          ],
          "scattermapbox": [
           {
            "marker": {
             "colorbar": {
              "outlinewidth": 0,
              "ticks": ""
             }
            },
            "type": "scattermapbox"
           }
          ],
          "scatterpolar": [
           {
            "marker": {
             "colorbar": {
              "outlinewidth": 0,
              "ticks": ""
             }
            },
            "type": "scatterpolar"
           }
          ],
          "scatterpolargl": [
           {
            "marker": {
             "colorbar": {
              "outlinewidth": 0,
              "ticks": ""
             }
            },
            "type": "scatterpolargl"
           }
          ],
          "scatterternary": [
           {
            "marker": {
             "colorbar": {
              "outlinewidth": 0,
              "ticks": ""
             }
            },
            "type": "scatterternary"
           }
          ],
          "surface": [
           {
            "colorbar": {
             "outlinewidth": 0,
             "ticks": ""
            },
            "colorscale": [
             [
              0,
              "#0d0887"
             ],
             [
              0.1111111111111111,
              "#46039f"
             ],
             [
              0.2222222222222222,
              "#7201a8"
             ],
             [
              0.3333333333333333,
              "#9c179e"
             ],
             [
              0.4444444444444444,
              "#bd3786"
             ],
             [
              0.5555555555555556,
              "#d8576b"
             ],
             [
              0.6666666666666666,
              "#ed7953"
             ],
             [
              0.7777777777777778,
              "#fb9f3a"
             ],
             [
              0.8888888888888888,
              "#fdca26"
             ],
             [
              1,
              "#f0f921"
             ]
            ],
            "type": "surface"
           }
          ],
          "table": [
           {
            "cells": {
             "fill": {
              "color": "#EBF0F8"
             },
             "line": {
              "color": "white"
             }
            },
            "header": {
             "fill": {
              "color": "#C8D4E3"
             },
             "line": {
              "color": "white"
             }
            },
            "type": "table"
           }
          ]
         },
         "layout": {
          "annotationdefaults": {
           "arrowcolor": "#2a3f5f",
           "arrowhead": 0,
           "arrowwidth": 1
          },
          "coloraxis": {
           "colorbar": {
            "outlinewidth": 0,
            "ticks": ""
           }
          },
          "colorscale": {
           "diverging": [
            [
             0,
             "#8e0152"
            ],
            [
             0.1,
             "#c51b7d"
            ],
            [
             0.2,
             "#de77ae"
            ],
            [
             0.3,
             "#f1b6da"
            ],
            [
             0.4,
             "#fde0ef"
            ],
            [
             0.5,
             "#f7f7f7"
            ],
            [
             0.6,
             "#e6f5d0"
            ],
            [
             0.7,
             "#b8e186"
            ],
            [
             0.8,
             "#7fbc41"
            ],
            [
             0.9,
             "#4d9221"
            ],
            [
             1,
             "#276419"
            ]
           ],
           "sequential": [
            [
             0,
             "#0d0887"
            ],
            [
             0.1111111111111111,
             "#46039f"
            ],
            [
             0.2222222222222222,
             "#7201a8"
            ],
            [
             0.3333333333333333,
             "#9c179e"
            ],
            [
             0.4444444444444444,
             "#bd3786"
            ],
            [
             0.5555555555555556,
             "#d8576b"
            ],
            [
             0.6666666666666666,
             "#ed7953"
            ],
            [
             0.7777777777777778,
             "#fb9f3a"
            ],
            [
             0.8888888888888888,
             "#fdca26"
            ],
            [
             1,
             "#f0f921"
            ]
           ],
           "sequentialminus": [
            [
             0,
             "#0d0887"
            ],
            [
             0.1111111111111111,
             "#46039f"
            ],
            [
             0.2222222222222222,
             "#7201a8"
            ],
            [
             0.3333333333333333,
             "#9c179e"
            ],
            [
             0.4444444444444444,
             "#bd3786"
            ],
            [
             0.5555555555555556,
             "#d8576b"
            ],
            [
             0.6666666666666666,
             "#ed7953"
            ],
            [
             0.7777777777777778,
             "#fb9f3a"
            ],
            [
             0.8888888888888888,
             "#fdca26"
            ],
            [
             1,
             "#f0f921"
            ]
           ]
          },
          "colorway": [
           "#636efa",
           "#EF553B",
           "#00cc96",
           "#ab63fa",
           "#FFA15A",
           "#19d3f3",
           "#FF6692",
           "#B6E880",
           "#FF97FF",
           "#FECB52"
          ],
          "font": {
           "color": "#2a3f5f"
          },
          "geo": {
           "bgcolor": "white",
           "lakecolor": "white",
           "landcolor": "#E5ECF6",
           "showlakes": true,
           "showland": true,
           "subunitcolor": "white"
          },
          "hoverlabel": {
           "align": "left"
          },
          "hovermode": "closest",
          "mapbox": {
           "style": "light"
          },
          "paper_bgcolor": "white",
          "plot_bgcolor": "#E5ECF6",
          "polar": {
           "angularaxis": {
            "gridcolor": "white",
            "linecolor": "white",
            "ticks": ""
           },
           "bgcolor": "#E5ECF6",
           "radialaxis": {
            "gridcolor": "white",
            "linecolor": "white",
            "ticks": ""
           }
          },
          "scene": {
           "xaxis": {
            "backgroundcolor": "#E5ECF6",
            "gridcolor": "white",
            "gridwidth": 2,
            "linecolor": "white",
            "showbackground": true,
            "ticks": "",
            "zerolinecolor": "white"
           },
           "yaxis": {
            "backgroundcolor": "#E5ECF6",
            "gridcolor": "white",
            "gridwidth": 2,
            "linecolor": "white",
            "showbackground": true,
            "ticks": "",
            "zerolinecolor": "white"
           },
           "zaxis": {
            "backgroundcolor": "#E5ECF6",
            "gridcolor": "white",
            "gridwidth": 2,
            "linecolor": "white",
            "showbackground": true,
            "ticks": "",
            "zerolinecolor": "white"
           }
          },
          "shapedefaults": {
           "line": {
            "color": "#2a3f5f"
           }
          },
          "ternary": {
           "aaxis": {
            "gridcolor": "white",
            "linecolor": "white",
            "ticks": ""
           },
           "baxis": {
            "gridcolor": "white",
            "linecolor": "white",
            "ticks": ""
           },
           "bgcolor": "#E5ECF6",
           "caxis": {
            "gridcolor": "white",
            "linecolor": "white",
            "ticks": ""
           }
          },
          "title": {
           "x": 0.05
          },
          "xaxis": {
           "automargin": true,
           "gridcolor": "white",
           "linecolor": "white",
           "ticks": "",
           "title": {
            "standoff": 15
           },
           "zerolinecolor": "white",
           "zerolinewidth": 2
          },
          "yaxis": {
           "automargin": true,
           "gridcolor": "white",
           "linecolor": "white",
           "ticks": "",
           "title": {
            "standoff": 15
           },
           "zerolinecolor": "white",
           "zerolinewidth": 2
          }
         }
        },
        "title": {
         "text": "Make Sure You Have These Ingredients!",
         "yanchor": "top"
        },
        "xaxis": {
         "title": {
          "text": "Number of Recipes Where Required"
         }
        },
        "yaxis": {
         "title": {
          "text": "Ingredient"
         }
        }
       }
      },
      "text/html": [
       "<div>                            <div id=\"a37f3e2c-da64-4ab5-ab9f-2fb1267517ce\" class=\"plotly-graph-div\" style=\"height:525px; width:100%;\"></div>            <script type=\"text/javascript\">                require([\"plotly\"], function(Plotly) {                    window.PLOTLYENV=window.PLOTLYENV || {};                                    if (document.getElementById(\"a37f3e2c-da64-4ab5-ab9f-2fb1267517ce\")) {                    Plotly.newPlot(                        \"a37f3e2c-da64-4ab5-ab9f-2fb1267517ce\",                        [{\"marker\": {\"color\": [\"rgb(237, 169, 21)\", \"rgb(237, 169, 21)\", \"rgb(237, 169, 21)\", \"rgb(237, 169, 21)\", \"rgb(237, 169, 21)\", \"rgb(237, 169, 21)\", \"rgb(237, 169, 21)\", \"rgb(237, 169, 21)\", \"rgb(237, 169, 21)\", \"rgb(237, 169, 21)\", \"rgb(237, 169, 21)\", \"rgb(237, 169, 21)\", \"rgb(237, 169, 21)\", \"rgb(237, 169, 21)\", \"rgb(237, 169, 21)\"]}, \"orientation\": \"h\", \"type\": \"bar\", \"x\": [433, 292, 260, 249, 156, 124, 105, 85, 78, 77, 67, 65, 58, 54, 54], \"y\": [\"salt\", \"pepper\", \"garlic\", \"olive oil\", \"onion\", \"butter\", \"water\", \"parsley\", \"flour\", \"sugar\", \"onions\", \"vegetable oil\", \"ginger\", \"lemon\", \"cilantro\"]}],                        {\"font\": {\"color\": \"rgb(31,33,36)\", \"family\": \"Arial\", \"size\": 18}, \"paper_bgcolor\": \"rgba(0,0,0,0)\", \"plot_bgcolor\": \"rgba(0,0,0,0)\", \"template\": {\"data\": {\"bar\": [{\"error_x\": {\"color\": \"#2a3f5f\"}, \"error_y\": {\"color\": \"#2a3f5f\"}, \"marker\": {\"line\": {\"color\": \"#E5ECF6\", \"width\": 0.5}}, \"type\": \"bar\"}], \"barpolar\": [{\"marker\": {\"line\": {\"color\": \"#E5ECF6\", \"width\": 0.5}}, \"type\": \"barpolar\"}], \"carpet\": [{\"aaxis\": {\"endlinecolor\": \"#2a3f5f\", \"gridcolor\": \"white\", \"linecolor\": \"white\", \"minorgridcolor\": \"white\", \"startlinecolor\": \"#2a3f5f\"}, \"baxis\": {\"endlinecolor\": \"#2a3f5f\", \"gridcolor\": \"white\", \"linecolor\": \"white\", \"minorgridcolor\": \"white\", \"startlinecolor\": \"#2a3f5f\"}, \"type\": \"carpet\"}], \"choropleth\": [{\"colorbar\": {\"outlinewidth\": 0, \"ticks\": \"\"}, \"type\": \"choropleth\"}], \"contour\": [{\"colorbar\": {\"outlinewidth\": 0, \"ticks\": \"\"}, \"colorscale\": [[0.0, \"#0d0887\"], [0.1111111111111111, \"#46039f\"], [0.2222222222222222, \"#7201a8\"], [0.3333333333333333, \"#9c179e\"], [0.4444444444444444, \"#bd3786\"], [0.5555555555555556, \"#d8576b\"], [0.6666666666666666, \"#ed7953\"], [0.7777777777777778, \"#fb9f3a\"], [0.8888888888888888, \"#fdca26\"], [1.0, \"#f0f921\"]], \"type\": \"contour\"}], \"contourcarpet\": [{\"colorbar\": {\"outlinewidth\": 0, \"ticks\": \"\"}, \"type\": \"contourcarpet\"}], \"heatmap\": [{\"colorbar\": {\"outlinewidth\": 0, \"ticks\": \"\"}, \"colorscale\": [[0.0, \"#0d0887\"], [0.1111111111111111, \"#46039f\"], [0.2222222222222222, \"#7201a8\"], [0.3333333333333333, \"#9c179e\"], [0.4444444444444444, \"#bd3786\"], [0.5555555555555556, \"#d8576b\"], [0.6666666666666666, \"#ed7953\"], [0.7777777777777778, \"#fb9f3a\"], [0.8888888888888888, \"#fdca26\"], [1.0, \"#f0f921\"]], \"type\": \"heatmap\"}], \"heatmapgl\": [{\"colorbar\": {\"outlinewidth\": 0, \"ticks\": \"\"}, \"colorscale\": [[0.0, \"#0d0887\"], [0.1111111111111111, \"#46039f\"], [0.2222222222222222, \"#7201a8\"], [0.3333333333333333, \"#9c179e\"], [0.4444444444444444, \"#bd3786\"], [0.5555555555555556, \"#d8576b\"], [0.6666666666666666, \"#ed7953\"], [0.7777777777777778, \"#fb9f3a\"], [0.8888888888888888, \"#fdca26\"], [1.0, \"#f0f921\"]], \"type\": \"heatmapgl\"}], \"histogram\": [{\"marker\": {\"colorbar\": {\"outlinewidth\": 0, \"ticks\": \"\"}}, \"type\": \"histogram\"}], \"histogram2d\": [{\"colorbar\": {\"outlinewidth\": 0, \"ticks\": \"\"}, \"colorscale\": [[0.0, \"#0d0887\"], [0.1111111111111111, \"#46039f\"], [0.2222222222222222, \"#7201a8\"], [0.3333333333333333, \"#9c179e\"], [0.4444444444444444, \"#bd3786\"], [0.5555555555555556, \"#d8576b\"], [0.6666666666666666, \"#ed7953\"], [0.7777777777777778, \"#fb9f3a\"], [0.8888888888888888, \"#fdca26\"], [1.0, \"#f0f921\"]], \"type\": \"histogram2d\"}], \"histogram2dcontour\": [{\"colorbar\": {\"outlinewidth\": 0, \"ticks\": \"\"}, \"colorscale\": [[0.0, \"#0d0887\"], [0.1111111111111111, \"#46039f\"], [0.2222222222222222, \"#7201a8\"], [0.3333333333333333, \"#9c179e\"], [0.4444444444444444, \"#bd3786\"], [0.5555555555555556, \"#d8576b\"], [0.6666666666666666, \"#ed7953\"], [0.7777777777777778, \"#fb9f3a\"], [0.8888888888888888, \"#fdca26\"], [1.0, \"#f0f921\"]], \"type\": \"histogram2dcontour\"}], \"mesh3d\": [{\"colorbar\": {\"outlinewidth\": 0, \"ticks\": \"\"}, \"type\": \"mesh3d\"}], \"parcoords\": [{\"line\": {\"colorbar\": {\"outlinewidth\": 0, \"ticks\": \"\"}}, \"type\": \"parcoords\"}], \"pie\": [{\"automargin\": true, \"type\": \"pie\"}], \"scatter\": [{\"marker\": {\"colorbar\": {\"outlinewidth\": 0, \"ticks\": \"\"}}, \"type\": \"scatter\"}], \"scatter3d\": [{\"line\": {\"colorbar\": {\"outlinewidth\": 0, \"ticks\": \"\"}}, \"marker\": {\"colorbar\": {\"outlinewidth\": 0, \"ticks\": \"\"}}, \"type\": \"scatter3d\"}], \"scattercarpet\": [{\"marker\": {\"colorbar\": {\"outlinewidth\": 0, \"ticks\": \"\"}}, \"type\": \"scattercarpet\"}], \"scattergeo\": [{\"marker\": {\"colorbar\": {\"outlinewidth\": 0, \"ticks\": \"\"}}, \"type\": \"scattergeo\"}], \"scattergl\": [{\"marker\": {\"colorbar\": {\"outlinewidth\": 0, \"ticks\": \"\"}}, \"type\": \"scattergl\"}], \"scattermapbox\": [{\"marker\": {\"colorbar\": {\"outlinewidth\": 0, \"ticks\": \"\"}}, \"type\": \"scattermapbox\"}], \"scatterpolar\": [{\"marker\": {\"colorbar\": {\"outlinewidth\": 0, \"ticks\": \"\"}}, \"type\": \"scatterpolar\"}], \"scatterpolargl\": [{\"marker\": {\"colorbar\": {\"outlinewidth\": 0, \"ticks\": \"\"}}, \"type\": \"scatterpolargl\"}], \"scatterternary\": [{\"marker\": {\"colorbar\": {\"outlinewidth\": 0, \"ticks\": \"\"}}, \"type\": \"scatterternary\"}], \"surface\": [{\"colorbar\": {\"outlinewidth\": 0, \"ticks\": \"\"}, \"colorscale\": [[0.0, \"#0d0887\"], [0.1111111111111111, \"#46039f\"], [0.2222222222222222, \"#7201a8\"], [0.3333333333333333, \"#9c179e\"], [0.4444444444444444, \"#bd3786\"], [0.5555555555555556, \"#d8576b\"], [0.6666666666666666, \"#ed7953\"], [0.7777777777777778, \"#fb9f3a\"], [0.8888888888888888, \"#fdca26\"], [1.0, \"#f0f921\"]], \"type\": \"surface\"}], \"table\": [{\"cells\": {\"fill\": {\"color\": \"#EBF0F8\"}, \"line\": {\"color\": \"white\"}}, \"header\": {\"fill\": {\"color\": \"#C8D4E3\"}, \"line\": {\"color\": \"white\"}}, \"type\": \"table\"}]}, \"layout\": {\"annotationdefaults\": {\"arrowcolor\": \"#2a3f5f\", \"arrowhead\": 0, \"arrowwidth\": 1}, \"coloraxis\": {\"colorbar\": {\"outlinewidth\": 0, \"ticks\": \"\"}}, \"colorscale\": {\"diverging\": [[0, \"#8e0152\"], [0.1, \"#c51b7d\"], [0.2, \"#de77ae\"], [0.3, \"#f1b6da\"], [0.4, \"#fde0ef\"], [0.5, \"#f7f7f7\"], [0.6, \"#e6f5d0\"], [0.7, \"#b8e186\"], [0.8, \"#7fbc41\"], [0.9, \"#4d9221\"], [1, \"#276419\"]], \"sequential\": [[0.0, \"#0d0887\"], [0.1111111111111111, \"#46039f\"], [0.2222222222222222, \"#7201a8\"], [0.3333333333333333, \"#9c179e\"], [0.4444444444444444, \"#bd3786\"], [0.5555555555555556, \"#d8576b\"], [0.6666666666666666, \"#ed7953\"], [0.7777777777777778, \"#fb9f3a\"], [0.8888888888888888, \"#fdca26\"], [1.0, \"#f0f921\"]], \"sequentialminus\": [[0.0, \"#0d0887\"], [0.1111111111111111, \"#46039f\"], [0.2222222222222222, \"#7201a8\"], [0.3333333333333333, \"#9c179e\"], [0.4444444444444444, \"#bd3786\"], [0.5555555555555556, \"#d8576b\"], [0.6666666666666666, \"#ed7953\"], [0.7777777777777778, \"#fb9f3a\"], [0.8888888888888888, \"#fdca26\"], [1.0, \"#f0f921\"]]}, \"colorway\": [\"#636efa\", \"#EF553B\", \"#00cc96\", \"#ab63fa\", \"#FFA15A\", \"#19d3f3\", \"#FF6692\", \"#B6E880\", \"#FF97FF\", \"#FECB52\"], \"font\": {\"color\": \"#2a3f5f\"}, \"geo\": {\"bgcolor\": \"white\", \"lakecolor\": \"white\", \"landcolor\": \"#E5ECF6\", \"showlakes\": true, \"showland\": true, \"subunitcolor\": \"white\"}, \"hoverlabel\": {\"align\": \"left\"}, \"hovermode\": \"closest\", \"mapbox\": {\"style\": \"light\"}, \"paper_bgcolor\": \"white\", \"plot_bgcolor\": \"#E5ECF6\", \"polar\": {\"angularaxis\": {\"gridcolor\": \"white\", \"linecolor\": \"white\", \"ticks\": \"\"}, \"bgcolor\": \"#E5ECF6\", \"radialaxis\": {\"gridcolor\": \"white\", \"linecolor\": \"white\", \"ticks\": \"\"}}, \"scene\": {\"xaxis\": {\"backgroundcolor\": \"#E5ECF6\", \"gridcolor\": \"white\", \"gridwidth\": 2, \"linecolor\": \"white\", \"showbackground\": true, \"ticks\": \"\", \"zerolinecolor\": \"white\"}, \"yaxis\": {\"backgroundcolor\": \"#E5ECF6\", \"gridcolor\": \"white\", \"gridwidth\": 2, \"linecolor\": \"white\", \"showbackground\": true, \"ticks\": \"\", \"zerolinecolor\": \"white\"}, \"zaxis\": {\"backgroundcolor\": \"#E5ECF6\", \"gridcolor\": \"white\", \"gridwidth\": 2, \"linecolor\": \"white\", \"showbackground\": true, \"ticks\": \"\", \"zerolinecolor\": \"white\"}}, \"shapedefaults\": {\"line\": {\"color\": \"#2a3f5f\"}}, \"ternary\": {\"aaxis\": {\"gridcolor\": \"white\", \"linecolor\": \"white\", \"ticks\": \"\"}, \"baxis\": {\"gridcolor\": \"white\", \"linecolor\": \"white\", \"ticks\": \"\"}, \"bgcolor\": \"#E5ECF6\", \"caxis\": {\"gridcolor\": \"white\", \"linecolor\": \"white\", \"ticks\": \"\"}}, \"title\": {\"x\": 0.05}, \"xaxis\": {\"automargin\": true, \"gridcolor\": \"white\", \"linecolor\": \"white\", \"ticks\": \"\", \"title\": {\"standoff\": 15}, \"zerolinecolor\": \"white\", \"zerolinewidth\": 2}, \"yaxis\": {\"automargin\": true, \"gridcolor\": \"white\", \"linecolor\": \"white\", \"ticks\": \"\", \"title\": {\"standoff\": 15}, \"zerolinecolor\": \"white\", \"zerolinewidth\": 2}}}, \"title\": {\"text\": \"Make Sure You Have These Ingredients!\", \"yanchor\": \"top\"}, \"xaxis\": {\"title\": {\"text\": \"Number of Recipes Where Required\"}}, \"yaxis\": {\"title\": {\"text\": \"Ingredient\"}}},                        {\"responsive\": true}                    ).then(function(){\n",
       "                            \n",
       "var gd = document.getElementById('a37f3e2c-da64-4ab5-ab9f-2fb1267517ce');\n",
       "var x = new MutationObserver(function (mutations, observer) {{\n",
       "        var display = window.getComputedStyle(gd).display;\n",
       "        if (!display || display === 'none') {{\n",
       "            console.log([gd, 'removed!']);\n",
       "            Plotly.purge(gd);\n",
       "            observer.disconnect();\n",
       "        }}\n",
       "}});\n",
       "\n",
       "// Listen for the removal of the full notebook cells\n",
       "var notebookContainer = gd.closest('#notebook-container');\n",
       "if (notebookContainer) {{\n",
       "    x.observe(notebookContainer, {childList: true});\n",
       "}}\n",
       "\n",
       "// Listen for the clearing of the current output cell\n",
       "var outputEl = gd.closest('.output');\n",
       "if (outputEl) {{\n",
       "    x.observe(outputEl, {childList: true});\n",
       "}}\n",
       "\n",
       "                        })                };                });            </script>        </div>"
      ]
     },
     "metadata": {},
     "output_type": "display_data"
    }
   ],
   "source": [
    "color = ['rgb(237, 169, 21)']*len(ingredient_count['ingredient'])\n",
    "\n",
    "fig = go.Figure(data=[go.Bar(\n",
    "    y=ingredient_count['ingredient'],\n",
    "    x=ingredient_count['count'],\n",
    "    orientation = 'h',\n",
    "    marker_color = color\n",
    ")])\n",
    "\n",
    "fig.update_layout(\n",
    "    xaxis_title = 'Number of Recipes Where Required',\n",
    "    yaxis_title = 'Ingredient',\n",
    "    title={\n",
    "        'text': \"Make Sure You Have These Ingredients!\",\n",
    "        #'y':0.9,\n",
    "        #'x':0.5,\n",
    "        #'xanchor': 'center',\n",
    "        'yanchor': 'top'},\n",
    "    font = {'family': 'Arial',\n",
    "           'size': 18,\n",
    "           'color': 'rgb(31,33,36)'},\n",
    "    plot_bgcolor = 'rgba(0,0,0,0)',\n",
    "    paper_bgcolor = 'rgba(0,0,0,0)',\n",
    ")\n",
    "\n",
    "fig.show()"
   ]
  }
 ],
 "metadata": {
  "kernelspec": {
   "display_name": "Python 3",
   "language": "python",
   "name": "python3"
  },
  "language_info": {
   "codemirror_mode": {
    "name": "ipython",
    "version": 3
   },
   "file_extension": ".py",
   "mimetype": "text/x-python",
   "name": "python",
   "nbconvert_exporter": "python",
   "pygments_lexer": "ipython3",
   "version": "3.8.3"
  }
 },
 "nbformat": 4,
 "nbformat_minor": 4
}
