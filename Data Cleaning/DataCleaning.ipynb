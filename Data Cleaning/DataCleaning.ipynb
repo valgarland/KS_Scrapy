{
 "cells": [
  {
   "cell_type": "code",
   "execution_count": null,
   "metadata": {
    "scrolled": true
   },
   "outputs": [],
   "source": [
    "import pandas as pd\n",
    "import numpy as np\n",
    "\n",
    "ks_df = pd.read_csv('kitchenstories_30102020.csv')\n",
    "pd.set_option('display.max_columns', 100)\n",
    "#ks_df.head(5)"
   ]
  },
  {
   "cell_type": "code",
   "execution_count": null,
   "metadata": {},
   "outputs": [],
   "source": [
    "#CLEANING LISTS / STRING OF LIST IN THE SCRAPED DATA\n",
    "\n",
    "\n",
    "#ingredient_quantity attribute being modified from string of values to list of float values\n",
    "ingredient_quantity_fixed = []\n",
    "\n",
    "for i in range(len(ks_df['ingredient_quantity'])):\n",
    "    if ks_df['ingredient_quantity'][i][0] == '[':\n",
    "        ingredient_quantity_fixed.append(ks_df['ingredient_quantity'][i].strip('][').split(', '))\n",
    "    else:\n",
    "        ingredient_quantity_fixed.append(ks_df['ingredient_quantity'][i].split(','))\n",
    "\n",
    "[[float(i) for i in f] for f in ingredient_quantity_fixed]\n",
    "ks_df['ingredient_quantity'] = ingredient_quantity_fixed\n",
    "\n",
    "\n",
    "ks_df.ingredient_list = ks_df.ingredient_list.apply(lambda s: s.split(','))\n",
    "\n",
    "ks_df.ingredient_unit = ks_df.ingredient_unit.apply(lambda s: s.split(','))\n",
    "\n",
    "\n",
    "#Utensils attribute being modified from string to list of strings\n",
    "utensils_fixed = []\n",
    "for i in range(len(ks_df['utensils'])):\n",
    "    if type(ks_df['utensils'][i]) == str:\n",
    "        utensils_fixed.append(ks_df['utensils'][i].split(','))\n",
    "    else:\n",
    "        utensils_fixed.append(ks_df['utensils'][i])\n",
    "        \n",
    "ks_df['utensils'] = utensils_fixed"
   ]
  },
  {
   "cell_type": "code",
   "execution_count": null,
   "metadata": {},
   "outputs": [],
   "source": [
    "ks_df.head(5)"
   ]
  },
  {
   "cell_type": "code",
   "execution_count": null,
   "metadata": {},
   "outputs": [],
   "source": [
    "ingredient_length = np.max(ks_df.ingredient_list.apply(lambda x: len(x)))\n",
    "ingredient_length"
   ]
  },
  {
   "cell_type": "code",
   "execution_count": null,
   "metadata": {},
   "outputs": [],
   "source": []
  }
 ],
 "metadata": {
  "kernelspec": {
   "display_name": "Python 3",
   "language": "python",
   "name": "python3"
  },
  "language_info": {
   "codemirror_mode": {
    "name": "ipython",
    "version": 3
   },
   "file_extension": ".py",
   "mimetype": "text/x-python",
   "name": "python",
   "nbconvert_exporter": "python",
   "pygments_lexer": "ipython3",
   "version": "3.8.3"
  }
 },
 "nbformat": 4,
 "nbformat_minor": 4
}
